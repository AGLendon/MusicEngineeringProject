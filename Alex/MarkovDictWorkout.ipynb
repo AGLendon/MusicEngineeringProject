{
 "cells": [
  {
   "cell_type": "code",
   "execution_count": 35,
   "id": "0f4b9021",
   "metadata": {},
   "outputs": [],
   "source": [
    "import random"
   ]
  },
  {
   "cell_type": "code",
   "execution_count": 59,
   "id": "5bb1320c",
   "metadata": {},
   "outputs": [],
   "source": [
    "#listen to notes and record them here\n",
    "#Reset the 'streams'\n",
    "recorded_stream = [70,64, 55, 64, 55,57, 64, 55,57, 64, 69, 66, 69, 64, 55 ,56, 57, 64, 71]\n",
    "recorded_stream = [70,64, 55, 64, 55,57, 64] #test with smaller array\n",
    "\n",
    "model_stream = []"
   ]
  },
  {
   "cell_type": "code",
   "execution_count": 60,
   "id": "0c45febe",
   "metadata": {},
   "outputs": [],
   "source": [
    "def make_markov_model(recorded_stream, n_gram):\n",
    "    markov_model = {}\n",
    "    for i in range(len(recorded_stream)-(n_gram)-1):\n",
    "        curr_state, next_state = [],[]\n",
    "        for j in range(n_gram):\n",
    "            curr_state.append(recorded_stream[i+j])            \n",
    "            ref = i+j\n",
    "            next_state.append(recorded_stream[ref+2])\n",
    "        curr_state = tuple(curr_state)\n",
    "        next_state = tuple(next_state)\n",
    "        if curr_state not in markov_model:\n",
    "            markov_model[curr_state] = {}\n",
    "            markov_model[curr_state][next_state] = 1\n",
    "        else:\n",
    "            if next_state in markov_model[curr_state]:\n",
    "                markov_model[curr_state][next_state] += 1\n",
    "            else:\n",
    "                markov_model[curr_state][next_state] = 1\n",
    "    \n",
    "    #Calculating transition probabilities\n",
    "    for curr_state, transition in markov_model.items():\n",
    "        total = sum(transition.values())\n",
    "        for state, count in transition.items():\n",
    "            markov_model[curr_state][state] = count/total\n",
    "    \n",
    "    return markov_model\n",
    "    "
   ]
  },
  {
   "cell_type": "code",
   "execution_count": 61,
   "id": "774c25c6",
   "metadata": {},
   "outputs": [
    {
     "name": "stdout",
     "output_type": "stream",
     "text": [
      "Number of states = 3\n",
      "{(70, 64): {(55, 64): 1.0}, (64, 55): {(64, 55): 0.5, (57, 64): 0.5}, (55, 64): {(55, 57): 1.0}}\n"
     ]
    }
   ],
   "source": [
    "#Test the model\n",
    "markov_model=make_markov_model(recorded_stream, n_gram = 2)\n",
    "print(\"Number of states =\", len(markov_model))\n",
    "print(markov_model)\n",
    "#print(recorded_stream)\n"
   ]
  },
  {
   "cell_type": "code",
   "execution_count": 42,
   "id": "28903824",
   "metadata": {},
   "outputs": [],
   "source": [
    "n_gram = 2\n"
   ]
  },
  {
   "cell_type": "code",
   "execution_count": 96,
   "id": "d57279d2",
   "metadata": {},
   "outputs": [
    {
     "name": "stdout",
     "output_type": "stream",
     "text": [
      "(55, 57) \n",
      " {(64, 59): 1.0}\n"
     ]
    },
    {
     "data": {
      "image/png": "[encoded data removed]",
      "text/plain": [
       "<Figure size 640x480 with 1 Axes>"
      ]
     },
     "metadata": {},
     "output_type": "display_data"
    },
    {
     "data": {
      "image/png": "[encoded data removed]",
      "text/plain": [
       "<Figure size 640x480 with 1 Axes>"
      ]
     },
     "metadata": {},
     "output_type": "display_data"
    }
   ],
   "source": [
    "from operator import itemgetter\n",
    "import random\n",
    "n=0 #init counter\n",
    "#Change n_gram for better 'context' maybe keep low for a small dataset\n",
    "n_gram = 2 \n",
    "model_stream = []\n",
    "recorded_stream = [70,64, 55, 64, 55,57, 64] \n",
    "model_stream.extend(recorded_stream)\n",
    "markov_model = make_markov_model(recorded_stream, n_gram)  \n",
    "\n",
    "while n < 100: #loop to simulate someone playing in 100 notes\n",
    "    \n",
    "    note = random.randint(min(recorded_stream), max(recorded_stream)) # random note generation within the played freq range\n",
    "    #Find the last n_gram notes played\n",
    "    if n_gram == 1:\n",
    "        lastX = tuple([note])\n",
    "    else :\n",
    "        rec = recorded_stream[-(n_gram-1):]\n",
    "        rec.append(note)       \n",
    "        lastX = tuple(rec)  #Get the last\n",
    "    rand = random.uniform(0,1)\n",
    "    \n",
    "    if lastX in markov_model: #Random selection based on probability of the options in the model        \n",
    "        selec = 0\n",
    "        options = itemgetter(lastX)(markov_model)\n",
    "        for key, value in options.items():\n",
    "            if selec<rand:    #random selection of next note\n",
    "                next = key[1] #add the model produced note                \n",
    "            selec += value\n",
    "    else:\n",
    "        next = note #Add the note played\n",
    "    \n",
    "    \n",
    "    recorded_stream.append(note)#update list of played notes\n",
    "    model_stream.append(next)#update list of model produced notes\n",
    "    markov_model = make_markov_model(recorded_stream, n_gram)  \n",
    "    n+=1    \n",
    "\n",
    "#Just an example with random inputs and see what probabilities on output we get\n",
    "randSelect = random.randint(0,len(recorded_stream))\n",
    "enter = tuple(recorded_stream[randSelect:randSelect+n_gram]) #enter an input from the recorded stream\n",
    "\n",
    "print(enter,'\\n',markov_model[enter]) #see probs of what could come next\n",
    "#print(len(recorded_stream) - len(model_stream))\n",
    "\n",
    "import numpy as np\n",
    "import matplotlib.pyplot as plt\n",
    "\n",
    "n, bins, patches = plt.hist(model_stream)\n",
    "plt.show()\n",
    "\n",
    "n, bins, patches = plt.hist(recorded_stream)\n",
    "plt.show()"
   ]
  },
  {
   "cell_type": "code",
   "execution_count": 83,
   "id": "386c0aac",
   "metadata": {},
   "outputs": [
    {
     "name": "stdout",
     "output_type": "stream",
     "text": [
      "[70, 64, 55, 64, 55, 57, 64, 55, 60, 68, 64, 63, 63, 66, 56, 58, 63, 61, 61, 69, 68, 57, 66, 61, 56, 70, 66, 58, 66, 65, 69, 67, 59, 62, 57, 68, 67, 56, 57, 57, 65, 68, 65, 59, 66, 69, 69, 66, 56, 69, 67, 62, 59, 63, 59, 55, 62, 64, 59, 67, 56, 65, 55, 56, 69, 57, 58, 62, 57, 70, 64, 66, 70, 69, 61, 56, 69, 63, 63, 59, 64, 55, 67, 58, 62, 64, 67, 59, 56, 55, 61, 62, 65, 60, 63, 68, 67, 62, 64, 57, 57, 55, 64, 66, 70, 65, 63] \n",
      " [70, 64, 55, 64, 55, 57, 64, 64, 60, 68, 64, 63, 63, 66, 56, 58, 63, 61, 61, 69, 68, 57, 66, 61, 56, 70, 66, 58, 66, 65, 69, 67, 59, 62, 57, 68, 67, 56, 57, 57, 65, 68, 65, 59, 66, 69, 69, 66, 63, 69, 62, 62, 59, 63, 59, 55, 62, 64, 59, 67, 57, 65, 55, 56, 62, 57, 58, 62, 67, 70, 64, 66, 70, 69, 61, 66, 58, 63, 56, 62, 64, 68, 67, 58, 70, 67, 67, 57, 56, 55, 61, 62, 65, 60, 63, 68, 57, 63, 59, 57, 68, 55, 57, 69, 61, 65, 63]\n"
     ]
    }
   ],
   "source": [
    "print(recorded_stream, '\\n',model_stream)"
   ]
  },
  {
   "cell_type": "code",
   "execution_count": null,
   "id": "640f9d64",
   "metadata": {},
   "outputs": [],
   "source": []
  }
 ],
 "metadata": {
  "kernelspec": {
   "display_name": "Python 3 (ipykernel)",
   "language": "python",
   "name": "python3"
  },
  "language_info": {
   "codemirror_mode": {
    "name": "ipython",
    "version": 3
   },
   "file_extension": ".py",
   "mimetype": "text/x-python",
   "name": "python",
   "nbconvert_exporter": "python",
   "pygments_lexer": "ipython3",
   "version": "3.10.9"
  }
 },
 "nbformat": 4,
 "nbformat_minor": 5
}
