{
 "cells": [
  {
   "cell_type": "code",
   "execution_count": null,
   "id": "991a935b",
   "metadata": {},
   "outputs": [],
   "source": [
    "\"\"\"\n",
    "multi_pipe.py\n",
    "\"\"\"\n",
    "from multiprocessing import Process, Pipe\n",
    "import time\n",
    "\n",
    "def reader_proc(pipe):\n",
    "    ## Read from the pipe; this will be spawned as a separate Process\n",
    "    p_output, p_input = pipe\n",
    "    p_input.close()    # We are only reading\n",
    "    while True:\n",
    "        msg = p_output.recv()    # Read from the output pipe and do nothing\n",
    "        if msg=='DONE':\n",
    "            break\n",
    "\n",
    "def writer(count, p_input):\n",
    "    for ii in range(0, count):\n",
    "        p_input.send(ii)             # Write 'count' numbers into the input pipe\n",
    "    p_input.send('DONE')\n",
    "\n",
    "if __name__=='__main__':\n",
    "    for count in [10**4, 10**5, 10**6]:\n",
    "        # Pipes are unidirectional with two endpoints:  p_input ------> p_output\n",
    "        p_output, p_input = Pipe()  # writer() writes to p_input from _this_ process\n",
    "        reader_p = Process(target=reader_proc, args=((p_output, p_input),))\n",
    "        reader_p.daemon = True\n",
    "        reader_p.start()     # Launch the reader process\n",
    "\n",
    "        p_output.close()       # We no longer need this part of the Pipe()\n",
    "        _start = time.time()\n",
    "        writer(count, p_input) # Send a lot of stuff to reader_proc()\n",
    "        p_input.close()\n",
    "        reader_p.join()\n",
    "        print(\"Sending {0} numbers to Pipe() took {1} seconds\".format(count,\n",
    "            (time.time() - _start)))"
   ]
  },
  {
   "cell_type": "code",
   "execution_count": null,
   "id": "6d1fddf9",
   "metadata": {},
   "outputs": [],
   "source": []
  }
 ],
 "metadata": {
  "kernelspec": {
   "display_name": "Python 3 (ipykernel)",
   "language": "python",
   "name": "python3"
  },
  "language_info": {
   "codemirror_mode": {
    "name": "ipython",
    "version": 3
   },
   "file_extension": ".py",
   "mimetype": "text/x-python",
   "name": "python",
   "nbconvert_exporter": "python",
   "pygments_lexer": "ipython3",
   "version": "3.9.5"
  }
 },
 "nbformat": 4,
 "nbformat_minor": 5
}
