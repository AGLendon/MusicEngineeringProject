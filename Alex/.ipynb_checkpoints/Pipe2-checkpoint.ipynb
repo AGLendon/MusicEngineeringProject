{
 "cells": [
  {
   "cell_type": "code",
   "execution_count": null,
   "id": "bb2455e2",
   "metadata": {},
   "outputs": [],
   "source": [
    "pip install multiprocess"
   ]
  },
  {
   "cell_type": "code",
   "execution_count": null,
   "id": "de8b3095",
   "metadata": {},
   "outputs": [],
   "source": [
    "from multiprocess import Process,Queue,Pipe\n",
    "from MIDITest import f\n",
    "\n",
    "if __name__ == '__main__':\n",
    "    parent_conn,child_conn = Pipe()\n",
    "    p = Process(target=f, args=(child_conn,))\n",
    "    p.start()\n",
    "    input = parent_conn.recv()   # prints \"Hello\"\n",
    "    print(input)"
   ]
  },
  {
   "cell_type": "code",
   "execution_count": null,
   "id": "ee7ec710",
   "metadata": {},
   "outputs": [],
   "source": []
  }
 ],
 "metadata": {
  "kernelspec": {
   "display_name": "Python 3 (ipykernel)",
   "language": "python",
   "name": "python3"
  },
  "language_info": {
   "codemirror_mode": {
    "name": "ipython",
    "version": 3
   },
   "file_extension": ".py",
   "mimetype": "text/x-python",
   "name": "python",
   "nbconvert_exporter": "python",
   "pygments_lexer": "ipython3",
   "version": "3.10.9"
  }
 },
 "nbformat": 4,
 "nbformat_minor": 5
}
