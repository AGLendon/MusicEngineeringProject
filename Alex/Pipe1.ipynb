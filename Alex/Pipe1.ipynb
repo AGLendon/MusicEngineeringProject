{
 "cells": [
  {
   "cell_type": "code",
   "execution_count": 8,
   "id": "c8a0c2a8",
   "metadata": {},
   "outputs": [
    {
     "name": "stdout",
     "output_type": "stream",
     "text": [
      "Defaulting to user installation because normal site-packages is not writeable\n",
      "Collecting multiprocess\n",
      "  Downloading multiprocess-0.70.14-py310-none-any.whl (134 kB)\n",
      "     -------------------------------------- 134.3/134.3 kB 4.0 MB/s eta 0:00:00\n",
      "Requirement already satisfied: dill>=0.3.6 in c:\\programdata\\anaconda3\\lib\\site-packages (from multiprocess) (0.3.6)\n",
      "Installing collected packages: multiprocess\n",
      "Successfully installed multiprocess-0.70.14\n",
      "Note: you may need to restart the kernel to use updated packages.\n"
     ]
    }
   ],
   "source": [
    "pip install multiprocess"
   ]
  },
  {
   "cell_type": "code",
   "execution_count": 13,
   "id": "b92ab780",
   "metadata": {},
   "outputs": [],
   "source": [
    "from multiprocess import Process,Pipe\n",
    "\n",
    "def f(child_conn):\n",
    "    \n",
    "    msg = (3,4,5)\n",
    "    child_conn.send(msg)\n",
    "    child_conn.close()"
   ]
  },
  {
   "cell_type": "code",
   "execution_count": null,
   "id": "db903351",
   "metadata": {},
   "outputs": [],
   "source": []
  },
  {
   "cell_type": "code",
   "execution_count": null,
   "id": "f3667a3e",
   "metadata": {},
   "outputs": [],
   "source": []
  }
 ],
 "metadata": {
  "kernelspec": {
   "display_name": "Python 3 (ipykernel)",
   "language": "python",
   "name": "python3"
  },
  "language_info": {
   "codemirror_mode": {
    "name": "ipython",
    "version": 3
   },
   "file_extension": ".py",
   "mimetype": "text/x-python",
   "name": "python",
   "nbconvert_exporter": "python",
   "pygments_lexer": "ipython3",
   "version": "3.10.9"
  }
 },
 "nbformat": 4,
 "nbformat_minor": 5
}
