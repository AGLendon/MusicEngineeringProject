{
 "cells": [
  {
   "cell_type": "markdown",
   "metadata": {
    "colab_type": "text",
    "id": "view-in-github"
   },
   "source": [
    "<a href=\"https://colab.research.google.com/github/AGLendon/MusicEngineeringProject/blob/main/ME_RNN.ipynb\" target=\"_parent\"><img src=\"https://colab.research.google.com/assets/colab-badge.svg\" alt=\"Open In Colab\"/></a>"
   ]
  },
  {
   "cell_type": "code",
   "execution_count": 1,
   "metadata": {
    "colab": {
     "base_uri": "https://localhost:8080/"
    },
    "id": "RoE22WnyBpIe",
    "outputId": "53487d7e-f8be-409f-983c-74b865767979"
   },
   "outputs": [
    {
     "name": "stdout",
     "output_type": "stream",
     "text": [
      "Defaulting to user installation because normal site-packages is not writeable\n",
      "Requirement already satisfied: pyyaml in c:\\programdata\\anaconda3\\lib\\site-packages (6.0)\n",
      "Requirement already satisfied: h5py in c:\\programdata\\anaconda3\\lib\\site-packages (3.7.0)\n",
      "Requirement already satisfied: numpy>=1.14.5 in c:\\programdata\\anaconda3\\lib\\site-packages (from h5py) (1.23.5)\n"
     ]
    }
   ],
   "source": [
    "!pip install pyyaml h5py "
   ]
  },
  {
   "cell_type": "code",
   "execution_count": 2,
   "metadata": {
    "colab": {
     "base_uri": "https://localhost:8080/"
    },
    "id": "xRxvKDF3-g93",
    "outputId": "347f5d25-9f6a-4a86-9f4e-b0be83c8af15"
   },
   "outputs": [
    {
     "name": "stdout",
     "output_type": "stream",
     "text": [
      "Defaulting to user installation because normal site-packages is not writeable\n",
      "Requirement already satisfied: fluidsynth in c:\\users\\lendo\\appdata\\roaming\\python\\python310\\site-packages (0.2)\n"
     ]
    }
   ],
   "source": [
    "!pip install fluidsynth"
   ]
  },
  {
   "cell_type": "code",
   "execution_count": 3,
   "metadata": {
    "colab": {
     "base_uri": "https://localhost:8080/"
    },
    "id": "e9fCY80m-jWA",
    "outputId": "112ed68e-a5a3-4122-a669-390187247fc7"
   },
   "outputs": [
    {
     "name": "stdout",
     "output_type": "stream",
     "text": [
      "Defaulting to user installation because normal site-packages is not writeable\n",
      "Requirement already satisfied: pretty_midi in c:\\users\\lendo\\appdata\\roaming\\python\\python310\\site-packages (0.2.10)\n",
      "Requirement already satisfied: six in c:\\programdata\\anaconda3\\lib\\site-packages (from pretty_midi) (1.16.0)\n",
      "Requirement already satisfied: numpy>=1.7.0 in c:\\programdata\\anaconda3\\lib\\site-packages (from pretty_midi) (1.23.5)\n",
      "Requirement already satisfied: mido>=1.1.16 in c:\\users\\lendo\\appdata\\roaming\\python\\python310\\site-packages (from pretty_midi) (1.2.10)\n"
     ]
    }
   ],
   "source": [
    "!pip install pretty_midi"
   ]
  },
  {
   "cell_type": "code",
   "execution_count": 4,
   "metadata": {
    "id": "Gc_90AaACAGb"
   },
   "outputs": [],
   "source": [
    "import collections\n",
    "import datetime\n",
    "import fluidsynth\n",
    "import glob\n",
    "import numpy as np\n",
    "import pathlib\n",
    "import pandas as pd\n",
    "import pretty_midi\n",
    "import seaborn as sns\n",
    "import tensorflow as tf\n",
    "\n",
    "from IPython import display\n",
    "from matplotlib import pyplot as plt\n",
    "from typing import Dict, List, Optional, Sequence, Tuple"
   ]
  },
  {
   "cell_type": "code",
   "execution_count": 5,
   "metadata": {
    "id": "gzHoXQ8IC2Ut"
   },
   "outputs": [],
   "source": [
    "seed = 42\n",
    "tf.random.set_seed(seed)\n",
    "np.random.seed(seed)\n",
    "\n",
    "# Sampling rate for audio playback\n",
    "_SAMPLING_RATE = 16000"
   ]
  },
  {
   "cell_type": "code",
   "execution_count": 6,
   "metadata": {
    "id": "QCwU9RmMC86n"
   },
   "outputs": [
    {
     "name": "stdout",
     "output_type": "stream",
     "text": [
      "Downloading data from https://storage.googleapis.com/magentadata/datasets/maestro/v2.0.0/maestro-v2.0.0-midi.zip\n",
      "59243107/59243107 [==============================] - 46s 1us/step\n"
     ]
    }
   ],
   "source": [
    "data_dir = pathlib.Path('data/maestro-v2.0.0')\n",
    "if not data_dir.exists():\n",
    "  tf.keras.utils.get_file(\n",
    "      'maestro-v2.0.0-midi.zip',\n",
    "      origin='https://storage.googleapis.com/magentadata/datasets/maestro/v2.0.0/maestro-v2.0.0-midi.zip',\n",
    "      extract=True,\n",
    "      cache_dir='.', cache_subdir='data',\n",
    "  )\n",
    "\n",
    "#data_dir = pathlib.Path('/content/En_A')"
   ]
  },
  {
   "cell_type": "code",
   "execution_count": null,
   "metadata": {
    "id": "WtYIktjK9CoJ"
   },
   "outputs": [],
   "source": []
  },
  {
   "cell_type": "code",
   "execution_count": 7,
   "metadata": {
    "colab": {
     "base_uri": "https://localhost:8080/"
    },
    "id": "QYAyF1MNDAQJ",
    "outputId": "94b32b29-f0ee-4d78-ed8f-c7ccba0e37a6"
   },
   "outputs": [
    {
     "name": "stdout",
     "output_type": "stream",
     "text": [
      "['data\\\\maestro-v2.0.0\\\\2004\\\\MIDI-Unprocessed_SMF_02_R1_2004_01-05_ORIG_MID--AUDIO_02_R1_2004_05_Track05_wav.midi', 'data\\\\maestro-v2.0.0\\\\2004\\\\MIDI-Unprocessed_SMF_02_R1_2004_01-05_ORIG_MID--AUDIO_02_R1_2004_06_Track06_wav.midi', 'data\\\\maestro-v2.0.0\\\\2004\\\\MIDI-Unprocessed_SMF_02_R1_2004_01-05_ORIG_MID--AUDIO_02_R1_2004_08_Track08_wav.midi', 'data\\\\maestro-v2.0.0\\\\2004\\\\MIDI-Unprocessed_SMF_02_R1_2004_01-05_ORIG_MID--AUDIO_02_R1_2004_10_Track10_wav.midi', 'data\\\\maestro-v2.0.0\\\\2004\\\\MIDI-Unprocessed_SMF_05_R1_2004_01_ORIG_MID--AUDIO_05_R1_2004_02_Track02_wav.midi', 'data\\\\maestro-v2.0.0\\\\2004\\\\MIDI-Unprocessed_SMF_05_R1_2004_01_ORIG_MID--AUDIO_05_R1_2004_03_Track03_wav.midi', 'data\\\\maestro-v2.0.0\\\\2004\\\\MIDI-Unprocessed_SMF_05_R1_2004_02-03_ORIG_MID--AUDIO_05_R1_2004_06_Track06_wav.midi', 'data\\\\maestro-v2.0.0\\\\2004\\\\MIDI-Unprocessed_SMF_07_R1_2004_01_ORIG_MID--AUDIO_07_R1_2004_02_Track02_wav.midi', 'data\\\\maestro-v2.0.0\\\\2004\\\\MIDI-Unprocessed_SMF_07_R1_2004_01_ORIG_MID--AUDIO_07_R1_2004_04_Track04_wav.midi', 'data\\\\maestro-v2.0.0\\\\2004\\\\MIDI-Unprocessed_SMF_07_R1_2004_01_ORIG_MID--AUDIO_07_R1_2004_06_Track06_wav.midi', 'data\\\\maestro-v2.0.0\\\\2004\\\\MIDI-Unprocessed_SMF_07_R1_2004_01_ORIG_MID--AUDIO_07_R1_2004_12_Track12_wav.midi', 'data\\\\maestro-v2.0.0\\\\2004\\\\MIDI-Unprocessed_SMF_12_01_2004_01-05_ORIG_MID--AUDIO_12_R1_2004_03_Track03_wav--1.midi', 'data\\\\maestro-v2.0.0\\\\2004\\\\MIDI-Unprocessed_SMF_12_01_2004_01-05_ORIG_MID--AUDIO_12_R1_2004_07_Track07_wav.midi', 'data\\\\maestro-v2.0.0\\\\2004\\\\MIDI-Unprocessed_SMF_12_01_2004_01-05_ORIG_MID--AUDIO_12_R1_2004_08_Track08_wav.midi', 'data\\\\maestro-v2.0.0\\\\2004\\\\MIDI-Unprocessed_SMF_12_01_2004_01-05_ORIG_MID--AUDIO_12_R1_2004_09_Track09_wav.midi', 'data\\\\maestro-v2.0.0\\\\2004\\\\MIDI-Unprocessed_SMF_12_01_2004_01-05_ORIG_MID--AUDIO_12_R1_2004_10_Track10_wav.midi', 'data\\\\maestro-v2.0.0\\\\2004\\\\MIDI-Unprocessed_SMF_13_01_2004_01-05_ORIG_MID--AUDIO_13_R1_2004_02_Track02_wav.midi', 'data\\\\maestro-v2.0.0\\\\2004\\\\MIDI-Unprocessed_SMF_13_01_2004_01-05_ORIG_MID--AUDIO_13_R1_2004_05_Track05_wav.midi', 'data\\\\maestro-v2.0.0\\\\2004\\\\MIDI-Unprocessed_SMF_13_01_2004_01-05_ORIG_MID--AUDIO_13_R1_2004_08_Track08_wav.midi', 'data\\\\maestro-v2.0.0\\\\2004\\\\MIDI-Unprocessed_SMF_13_01_2004_01-05_ORIG_MID--AUDIO_13_R1_2004_09_Track09_wav.midi', 'data\\\\maestro-v2.0.0\\\\2004\\\\MIDI-Unprocessed_SMF_13_01_2004_01-05_ORIG_MID--AUDIO_13_R1_2004_10_Track10_wav.midi', 'data\\\\maestro-v2.0.0\\\\2004\\\\MIDI-Unprocessed_SMF_13_01_2004_01-05_ORIG_MID--AUDIO_13_R1_2004_12_Track12_wav.midi', 'data\\\\maestro-v2.0.0\\\\2004\\\\MIDI-Unprocessed_SMF_16_R1_2004_01-08_ORIG_MID--AUDIO_16_R1_2004_02_Track02_wav.midi', 'data\\\\maestro-v2.0.0\\\\2004\\\\MIDI-Unprocessed_SMF_16_R1_2004_01-08_ORIG_MID--AUDIO_16_R1_2004_03_Track03_wav.midi', 'data\\\\maestro-v2.0.0\\\\2004\\\\MIDI-Unprocessed_SMF_16_R1_2004_01-08_ORIG_MID--AUDIO_16_R1_2004_04_Track04_wav.midi', 'data\\\\maestro-v2.0.0\\\\2004\\\\MIDI-Unprocessed_SMF_16_R1_2004_01-08_ORIG_MID--AUDIO_16_R1_2004_05_Track05_wav.midi', 'data\\\\maestro-v2.0.0\\\\2004\\\\MIDI-Unprocessed_SMF_16_R1_2004_01-08_ORIG_MID--AUDIO_16_R1_2004_06_Track06_wav.midi', 'data\\\\maestro-v2.0.0\\\\2004\\\\MIDI-Unprocessed_SMF_16_R1_2004_01-08_ORIG_MID--AUDIO_16_R1_2004_08_Track08_wav.midi', 'data\\\\maestro-v2.0.0\\\\2004\\\\MIDI-Unprocessed_SMF_16_R1_2004_01-08_ORIG_MID--AUDIO_16_R1_2004_13_Track13_wav.midi', 'data\\\\maestro-v2.0.0\\\\2004\\\\MIDI-Unprocessed_SMF_17_R1_2004_01-02_ORIG_MID--AUDIO_20_R2_2004_02_Track02_wav.midi', 'data\\\\maestro-v2.0.0\\\\2004\\\\MIDI-Unprocessed_SMF_17_R1_2004_01-02_ORIG_MID--AUDIO_20_R2_2004_04_Track04_wav.midi', 'data\\\\maestro-v2.0.0\\\\2004\\\\MIDI-Unprocessed_SMF_17_R1_2004_01-02_ORIG_MID--AUDIO_20_R2_2004_06_Track06_wav.midi', 'data\\\\maestro-v2.0.0\\\\2004\\\\MIDI-Unprocessed_SMF_17_R1_2004_01-03_ORIG_MID--AUDIO_17_R1_2004_02_Track02_wav--1.midi', 'data\\\\maestro-v2.0.0\\\\2004\\\\MIDI-Unprocessed_SMF_17_R1_2004_01-03_ORIG_MID--AUDIO_17_R1_2004_02_Track02_wav--2.midi', 'data\\\\maestro-v2.0.0\\\\2004\\\\MIDI-Unprocessed_SMF_17_R1_2004_01-03_ORIG_MID--AUDIO_17_R1_2004_03_Track03_wav.midi', 'data\\\\maestro-v2.0.0\\\\2004\\\\MIDI-Unprocessed_SMF_17_R1_2004_01-03_ORIG_MID--AUDIO_17_R1_2004_06_Track06_wav.midi', 'data\\\\maestro-v2.0.0\\\\2004\\\\MIDI-Unprocessed_SMF_17_R1_2004_03-06_ORIG_MID--AUDIO_20_R2_2004_08_Track08_wav.midi', 'data\\\\maestro-v2.0.0\\\\2004\\\\MIDI-Unprocessed_SMF_17_R1_2004_03-06_ORIG_MID--AUDIO_20_R2_2004_12_Track12_wav--1.midi', 'data\\\\maestro-v2.0.0\\\\2004\\\\MIDI-Unprocessed_SMF_17_R1_2004_03-06_ORIG_MID--AUDIO_20_R2_2004_12_Track12_wav--2.midi', 'data\\\\maestro-v2.0.0\\\\2004\\\\MIDI-Unprocessed_SMF_17_R1_2004_04_ORIG_MID--AUDIO_17_R1_2004_09_Track09_wav.midi', 'data\\\\maestro-v2.0.0\\\\2004\\\\MIDI-Unprocessed_SMF_17_R1_2004_04_ORIG_MID--AUDIO_17_R1_2004_11_Track11_wav.midi', 'data\\\\maestro-v2.0.0\\\\2004\\\\MIDI-Unprocessed_SMF_22_R1_2004_01-04_ORIG_MID--AUDIO_22_R1_2004_03_Track03_wav.midi', 'data\\\\maestro-v2.0.0\\\\2004\\\\MIDI-Unprocessed_SMF_22_R1_2004_01-04_ORIG_MID--AUDIO_22_R1_2004_05_Track05_wav.midi', 'data\\\\maestro-v2.0.0\\\\2004\\\\MIDI-Unprocessed_SMF_22_R1_2004_01-04_ORIG_MID--AUDIO_22_R1_2004_10_Track10_wav.midi', 'data\\\\maestro-v2.0.0\\\\2004\\\\MIDI-Unprocessed_SMF_22_R1_2004_01-04_ORIG_MID--AUDIO_22_R1_2004_17_Track17_wav.midi', 'data\\\\maestro-v2.0.0\\\\2004\\\\MIDI-Unprocessed_XP_01_R1_2004_01-02_ORIG_MID--AUDIO_01_R1_2004_02_Track02_wav.midi', 'data\\\\maestro-v2.0.0\\\\2004\\\\MIDI-Unprocessed_XP_01_R1_2004_01-02_ORIG_MID--AUDIO_01_R1_2004_03_Track03_wav.midi', 'data\\\\maestro-v2.0.0\\\\2004\\\\MIDI-Unprocessed_XP_01_R1_2004_03_ORIG_MID--AUDIO_01_R1_2004_04_Track04_wav.midi', 'data\\\\maestro-v2.0.0\\\\2004\\\\MIDI-Unprocessed_XP_01_R1_2004_04-05_ORIG_MID--AUDIO_01_R1_2004_05_Track05_wav.midi', 'data\\\\maestro-v2.0.0\\\\2004\\\\MIDI-Unprocessed_XP_01_R1_2004_04-05_ORIG_MID--AUDIO_01_R1_2004_06_Track06_wav.midi', 'data\\\\maestro-v2.0.0\\\\2004\\\\MIDI-Unprocessed_XP_03_R1_2004_01-02_ORIG_MID--AUDIO_03_R1_2004_01_Track01_wav.midi', 'data\\\\maestro-v2.0.0\\\\2004\\\\MIDI-Unprocessed_XP_03_R1_2004_01-02_ORIG_MID--AUDIO_03_R1_2004_02_Track02_wav.midi', 'data\\\\maestro-v2.0.0\\\\2004\\\\MIDI-Unprocessed_XP_04_R1_2004_01-02_ORIG_MID--AUDIO_04_R1_2004_01_Track01_wav.midi', 'data\\\\maestro-v2.0.0\\\\2004\\\\MIDI-Unprocessed_XP_04_R1_2004_01-02_ORIG_MID--AUDIO_04_R1_2004_02_Track02_wav.midi', 'data\\\\maestro-v2.0.0\\\\2004\\\\MIDI-Unprocessed_XP_04_R1_2004_03-05_ORIG_MID--AUDIO_04_R1_2004_04_Track04_wav.midi', 'data\\\\maestro-v2.0.0\\\\2004\\\\MIDI-Unprocessed_XP_04_R1_2004_03-05_ORIG_MID--AUDIO_04_R1_2004_05_Track05_wav.midi', 'data\\\\maestro-v2.0.0\\\\2004\\\\MIDI-Unprocessed_XP_04_R1_2004_03-05_ORIG_MID--AUDIO_04_R1_2004_06_Track06_wav.midi', 'data\\\\maestro-v2.0.0\\\\2004\\\\MIDI-Unprocessed_XP_04_R1_2004_06_ORIG_MID--AUDIO_04_R1_2004_08_Track08_wav.midi', 'data\\\\maestro-v2.0.0\\\\2004\\\\MIDI-Unprocessed_XP_04_R2_2004_01_ORIG_MID--AUDIO_04_R2_2004_01_Track01_wav.midi', 'data\\\\maestro-v2.0.0\\\\2004\\\\MIDI-Unprocessed_XP_04_R2_2004_01_ORIG_MID--AUDIO_04_R2_2004_02_Track02_wav.midi', 'data\\\\maestro-v2.0.0\\\\2004\\\\MIDI-Unprocessed_XP_06_R1_2004_01_ORIG_MID--AUDIO_06_R1_2004_01_Track01_wav.midi', 'data\\\\maestro-v2.0.0\\\\2004\\\\MIDI-Unprocessed_XP_06_R1_2004_02-03_ORIG_MID--AUDIO_06_R1_2004_05_Track05_wav.midi', 'data\\\\maestro-v2.0.0\\\\2004\\\\MIDI-Unprocessed_XP_06_R2_2004_01_ORIG_MID--AUDIO_06_R2_2004_01_Track01_wav.midi', 'data\\\\maestro-v2.0.0\\\\2004\\\\MIDI-Unprocessed_XP_06_R2_2004_01_ORIG_MID--AUDIO_06_R2_2004_02_Track02_wav.midi', 'data\\\\maestro-v2.0.0\\\\2004\\\\MIDI-Unprocessed_XP_06_R2_2004_01_ORIG_MID--AUDIO_06_R2_2004_03_Track03_wav.midi', 'data\\\\maestro-v2.0.0\\\\2004\\\\MIDI-Unprocessed_XP_08_R1_2004_01-02_ORIG_MID--AUDIO_08_R1_2004_01_Track01_wav.midi', 'data\\\\maestro-v2.0.0\\\\2004\\\\MIDI-Unprocessed_XP_08_R1_2004_01-02_ORIG_MID--AUDIO_08_R1_2004_02_Track02_wav.midi', 'data\\\\maestro-v2.0.0\\\\2004\\\\MIDI-Unprocessed_XP_08_R1_2004_03_ORIG_MID--AUDIO_08_R1_2004_03_Track03_wav.midi', 'data\\\\maestro-v2.0.0\\\\2004\\\\MIDI-Unprocessed_XP_08_R1_2004_04-06_ORIG_MID--AUDIO_08_R1_2004_04_Track04_wav.midi', 'data\\\\maestro-v2.0.0\\\\2004\\\\MIDI-Unprocessed_XP_08_R1_2004_04-06_ORIG_MID--AUDIO_08_R1_2004_05_Track05_wav--1.midi', 'data\\\\maestro-v2.0.0\\\\2004\\\\MIDI-Unprocessed_XP_08_R1_2004_04-06_ORIG_MID--AUDIO_08_R1_2004_05_Track05_wav--2.midi', 'data\\\\maestro-v2.0.0\\\\2004\\\\MIDI-Unprocessed_XP_09_R1_2004_01-02_ORIG_MID--AUDIO_09_R1_2004_01_Track01_wav.midi', 'data\\\\maestro-v2.0.0\\\\2004\\\\MIDI-Unprocessed_XP_09_R1_2004_01-02_ORIG_MID--AUDIO_09_R1_2004_02_Track02_wav.midi', 'data\\\\maestro-v2.0.0\\\\2004\\\\MIDI-Unprocessed_XP_09_R1_2004_01-02_ORIG_MID--AUDIO_09_R1_2004_03_Track03_wav.midi', 'data\\\\maestro-v2.0.0\\\\2004\\\\MIDI-Unprocessed_XP_09_R1_2004_05_ORIG_MID--AUDIO_09_R1_2004_06_Track06_wav.midi', 'data\\\\maestro-v2.0.0\\\\2004\\\\MIDI-Unprocessed_XP_09_R1_2004_05_ORIG_MID--AUDIO_09_R1_2004_07_Track07_wav.midi', 'data\\\\maestro-v2.0.0\\\\2004\\\\MIDI-Unprocessed_XP_09_R1_2004_05_ORIG_MID--AUDIO_09_R1_2004_08_Track08_wav.midi', 'data\\\\maestro-v2.0.0\\\\2004\\\\MIDI-Unprocessed_XP_10_R1_2004_01-02_ORIG_MID--AUDIO_10_R1_2004_01_Track01_wav.midi', 'data\\\\maestro-v2.0.0\\\\2004\\\\MIDI-Unprocessed_XP_10_R1_2004_01-02_ORIG_MID--AUDIO_10_R1_2004_02_Track02_wav.midi', 'data\\\\maestro-v2.0.0\\\\2004\\\\MIDI-Unprocessed_XP_10_R1_2004_03-04_ORIG_MID--AUDIO_10_R1_2004_03_Track03_wav.midi', 'data\\\\maestro-v2.0.0\\\\2004\\\\MIDI-Unprocessed_XP_10_R1_2004_05_ORIG_MID--AUDIO_10_R1_2004_05_Track05_wav.midi', 'data\\\\maestro-v2.0.0\\\\2004\\\\MIDI-Unprocessed_XP_11_R1_2004_01-02_ORIG_MID--AUDIO_11_R1_2004_01_Track01_wav.midi', 'data\\\\maestro-v2.0.0\\\\2004\\\\MIDI-Unprocessed_XP_11_R1_2004_01-02_ORIG_MID--AUDIO_11_R1_2004_02_Track02_wav.midi', 'data\\\\maestro-v2.0.0\\\\2004\\\\MIDI-Unprocessed_XP_11_R1_2004_03-04_ORIG_MID--AUDIO_11_R1_2004_03_Track03_wav.midi', 'data\\\\maestro-v2.0.0\\\\2004\\\\MIDI-Unprocessed_XP_11_R1_2004_03-04_ORIG_MID--AUDIO_11_R1_2004_04_Track04_wav.midi', 'data\\\\maestro-v2.0.0\\\\2004\\\\MIDI-Unprocessed_XP_14_R1_2004_01-03_ORIG_MID--AUDIO_14_R1_2004_01_Track01_wav.midi', 'data\\\\maestro-v2.0.0\\\\2004\\\\MIDI-Unprocessed_XP_14_R1_2004_01-03_ORIG_MID--AUDIO_14_R1_2004_03_Track03_wav.midi', 'data\\\\maestro-v2.0.0\\\\2004\\\\MIDI-Unprocessed_XP_14_R1_2004_04_ORIG_MID--AUDIO_14_R1_2004_04_Track04_wav.midi', 'data\\\\maestro-v2.0.0\\\\2004\\\\MIDI-Unprocessed_XP_14_R1_2004_04_ORIG_MID--AUDIO_14_R1_2004_05_Track05_wav.midi', 'data\\\\maestro-v2.0.0\\\\2004\\\\MIDI-Unprocessed_XP_14_R1_2004_04_ORIG_MID--AUDIO_14_R1_2004_06_Track06_wav.midi', 'data\\\\maestro-v2.0.0\\\\2004\\\\MIDI-Unprocessed_XP_14_R2_2004_01_ORIG_MID--AUDIO_14_R2_2004_01_Track01_wav.midi', 'data\\\\maestro-v2.0.0\\\\2004\\\\MIDI-Unprocessed_XP_14_R2_2004_01_ORIG_MID--AUDIO_14_R2_2004_02_Track02_wav.midi', 'data\\\\maestro-v2.0.0\\\\2004\\\\MIDI-Unprocessed_XP_14_R2_2004_01_ORIG_MID--AUDIO_14_R2_2004_03_Track03_wav.midi', 'data\\\\maestro-v2.0.0\\\\2004\\\\MIDI-Unprocessed_XP_14_R2_2004_01_ORIG_MID--AUDIO_14_R2_2004_04_Track04_wav.midi', 'data\\\\maestro-v2.0.0\\\\2004\\\\MIDI-Unprocessed_XP_15_R1_2004_01-02_ORIG_MID--AUDIO_15_R1_2004_01_Track01_wav.midi', 'data\\\\maestro-v2.0.0\\\\2004\\\\MIDI-Unprocessed_XP_15_R1_2004_01-02_ORIG_MID--AUDIO_15_R1_2004_02_Track02_wav.midi', 'data\\\\maestro-v2.0.0\\\\2004\\\\MIDI-Unprocessed_XP_15_R1_2004_03_ORIG_MID--AUDIO_15_R1_2004_03_Track03_wav.midi', 'data\\\\maestro-v2.0.0\\\\2004\\\\MIDI-Unprocessed_XP_15_R1_2004_04_ORIG_MID--AUDIO_15_R1_2004_04_Track04_wav.midi', 'data\\\\maestro-v2.0.0\\\\2004\\\\MIDI-Unprocessed_XP_15_R2_2004_01_ORIG_MID--AUDIO_15_R2_2004_01_Track01_wav.midi', 'data\\\\maestro-v2.0.0\\\\2004\\\\MIDI-Unprocessed_XP_15_R2_2004_01_ORIG_MID--AUDIO_15_R2_2004_02_Track02_wav.midi', 'data\\\\maestro-v2.0.0\\\\2004\\\\MIDI-Unprocessed_XP_15_R2_2004_01_ORIG_MID--AUDIO_15_R2_2004_03_Track03_wav.midi', 'data\\\\maestro-v2.0.0\\\\2004\\\\MIDI-Unprocessed_XP_15_R2_2004_01_ORIG_MID--AUDIO_15_R2_2004_04_Track04_wav.midi', 'data\\\\maestro-v2.0.0\\\\2004\\\\MIDI-Unprocessed_XP_16_R2_2004_01_ORIG_MID--AUDIO_16_R2_2004_01_Track01_wav.midi', 'data\\\\maestro-v2.0.0\\\\2004\\\\MIDI-Unprocessed_XP_16_R2_2004_01_ORIG_MID--AUDIO_16_R2_2004_02_Track02_wav.midi', 'data\\\\maestro-v2.0.0\\\\2004\\\\MIDI-Unprocessed_XP_16_R2_2004_01_ORIG_MID--AUDIO_16_R2_2004_03_Track03_wav.midi', 'data\\\\maestro-v2.0.0\\\\2004\\\\MIDI-Unprocessed_XP_16_R2_2004_01_ORIG_MID--AUDIO_16_R2_2004_04_Track04_wav.midi', 'data\\\\maestro-v2.0.0\\\\2004\\\\MIDI-Unprocessed_XP_17_R2_2004_01_ORIG_MID--AUDIO_17_R2_2004_01_Track01_wav.midi', 'data\\\\maestro-v2.0.0\\\\2004\\\\MIDI-Unprocessed_XP_17_R2_2004_01_ORIG_MID--AUDIO_17_R2_2004_02_Track02_wav.midi', 'data\\\\maestro-v2.0.0\\\\2004\\\\MIDI-Unprocessed_XP_17_R2_2004_01_ORIG_MID--AUDIO_17_R2_2004_03_Track03_wav.midi', 'data\\\\maestro-v2.0.0\\\\2004\\\\MIDI-Unprocessed_XP_17_R2_2004_01_ORIG_MID--AUDIO_17_R2_2004_04_Track04_wav.midi', 'data\\\\maestro-v2.0.0\\\\2004\\\\MIDI-Unprocessed_XP_18_R1_2004_01-02_ORIG_MID--AUDIO_18_R1_2004_02_Track02_wav.midi', 'data\\\\maestro-v2.0.0\\\\2004\\\\MIDI-Unprocessed_XP_18_R1_2004_01-02_ORIG_MID--AUDIO_18_R1_2004_03_Track03_wav.midi', 'data\\\\maestro-v2.0.0\\\\2004\\\\MIDI-Unprocessed_XP_18_R1_2004_01-02_ORIG_MID--AUDIO_18_R1_2004_04_Track04_wav.midi', 'data\\\\maestro-v2.0.0\\\\2004\\\\MIDI-Unprocessed_XP_18_R1_2004_01-02_ORIG_MID--AUDIO_18_R1_2004_05_Track05_wav.midi', 'data\\\\maestro-v2.0.0\\\\2004\\\\MIDI-Unprocessed_XP_18_R1_2004_04_ORIG_MID--AUDIO_18_R1_2004_07_Track07_wav.midi', 'data\\\\maestro-v2.0.0\\\\2004\\\\MIDI-Unprocessed_XP_19_R1_2004_01-02_ORIG_MID--AUDIO_19_R1_2004_01_Track01_wav.midi', 'data\\\\maestro-v2.0.0\\\\2004\\\\MIDI-Unprocessed_XP_19_R1_2004_01-02_ORIG_MID--AUDIO_19_R1_2004_02_Track02_wav.midi', 'data\\\\maestro-v2.0.0\\\\2004\\\\MIDI-Unprocessed_XP_19_R1_2004_01-02_ORIG_MID--AUDIO_19_R1_2004_03_Track03_wav.midi', 'data\\\\maestro-v2.0.0\\\\2004\\\\MIDI-Unprocessed_XP_19_R2_2004_01_ORIG_MID--AUDIO_19_R2_2004_01_Track01_wav.midi', 'data\\\\maestro-v2.0.0\\\\2004\\\\MIDI-Unprocessed_XP_19_R2_2004_01_ORIG_MID--AUDIO_19_R2_2004_02_Track02_wav.midi', 'data\\\\maestro-v2.0.0\\\\2004\\\\MIDI-Unprocessed_XP_19_R2_2004_01_ORIG_MID--AUDIO_19_R2_2004_03_Track03_wav.midi', 'data\\\\maestro-v2.0.0\\\\2004\\\\MIDI-Unprocessed_XP_20_R2_2004_01_ORIG_MID--AUDIO_20_R1_2004_01_Track01_wav.midi', 'data\\\\maestro-v2.0.0\\\\2004\\\\MIDI-Unprocessed_XP_20_R2_2004_01_ORIG_MID--AUDIO_20_R1_2004_02_Track02_wav.midi', 'data\\\\maestro-v2.0.0\\\\2004\\\\MIDI-Unprocessed_XP_20_R2_2004_01_ORIG_MID--AUDIO_20_R1_2004_03_Track03_wav.midi', 'data\\\\maestro-v2.0.0\\\\2004\\\\MIDI-Unprocessed_XP_21_R1_2004_01_ORIG_MID--AUDIO_21_R1_2004_01_Track01_wav.midi', 'data\\\\maestro-v2.0.0\\\\2004\\\\MIDI-Unprocessed_XP_21_R1_2004_02_ORIG_MID--AUDIO_21_R1_2004_02_Track02_wav.midi', 'data\\\\maestro-v2.0.0\\\\2004\\\\MIDI-Unprocessed_XP_21_R1_2004_02_ORIG_MID--AUDIO_21_R1_2004_03_Track03_wav.midi', 'data\\\\maestro-v2.0.0\\\\2004\\\\MIDI-Unprocessed_XP_21_R1_2004_03_ORIG_MID--AUDIO_21_R1_2004_04_Track04_wav.midi', 'data\\\\maestro-v2.0.0\\\\2004\\\\MIDI-Unprocessed_XP_22_R2_2004_01_ORIG_MID--AUDIO_22_R2_2004_01_Track01_wav.midi', 'data\\\\maestro-v2.0.0\\\\2004\\\\MIDI-Unprocessed_XP_22_R2_2004_01_ORIG_MID--AUDIO_22_R2_2004_02_Track02_wav.midi', 'data\\\\maestro-v2.0.0\\\\2004\\\\MIDI-Unprocessed_XP_22_R2_2004_01_ORIG_MID--AUDIO_22_R2_2004_03_Track03_wav.midi', 'data\\\\maestro-v2.0.0\\\\2004\\\\MIDI-Unprocessed_XP_22_R2_2004_01_ORIG_MID--AUDIO_22_R2_2004_04_Track04_wav.midi', 'data\\\\maestro-v2.0.0\\\\2006\\\\MIDI-Unprocessed_01_R1_2006_01-09_ORIG_MID--AUDIO_01_R1_2006_01_Track01_wav.midi', 'data\\\\maestro-v2.0.0\\\\2006\\\\MIDI-Unprocessed_01_R1_2006_01-09_ORIG_MID--AUDIO_01_R1_2006_02_Track02_wav.midi', 'data\\\\maestro-v2.0.0\\\\2006\\\\MIDI-Unprocessed_01_R1_2006_01-09_ORIG_MID--AUDIO_01_R1_2006_03_Track03_wav.midi', 'data\\\\maestro-v2.0.0\\\\2006\\\\MIDI-Unprocessed_01_R1_2006_01-09_ORIG_MID--AUDIO_01_R1_2006_04_Track04_wav.midi', 'data\\\\maestro-v2.0.0\\\\2006\\\\MIDI-Unprocessed_01_R1_2006_01-09_ORIG_MID--AUDIO_01_R1_2006_05_Track05_wav.midi', 'data\\\\maestro-v2.0.0\\\\2006\\\\MIDI-Unprocessed_01_R2_2006_01_ORIG_MID--AUDIO_01_R2_2006_01_Track01_wav.midi', 'data\\\\maestro-v2.0.0\\\\2006\\\\MIDI-Unprocessed_01_R2_2006_01_ORIG_MID--AUDIO_01_R2_2006_02_Track02_wav.midi', 'data\\\\maestro-v2.0.0\\\\2006\\\\MIDI-Unprocessed_01_R2_2006_01_ORIG_MID--AUDIO_01_R2_2006_03_Track03_wav.midi', 'data\\\\maestro-v2.0.0\\\\2006\\\\MIDI-Unprocessed_02_R1_2006_01-04_ORIG_MID--AUDIO_02_R1_2006_01_Track01_wav.midi', 'data\\\\maestro-v2.0.0\\\\2006\\\\MIDI-Unprocessed_02_R1_2006_01-04_ORIG_MID--AUDIO_02_R1_2006_02_Track02_wav.midi', 'data\\\\maestro-v2.0.0\\\\2006\\\\MIDI-Unprocessed_02_R1_2006_01-04_ORIG_MID--AUDIO_02_R1_2006_03_Track03_wav.midi', 'data\\\\maestro-v2.0.0\\\\2006\\\\MIDI-Unprocessed_03_R1_2006_01-05_ORIG_MID--AUDIO_03_R1_2006_04_Track04_wav.midi', 'data\\\\maestro-v2.0.0\\\\2006\\\\MIDI-Unprocessed_03_R1_2006_01-05_ORIG_MID--AUDIO_03_R1_2006_05_Track05_wav.midi', 'data\\\\maestro-v2.0.0\\\\2006\\\\MIDI-Unprocessed_04_R1_2006_01-04_ORIG_MID--AUDIO_04_R1_2006_01_Track01_wav.midi', 'data\\\\maestro-v2.0.0\\\\2006\\\\MIDI-Unprocessed_04_R1_2006_01-04_ORIG_MID--AUDIO_04_R1_2006_02_Track02_wav.midi', 'data\\\\maestro-v2.0.0\\\\2006\\\\MIDI-Unprocessed_04_R1_2006_01-04_ORIG_MID--AUDIO_04_R1_2006_03_Track03_wav.midi', 'data\\\\maestro-v2.0.0\\\\2006\\\\MIDI-Unprocessed_04_R1_2006_01-04_ORIG_MID--AUDIO_04_R1_2006_04_Track04_wav.midi', 'data\\\\maestro-v2.0.0\\\\2006\\\\MIDI-Unprocessed_05_R1_2006_01-05_ORIG_MID--AUDIO_05_R1_2006_01_Track01_wav.midi', 'data\\\\maestro-v2.0.0\\\\2006\\\\MIDI-Unprocessed_05_R1_2006_01-05_ORIG_MID--AUDIO_05_R1_2006_02_Track02_wav.midi', 'data\\\\maestro-v2.0.0\\\\2006\\\\MIDI-Unprocessed_05_R1_2006_01-05_ORIG_MID--AUDIO_05_R1_2006_03_Track03_wav.midi', 'data\\\\maestro-v2.0.0\\\\2006\\\\MIDI-Unprocessed_05_R2_2006_01_ORIG_MID--AUDIO_05_R2_2006_01_Track01_wav.midi', 'data\\\\maestro-v2.0.0\\\\2006\\\\MIDI-Unprocessed_05_R2_2006_01_ORIG_MID--AUDIO_05_R2_2006_02_Track02_wav.midi', 'data\\\\maestro-v2.0.0\\\\2006\\\\MIDI-Unprocessed_05_R2_2006_01_ORIG_MID--AUDIO_05_R2_2006_03_Track03_wav.midi', 'data\\\\maestro-v2.0.0\\\\2006\\\\MIDI-Unprocessed_06_R1_2006_01-04_ORIG_MID--AUDIO_06_R1_2006_01_Track01_wav.midi', 'data\\\\maestro-v2.0.0\\\\2006\\\\MIDI-Unprocessed_06_R1_2006_01-04_ORIG_MID--AUDIO_06_R1_2006_02_Track02_wav.midi', 'data\\\\maestro-v2.0.0\\\\2006\\\\MIDI-Unprocessed_06_R1_2006_01-04_ORIG_MID--AUDIO_06_R1_2006_03_Track03_wav.midi', 'data\\\\maestro-v2.0.0\\\\2006\\\\MIDI-Unprocessed_06_R1_2006_01-04_ORIG_MID--AUDIO_06_R1_2006_04_Track04_wav.midi', 'data\\\\maestro-v2.0.0\\\\2006\\\\MIDI-Unprocessed_07_R1_2006_01-04_ORIG_MID--AUDIO_07_R1_2006_01_Track01_wav.midi', 'data\\\\maestro-v2.0.0\\\\2006\\\\MIDI-Unprocessed_07_R1_2006_01-04_ORIG_MID--AUDIO_07_R1_2006_02_Track02_wav.midi', 'data\\\\maestro-v2.0.0\\\\2006\\\\MIDI-Unprocessed_07_R1_2006_01-04_ORIG_MID--AUDIO_07_R1_2006_03_Track03_wav.midi', 'data\\\\maestro-v2.0.0\\\\2006\\\\MIDI-Unprocessed_07_R1_2006_01-04_ORIG_MID--AUDIO_07_R1_2006_04_Track04_wav.midi', 'data\\\\maestro-v2.0.0\\\\2006\\\\MIDI-Unprocessed_07_R2_2006_01_ORIG_MID--AUDIO_07_R2_2006_01_Track01_wav.midi', 'data\\\\maestro-v2.0.0\\\\2006\\\\MIDI-Unprocessed_07_R2_2006_01_ORIG_MID--AUDIO_07_R2_2006_02_Track02_wav.midi', 'data\\\\maestro-v2.0.0\\\\2006\\\\MIDI-Unprocessed_07_R2_2006_01_ORIG_MID--AUDIO_07_R2_2006_03_Track03_wav.midi', 'data\\\\maestro-v2.0.0\\\\2006\\\\MIDI-Unprocessed_07_R2_2006_01_ORIG_MID--AUDIO_07_R2_2006_04_Track04_wav.midi', 'data\\\\maestro-v2.0.0\\\\2006\\\\MIDI-Unprocessed_08_R1_2006_01-04_ORIG_MID--AUDIO_08_R1_2006_Disk1_01_Track01_wav.midi', 'data\\\\maestro-v2.0.0\\\\2006\\\\MIDI-Unprocessed_08_R1_2006_01-04_ORIG_MID--AUDIO_08_R1_2006_Disk1_02_Track02_wav.midi', 'data\\\\maestro-v2.0.0\\\\2006\\\\MIDI-Unprocessed_08_R1_2006_01-04_ORIG_MID--AUDIO_08_R1_2006_Disk1_03_Track03_wav.midi', 'data\\\\maestro-v2.0.0\\\\2006\\\\MIDI-Unprocessed_08_R2_2006_01_ORIG_MID--AUDIO_08_R2_2006_01_Track01_wav.midi', 'data\\\\maestro-v2.0.0\\\\2006\\\\MIDI-Unprocessed_08_R2_2006_01_ORIG_MID--AUDIO_08_R2_2006_02_Track02_wav.midi', 'data\\\\maestro-v2.0.0\\\\2006\\\\MIDI-Unprocessed_08_R2_2006_01_ORIG_MID--AUDIO_08_R2_2006_03_Track03_wav.midi', 'data\\\\maestro-v2.0.0\\\\2006\\\\MIDI-Unprocessed_09_R1_2006_01-04_ORIG_MID--AUDIO_09_R1_2006_01_Track01_wav.midi', 'data\\\\maestro-v2.0.0\\\\2006\\\\MIDI-Unprocessed_09_R1_2006_01-04_ORIG_MID--AUDIO_09_R1_2006_02_Track02_wav.midi', 'data\\\\maestro-v2.0.0\\\\2006\\\\MIDI-Unprocessed_09_R1_2006_01-04_ORIG_MID--AUDIO_09_R1_2006_03_Track03_wav.midi', 'data\\\\maestro-v2.0.0\\\\2006\\\\MIDI-Unprocessed_09_R1_2006_01-04_ORIG_MID--AUDIO_09_R1_2006_04_Track04_wav.midi', 'data\\\\maestro-v2.0.0\\\\2006\\\\MIDI-Unprocessed_09_R2_2006_01_ORIG_MID--AUDIO_09_R2_2006_01_Track01_wav.midi', 'data\\\\maestro-v2.0.0\\\\2006\\\\MIDI-Unprocessed_09_R2_2006_01_ORIG_MID--AUDIO_09_R2_2006_02_Track02_wav.midi', 'data\\\\maestro-v2.0.0\\\\2006\\\\MIDI-Unprocessed_09_R2_2006_01_ORIG_MID--AUDIO_09_R2_2006_03_Track03_wav.midi', 'data\\\\maestro-v2.0.0\\\\2006\\\\MIDI-Unprocessed_10_R1_2006_01-04_ORIG_MID--AUDIO_10_R1_2006_02_Track02_wav.midi', 'data\\\\maestro-v2.0.0\\\\2006\\\\MIDI-Unprocessed_10_R1_2006_01-04_ORIG_MID--AUDIO_10_R1_2006_03_Track03_wav.midi', 'data\\\\maestro-v2.0.0\\\\2006\\\\MIDI-Unprocessed_10_R1_2006_01-04_ORIG_MID--AUDIO_10_R1_2006_05_Track05_wav.midi', 'data\\\\maestro-v2.0.0\\\\2006\\\\MIDI-Unprocessed_11_R1_2006_01-06_ORIG_MID--AUDIO_11_R1_2006_01_Track01_wav.midi', 'data\\\\maestro-v2.0.0\\\\2006\\\\MIDI-Unprocessed_11_R1_2006_01-06_ORIG_MID--AUDIO_11_R1_2006_02_Track02_wav.midi', 'data\\\\maestro-v2.0.0\\\\2006\\\\MIDI-Unprocessed_11_R1_2006_01-06_ORIG_MID--AUDIO_11_R1_2006_04_Track04_wav.midi', 'data\\\\maestro-v2.0.0\\\\2006\\\\MIDI-Unprocessed_12_R1_2006_01-08_ORIG_MID--AUDIO_12_R1_2006_01_Track01_wav.midi', 'data\\\\maestro-v2.0.0\\\\2006\\\\MIDI-Unprocessed_12_R1_2006_01-08_ORIG_MID--AUDIO_12_R1_2006_02_Track02_wav.midi', 'data\\\\maestro-v2.0.0\\\\2006\\\\MIDI-Unprocessed_12_R1_2006_01-08_ORIG_MID--AUDIO_12_R1_2006_03_Track03_wav.midi', 'data\\\\maestro-v2.0.0\\\\2006\\\\MIDI-Unprocessed_12_R1_2006_01-08_ORIG_MID--AUDIO_12_R1_2006_04_Track04_wav.midi', 'data\\\\maestro-v2.0.0\\\\2006\\\\MIDI-Unprocessed_12_R1_2006_01-08_ORIG_MID--AUDIO_12_R1_2006_05_Track05_wav.midi', 'data\\\\maestro-v2.0.0\\\\2006\\\\MIDI-Unprocessed_12_R1_2006_01-08_ORIG_MID--AUDIO_12_R1_2006_06_Track06_wav.midi', 'data\\\\maestro-v2.0.0\\\\2006\\\\MIDI-Unprocessed_12_R1_2006_01-08_ORIG_MID--AUDIO_12_R1_2006_07_Track07_wav.midi', 'data\\\\maestro-v2.0.0\\\\2006\\\\MIDI-Unprocessed_12_R1_2006_01-08_ORIG_MID--AUDIO_12_R1_2006_08_Track08_wav.midi', 'data\\\\maestro-v2.0.0\\\\2006\\\\MIDI-Unprocessed_13_R1_2006_01-06_ORIG_MID--AUDIO_13_R1_2006_01_Track01_wav.midi', 'data\\\\maestro-v2.0.0\\\\2006\\\\MIDI-Unprocessed_13_R1_2006_01-06_ORIG_MID--AUDIO_13_R1_2006_02_Track02_wav.midi', 'data\\\\maestro-v2.0.0\\\\2006\\\\MIDI-Unprocessed_13_R1_2006_01-06_ORIG_MID--AUDIO_13_R1_2006_04_Track04_wav.midi', 'data\\\\maestro-v2.0.0\\\\2006\\\\MIDI-Unprocessed_13_R1_2006_01-06_ORIG_MID--AUDIO_13_R1_2006_05_Track05_wav.midi', 'data\\\\maestro-v2.0.0\\\\2006\\\\MIDI-Unprocessed_13_R1_2006_01-06_ORIG_MID--AUDIO_13_R1_2006_06_Track06_wav.midi', 'data\\\\maestro-v2.0.0\\\\2006\\\\MIDI-Unprocessed_14_R1_2006_01-05_ORIG_MID--AUDIO_14_R1_2006_01_Track01_wav.midi', 'data\\\\maestro-v2.0.0\\\\2006\\\\MIDI-Unprocessed_14_R1_2006_01-05_ORIG_MID--AUDIO_14_R1_2006_03_Track03_wav.midi', 'data\\\\maestro-v2.0.0\\\\2006\\\\MIDI-Unprocessed_14_R1_2006_01-05_ORIG_MID--AUDIO_14_R1_2006_04_Track04_wav.midi', 'data\\\\maestro-v2.0.0\\\\2006\\\\MIDI-Unprocessed_15_R1_2006_01-05_ORIG_MID--AUDIO_15_R1_2006_01_Track01_wav.midi', 'data\\\\maestro-v2.0.0\\\\2006\\\\MIDI-Unprocessed_15_R1_2006_01-05_ORIG_MID--AUDIO_15_R1_2006_02_Track02_wav.midi', 'data\\\\maestro-v2.0.0\\\\2006\\\\MIDI-Unprocessed_15_R1_2006_01-05_ORIG_MID--AUDIO_15_R1_2006_04_Track04_wav.midi', 'data\\\\maestro-v2.0.0\\\\2006\\\\MIDI-Unprocessed_16_R1_2006_01-04_ORIG_MID--AUDIO_16_R1_2006_01_Track01_wav.midi', 'data\\\\maestro-v2.0.0\\\\2006\\\\MIDI-Unprocessed_16_R1_2006_01-04_ORIG_MID--AUDIO_16_R1_2006_02_Track02_wav.midi', 'data\\\\maestro-v2.0.0\\\\2006\\\\MIDI-Unprocessed_16_R1_2006_01-04_ORIG_MID--AUDIO_16_R1_2006_03_Track03_wav.midi', 'data\\\\maestro-v2.0.0\\\\2006\\\\MIDI-Unprocessed_16_R2_2006_01_ORIG_MID--AUDIO_16_R2_2006_01_Track01_wav.midi', 'data\\\\maestro-v2.0.0\\\\2006\\\\MIDI-Unprocessed_16_R2_2006_01_ORIG_MID--AUDIO_16_R2_2006_02_Track02_wav.midi', 'data\\\\maestro-v2.0.0\\\\2006\\\\MIDI-Unprocessed_16_R2_2006_01_ORIG_MID--AUDIO_16_R2_2006_03_Track03_wav.midi', 'data\\\\maestro-v2.0.0\\\\2006\\\\MIDI-Unprocessed_17_R1_2006_01-06_ORIG_MID--AUDIO_17_R1_2006_01_Track01_wav.midi', 'data\\\\maestro-v2.0.0\\\\2006\\\\MIDI-Unprocessed_17_R1_2006_01-06_ORIG_MID--AUDIO_17_R1_2006_02_Track02_wav.midi', 'data\\\\maestro-v2.0.0\\\\2006\\\\MIDI-Unprocessed_17_R1_2006_01-06_ORIG_MID--AUDIO_17_R1_2006_04_Track04_wav.midi', 'data\\\\maestro-v2.0.0\\\\2006\\\\MIDI-Unprocessed_18_R1_2006_01-05_ORIG_MID--AUDIO_18_R1_2006_01_Track01_wav.midi', 'data\\\\maestro-v2.0.0\\\\2006\\\\MIDI-Unprocessed_18_R1_2006_01-05_ORIG_MID--AUDIO_18_R1_2006_02_Track02_wav.midi', 'data\\\\maestro-v2.0.0\\\\2006\\\\MIDI-Unprocessed_18_R1_2006_01-05_ORIG_MID--AUDIO_18_R1_2006_03_Track03_wav.midi', 'data\\\\maestro-v2.0.0\\\\2006\\\\MIDI-Unprocessed_18_R1_2006_01-05_ORIG_MID--AUDIO_18_R1_2006_04_Track04_wav.midi', 'data\\\\maestro-v2.0.0\\\\2006\\\\MIDI-Unprocessed_18_R1_2006_01-05_ORIG_MID--AUDIO_18_R1_2006_05_Track05_wav.midi', 'data\\\\maestro-v2.0.0\\\\2006\\\\MIDI-Unprocessed_19_R1_2006_01-07_ORIG_MID--AUDIO_19_R1_2006_01_Track01_wav.midi', 'data\\\\maestro-v2.0.0\\\\2006\\\\MIDI-Unprocessed_19_R1_2006_01-07_ORIG_MID--AUDIO_19_R1_2006_02_Track02_wav.midi', 'data\\\\maestro-v2.0.0\\\\2006\\\\MIDI-Unprocessed_19_R1_2006_01-07_ORIG_MID--AUDIO_19_R1_2006_03_Track03_wav.midi', 'data\\\\maestro-v2.0.0\\\\2006\\\\MIDI-Unprocessed_19_R1_2006_01-07_ORIG_MID--AUDIO_19_R1_2006_04_Track04_wav.midi', 'data\\\\maestro-v2.0.0\\\\2006\\\\MIDI-Unprocessed_19_R1_2006_01-07_ORIG_MID--AUDIO_19_R1_2006_06_Track06_wav.midi', 'data\\\\maestro-v2.0.0\\\\2006\\\\MIDI-Unprocessed_19_R1_2006_01-07_ORIG_MID--AUDIO_19_R1_2006_07_Track07_wav.midi', 'data\\\\maestro-v2.0.0\\\\2006\\\\MIDI-Unprocessed_20_R1_2006_01-04_ORIG_MID--AUDIO_20_R1_2006_01_Track01_wav.midi', 'data\\\\maestro-v2.0.0\\\\2006\\\\MIDI-Unprocessed_20_R1_2006_01-04_ORIG_MID--AUDIO_20_R1_2006_04_Track04_wav.midi', 'data\\\\maestro-v2.0.0\\\\2006\\\\MIDI-Unprocessed_21_R1_2006_01-04_ORIG_MID--AUDIO_21_R1_2006_01_Track01_wav.midi', 'data\\\\maestro-v2.0.0\\\\2006\\\\MIDI-Unprocessed_21_R1_2006_01-04_ORIG_MID--AUDIO_21_R1_2006_02_Track02_wav.midi', 'data\\\\maestro-v2.0.0\\\\2006\\\\MIDI-Unprocessed_22_R1_2006_01-04_ORIG_MID--AUDIO_22_R1_2006_01_Track01_wav.midi', 'data\\\\maestro-v2.0.0\\\\2006\\\\MIDI-Unprocessed_22_R1_2006_01-04_ORIG_MID--AUDIO_22_R1_2006_02_Track02_wav.midi', 'data\\\\maestro-v2.0.0\\\\2006\\\\MIDI-Unprocessed_22_R1_2006_01-04_ORIG_MID--AUDIO_22_R1_2006_04_Track04_wav.midi', 'data\\\\maestro-v2.0.0\\\\2006\\\\MIDI-Unprocessed_22_R2_2006_01_ORIG_MID--AUDIO_22_R2_2006_01_Track01_wav.midi', 'data\\\\maestro-v2.0.0\\\\2006\\\\MIDI-Unprocessed_22_R2_2006_01_ORIG_MID--AUDIO_22_R2_2006_02_Track02_wav.midi', 'data\\\\maestro-v2.0.0\\\\2006\\\\MIDI-Unprocessed_22_R2_2006_01_ORIG_MID--AUDIO_22_R2_2006_03_Track03_wav.midi', 'data\\\\maestro-v2.0.0\\\\2006\\\\MIDI-Unprocessed_22_R2_2006_01_ORIG_MID--AUDIO_22_R2_2006_04_Track04_wav.midi', 'data\\\\maestro-v2.0.0\\\\2006\\\\MIDI-Unprocessed_23_R1_2006_01-05_ORIG_MID--AUDIO_23_R1_2006_02_Track02_wav.midi', 'data\\\\maestro-v2.0.0\\\\2006\\\\MIDI-Unprocessed_23_R1_2006_01-05_ORIG_MID--AUDIO_23_R1_2006_04_Track04_wav.midi', 'data\\\\maestro-v2.0.0\\\\2006\\\\MIDI-Unprocessed_23_R2_2006_01_ORIG_MID--AUDIO_23_R2_2006_01_Track01_wav.midi', 'data\\\\maestro-v2.0.0\\\\2006\\\\MIDI-Unprocessed_23_R2_2006_01_ORIG_MID--AUDIO_23_R2_2006_02_Track02_wav.midi', 'data\\\\maestro-v2.0.0\\\\2006\\\\MIDI-Unprocessed_23_R2_2006_01_ORIG_MID--AUDIO_23_R2_2006_03_Track03_wav.midi', 'data\\\\maestro-v2.0.0\\\\2006\\\\MIDI-Unprocessed_23_R2_2006_01_ORIG_MID--AUDIO_23_R2_2006_04_Track04_wav.midi', 'data\\\\maestro-v2.0.0\\\\2006\\\\MIDI-Unprocessed_24_R1_2006_01-05_ORIG_MID--AUDIO_24_R1_2006_01_Track01_wav.midi', 'data\\\\maestro-v2.0.0\\\\2006\\\\MIDI-Unprocessed_24_R1_2006_01-05_ORIG_MID--AUDIO_24_R1_2006_02_Track02_wav.midi', 'data\\\\maestro-v2.0.0\\\\2006\\\\MIDI-Unprocessed_24_R1_2006_01-05_ORIG_MID--AUDIO_24_R1_2006_03_Track03_wav.midi', 'data\\\\maestro-v2.0.0\\\\2006\\\\MIDI-Unprocessed_24_R1_2006_01-05_ORIG_MID--AUDIO_24_R1_2006_04_Track04_wav.midi', 'data\\\\maestro-v2.0.0\\\\2006\\\\MIDI-Unprocessed_24_R1_2006_01-05_ORIG_MID--AUDIO_24_R1_2006_05_Track05_wav.midi', 'data\\\\maestro-v2.0.0\\\\2008\\\\MIDI-Unprocessed_01_R1_2008_01-04_ORIG_MID--AUDIO_01_R1_2008_wav--1.midi', 'data\\\\maestro-v2.0.0\\\\2008\\\\MIDI-Unprocessed_01_R1_2008_01-04_ORIG_MID--AUDIO_01_R1_2008_wav--2.midi', 'data\\\\maestro-v2.0.0\\\\2008\\\\MIDI-Unprocessed_01_R1_2008_01-04_ORIG_MID--AUDIO_01_R1_2008_wav--3.midi', 'data\\\\maestro-v2.0.0\\\\2008\\\\MIDI-Unprocessed_02_R1_2008_01-05_ORIG_MID--AUDIO_02_R1_2008_wav--1.midi', 'data\\\\maestro-v2.0.0\\\\2008\\\\MIDI-Unprocessed_02_R1_2008_01-05_ORIG_MID--AUDIO_02_R1_2008_wav--2.midi', 'data\\\\maestro-v2.0.0\\\\2008\\\\MIDI-Unprocessed_02_R1_2008_01-05_ORIG_MID--AUDIO_02_R1_2008_wav--3.midi', 'data\\\\maestro-v2.0.0\\\\2008\\\\MIDI-Unprocessed_02_R1_2008_01-05_ORIG_MID--AUDIO_02_R1_2008_wav--4.midi', 'data\\\\maestro-v2.0.0\\\\2008\\\\MIDI-Unprocessed_02_R1_2008_01-05_ORIG_MID--AUDIO_02_R1_2008_wav--5.midi', 'data\\\\maestro-v2.0.0\\\\2008\\\\MIDI-Unprocessed_02_R2_2008_01-05_ORIG_MID--AUDIO_02_R2_2008_wav--1.midi', 'data\\\\maestro-v2.0.0\\\\2008\\\\MIDI-Unprocessed_02_R2_2008_01-05_ORIG_MID--AUDIO_02_R2_2008_wav--3.midi', 'data\\\\maestro-v2.0.0\\\\2008\\\\MIDI-Unprocessed_02_R2_2008_01-05_ORIG_MID--AUDIO_02_R2_2008_wav--4.midi', 'data\\\\maestro-v2.0.0\\\\2008\\\\MIDI-Unprocessed_02_R2_2008_01-05_ORIG_MID--AUDIO_02_R2_2008_wav--5.midi', 'data\\\\maestro-v2.0.0\\\\2008\\\\MIDI-Unprocessed_02_R3_2008_01-03_ORIG_MID--AUDIO_02_R3_2008_wav--1.midi', 'data\\\\maestro-v2.0.0\\\\2008\\\\MIDI-Unprocessed_02_R3_2008_01-03_ORIG_MID--AUDIO_02_R3_2008_wav--2.midi', 'data\\\\maestro-v2.0.0\\\\2008\\\\MIDI-Unprocessed_02_R3_2008_01-03_ORIG_MID--AUDIO_02_R3_2008_wav--3.midi', 'data\\\\maestro-v2.0.0\\\\2008\\\\MIDI-Unprocessed_03_R1_2008_01-04_ORIG_MID--AUDIO_03_R1_2008_wav--1.midi', 'data\\\\maestro-v2.0.0\\\\2008\\\\MIDI-Unprocessed_03_R1_2008_01-04_ORIG_MID--AUDIO_03_R1_2008_wav--2.midi', 'data\\\\maestro-v2.0.0\\\\2008\\\\MIDI-Unprocessed_03_R1_2008_01-04_ORIG_MID--AUDIO_03_R1_2008_wav--3.midi', 'data\\\\maestro-v2.0.0\\\\2008\\\\MIDI-Unprocessed_03_R1_2008_01-04_ORIG_MID--AUDIO_03_R1_2008_wav--4.midi', 'data\\\\maestro-v2.0.0\\\\2008\\\\MIDI-Unprocessed_03_R2_2008_01-03_ORIG_MID--AUDIO_03_R2_2008_wav--1.midi', 'data\\\\maestro-v2.0.0\\\\2008\\\\MIDI-Unprocessed_03_R2_2008_01-03_ORIG_MID--AUDIO_03_R2_2008_wav--2.midi', 'data\\\\maestro-v2.0.0\\\\2008\\\\MIDI-Unprocessed_03_R2_2008_01-03_ORIG_MID--AUDIO_03_R2_2008_wav--3.midi', 'data\\\\maestro-v2.0.0\\\\2008\\\\MIDI-Unprocessed_03_R3_2008_01-03_ORIG_MID--AUDIO_03_R3_2008_wav--1.midi', 'data\\\\maestro-v2.0.0\\\\2008\\\\MIDI-Unprocessed_04_R1_2008_01-04_ORIG_MID--AUDIO_04_R1_2008_wav--1.midi', 'data\\\\maestro-v2.0.0\\\\2008\\\\MIDI-Unprocessed_04_R1_2008_01-04_ORIG_MID--AUDIO_04_R1_2008_wav--2.midi', 'data\\\\maestro-v2.0.0\\\\2008\\\\MIDI-Unprocessed_04_R1_2008_01-04_ORIG_MID--AUDIO_04_R1_2008_wav--4.midi', 'data\\\\maestro-v2.0.0\\\\2008\\\\MIDI-Unprocessed_04_R2_2008_01-04_ORIG_MID--AUDIO_04_R2_2008_wav--1.midi', 'data\\\\maestro-v2.0.0\\\\2008\\\\MIDI-Unprocessed_04_R2_2008_01-04_ORIG_MID--AUDIO_04_R2_2008_wav--3.midi', 'data\\\\maestro-v2.0.0\\\\2008\\\\MIDI-Unprocessed_04_R2_2008_01-04_ORIG_MID--AUDIO_04_R2_2008_wav--4.midi', 'data\\\\maestro-v2.0.0\\\\2008\\\\MIDI-Unprocessed_04_R3_2008_01-07_ORIG_MID--AUDIO_04_R3_2008_wav--1.midi', 'data\\\\maestro-v2.0.0\\\\2008\\\\MIDI-Unprocessed_04_R3_2008_01-07_ORIG_MID--AUDIO_04_R3_2008_wav--2.midi', 'data\\\\maestro-v2.0.0\\\\2008\\\\MIDI-Unprocessed_04_R3_2008_01-07_ORIG_MID--AUDIO_04_R3_2008_wav--3.midi', 'data\\\\maestro-v2.0.0\\\\2008\\\\MIDI-Unprocessed_04_R3_2008_01-07_ORIG_MID--AUDIO_04_R3_2008_wav--4.midi', 'data\\\\maestro-v2.0.0\\\\2008\\\\MIDI-Unprocessed_04_R3_2008_01-07_ORIG_MID--AUDIO_04_R3_2008_wav--5.midi', 'data\\\\maestro-v2.0.0\\\\2008\\\\MIDI-Unprocessed_04_R3_2008_01-07_ORIG_MID--AUDIO_04_R3_2008_wav--6.midi', 'data\\\\maestro-v2.0.0\\\\2008\\\\MIDI-Unprocessed_04_R3_2008_01-07_ORIG_MID--AUDIO_04_R3_2008_wav--7.midi', 'data\\\\maestro-v2.0.0\\\\2008\\\\MIDI-Unprocessed_05_R1_2008_01-04_ORIG_MID--AUDIO_05_R1_2008_wav--1.midi', 'data\\\\maestro-v2.0.0\\\\2008\\\\MIDI-Unprocessed_05_R1_2008_01-04_ORIG_MID--AUDIO_05_R1_2008_wav--2.midi', 'data\\\\maestro-v2.0.0\\\\2008\\\\MIDI-Unprocessed_05_R1_2008_01-04_ORIG_MID--AUDIO_05_R1_2008_wav--3.midi', 'data\\\\maestro-v2.0.0\\\\2008\\\\MIDI-Unprocessed_05_R1_2008_01-04_ORIG_MID--AUDIO_05_R1_2008_wav--4.midi', 'data\\\\maestro-v2.0.0\\\\2008\\\\MIDI-Unprocessed_06_R1_2008_01-04_ORIG_MID--AUDIO_06_R1_2008_wav--1.midi', 'data\\\\maestro-v2.0.0\\\\2008\\\\MIDI-Unprocessed_06_R1_2008_01-04_ORIG_MID--AUDIO_06_R1_2008_wav--2.midi', 'data\\\\maestro-v2.0.0\\\\2008\\\\MIDI-Unprocessed_06_R1_2008_01-04_ORIG_MID--AUDIO_06_R1_2008_wav--3.midi', 'data\\\\maestro-v2.0.0\\\\2008\\\\MIDI-Unprocessed_06_R1_2008_01-04_ORIG_MID--AUDIO_06_R1_2008_wav--4.midi', 'data\\\\maestro-v2.0.0\\\\2008\\\\MIDI-Unprocessed_06_R2_2008_01-05_ORIG_MID--AUDIO_06_R2_2008_wav--1.midi', 'data\\\\maestro-v2.0.0\\\\2008\\\\MIDI-Unprocessed_06_R2_2008_01-05_ORIG_MID--AUDIO_06_R2_2008_wav--3.midi', 'data\\\\maestro-v2.0.0\\\\2008\\\\MIDI-Unprocessed_06_R2_2008_01-05_ORIG_MID--AUDIO_06_R2_2008_wav--4.midi', 'data\\\\maestro-v2.0.0\\\\2008\\\\MIDI-Unprocessed_06_R2_2008_01-05_ORIG_MID--AUDIO_06_R2_2008_wav--5.midi', 'data\\\\maestro-v2.0.0\\\\2008\\\\MIDI-Unprocessed_07_R1_2008_01-04_ORIG_MID--AUDIO_07_R1_2008_wav--1.midi', 'data\\\\maestro-v2.0.0\\\\2008\\\\MIDI-Unprocessed_07_R1_2008_01-04_ORIG_MID--AUDIO_07_R1_2008_wav--2.midi', 'data\\\\maestro-v2.0.0\\\\2008\\\\MIDI-Unprocessed_07_R1_2008_01-04_ORIG_MID--AUDIO_07_R1_2008_wav--3.midi', 'data\\\\maestro-v2.0.0\\\\2008\\\\MIDI-Unprocessed_07_R1_2008_01-04_ORIG_MID--AUDIO_07_R1_2008_wav--4.midi', 'data\\\\maestro-v2.0.0\\\\2008\\\\MIDI-Unprocessed_07_R2_2008_01-05_ORIG_MID--AUDIO_07_R2_2008_wav--1.midi', 'data\\\\maestro-v2.0.0\\\\2008\\\\MIDI-Unprocessed_07_R2_2008_01-05_ORIG_MID--AUDIO_07_R2_2008_wav--2.midi', 'data\\\\maestro-v2.0.0\\\\2008\\\\MIDI-Unprocessed_07_R2_2008_01-05_ORIG_MID--AUDIO_07_R2_2008_wav--3.midi', 'data\\\\maestro-v2.0.0\\\\2008\\\\MIDI-Unprocessed_07_R2_2008_01-05_ORIG_MID--AUDIO_07_R2_2008_wav--4.midi', 'data\\\\maestro-v2.0.0\\\\2008\\\\MIDI-Unprocessed_07_R3_2008_01-05_ORIG_MID--AUDIO_07_R3_2008_wav--1.midi', 'data\\\\maestro-v2.0.0\\\\2008\\\\MIDI-Unprocessed_07_R3_2008_01-05_ORIG_MID--AUDIO_07_R3_2008_wav--2.midi', 'data\\\\maestro-v2.0.0\\\\2008\\\\MIDI-Unprocessed_07_R3_2008_01-05_ORIG_MID--AUDIO_07_R3_2008_wav--3.midi', 'data\\\\maestro-v2.0.0\\\\2008\\\\MIDI-Unprocessed_07_R3_2008_01-05_ORIG_MID--AUDIO_07_R3_2008_wav--4.midi', 'data\\\\maestro-v2.0.0\\\\2008\\\\MIDI-Unprocessed_08_R1_2008_01-05_ORIG_MID--AUDIO_08_R1_2008_wav--1.midi', 'data\\\\maestro-v2.0.0\\\\2008\\\\MIDI-Unprocessed_08_R1_2008_01-05_ORIG_MID--AUDIO_08_R1_2008_wav--2.midi', 'data\\\\maestro-v2.0.0\\\\2008\\\\MIDI-Unprocessed_08_R1_2008_01-05_ORIG_MID--AUDIO_08_R1_2008_wav--3.midi', 'data\\\\maestro-v2.0.0\\\\2008\\\\MIDI-Unprocessed_08_R1_2008_01-05_ORIG_MID--AUDIO_08_R1_2008_wav--4.midi', 'data\\\\maestro-v2.0.0\\\\2008\\\\MIDI-Unprocessed_08_R1_2008_01-05_ORIG_MID--AUDIO_08_R1_2008_wav--5.midi', 'data\\\\maestro-v2.0.0\\\\2008\\\\MIDI-Unprocessed_08_R2_2008_01-04_ORIG_MID--AUDIO_08_R2_2008_wav--1.midi', 'data\\\\maestro-v2.0.0\\\\2008\\\\MIDI-Unprocessed_08_R2_2008_01-04_ORIG_MID--AUDIO_08_R2_2008_wav--2.midi', 'data\\\\maestro-v2.0.0\\\\2008\\\\MIDI-Unprocessed_08_R2_2008_01-04_ORIG_MID--AUDIO_08_R2_2008_wav--4.midi', 'data\\\\maestro-v2.0.0\\\\2008\\\\MIDI-Unprocessed_08_R3_2008_01-05_ORIG_MID--AUDIO_08_R3_2008_wav--1.midi', 'data\\\\maestro-v2.0.0\\\\2008\\\\MIDI-Unprocessed_08_R3_2008_01-05_ORIG_MID--AUDIO_08_R3_2008_wav--2.midi', 'data\\\\maestro-v2.0.0\\\\2008\\\\MIDI-Unprocessed_08_R3_2008_01-05_ORIG_MID--AUDIO_08_R3_2008_wav--3.midi', 'data\\\\maestro-v2.0.0\\\\2008\\\\MIDI-Unprocessed_09_R1_2008_01-05_ORIG_MID--AUDIO_09_R1_2008_wav--1.midi', 'data\\\\maestro-v2.0.0\\\\2008\\\\MIDI-Unprocessed_09_R1_2008_01-05_ORIG_MID--AUDIO_09_R1_2008_wav--2.midi', 'data\\\\maestro-v2.0.0\\\\2008\\\\MIDI-Unprocessed_09_R1_2008_01-05_ORIG_MID--AUDIO_09_R1_2008_wav--3.midi', 'data\\\\maestro-v2.0.0\\\\2008\\\\MIDI-Unprocessed_09_R1_2008_01-05_ORIG_MID--AUDIO_09_R1_2008_wav--4.midi', 'data\\\\maestro-v2.0.0\\\\2008\\\\MIDI-Unprocessed_09_R1_2008_01-05_ORIG_MID--AUDIO_09_R1_2008_wav--5.midi', 'data\\\\maestro-v2.0.0\\\\2008\\\\MIDI-Unprocessed_09_R2_2008_01-05_ORIG_MID--AUDIO_09_R2_2008_wav--1.midi', 'data\\\\maestro-v2.0.0\\\\2008\\\\MIDI-Unprocessed_09_R2_2008_01-05_ORIG_MID--AUDIO_09_R2_2008_wav--2.midi', 'data\\\\maestro-v2.0.0\\\\2008\\\\MIDI-Unprocessed_09_R2_2008_01-05_ORIG_MID--AUDIO_09_R2_2008_wav--3.midi', 'data\\\\maestro-v2.0.0\\\\2008\\\\MIDI-Unprocessed_09_R2_2008_01-05_ORIG_MID--AUDIO_09_R2_2008_wav--5.midi', 'data\\\\maestro-v2.0.0\\\\2008\\\\MIDI-Unprocessed_09_R3_2008_01-07_ORIG_MID--AUDIO_09_R3_2008_wav--1.midi', 'data\\\\maestro-v2.0.0\\\\2008\\\\MIDI-Unprocessed_09_R3_2008_01-07_ORIG_MID--AUDIO_09_R3_2008_wav--2.midi', 'data\\\\maestro-v2.0.0\\\\2008\\\\MIDI-Unprocessed_09_R3_2008_01-07_ORIG_MID--AUDIO_09_R3_2008_wav--3.midi', 'data\\\\maestro-v2.0.0\\\\2008\\\\MIDI-Unprocessed_09_R3_2008_01-07_ORIG_MID--AUDIO_09_R3_2008_wav--4.midi', 'data\\\\maestro-v2.0.0\\\\2008\\\\MIDI-Unprocessed_09_R3_2008_01-07_ORIG_MID--AUDIO_09_R3_2008_wav--5.midi', 'data\\\\maestro-v2.0.0\\\\2008\\\\MIDI-Unprocessed_09_R3_2008_01-07_ORIG_MID--AUDIO_09_R3_2008_wav--7.midi', 'data\\\\maestro-v2.0.0\\\\2008\\\\MIDI-Unprocessed_10_R1_2008_01-04_ORIG_MID--AUDIO_10_R1_2008_wav--1.midi', 'data\\\\maestro-v2.0.0\\\\2008\\\\MIDI-Unprocessed_10_R1_2008_01-04_ORIG_MID--AUDIO_10_R1_2008_wav--2.midi', 'data\\\\maestro-v2.0.0\\\\2008\\\\MIDI-Unprocessed_10_R1_2008_01-04_ORIG_MID--AUDIO_10_R1_2008_wav--3.midi', 'data\\\\maestro-v2.0.0\\\\2008\\\\MIDI-Unprocessed_10_R1_2008_01-04_ORIG_MID--AUDIO_10_R1_2008_wav--4.midi', 'data\\\\maestro-v2.0.0\\\\2008\\\\MIDI-Unprocessed_10_R2_2008_01-05_ORIG_MID--AUDIO_10_R2_2008_wav--1.midi', 'data\\\\maestro-v2.0.0\\\\2008\\\\MIDI-Unprocessed_10_R2_2008_01-05_ORIG_MID--AUDIO_10_R2_2008_wav--2.midi', 'data\\\\maestro-v2.0.0\\\\2008\\\\MIDI-Unprocessed_10_R2_2008_01-05_ORIG_MID--AUDIO_10_R2_2008_wav--3.midi', 'data\\\\maestro-v2.0.0\\\\2008\\\\MIDI-Unprocessed_10_R2_2008_01-05_ORIG_MID--AUDIO_10_R2_2008_wav--4.midi', 'data\\\\maestro-v2.0.0\\\\2008\\\\MIDI-Unprocessed_10_R3_2008_01-05_ORIG_MID--AUDIO_10_R3_2008_wav--1.midi', 'data\\\\maestro-v2.0.0\\\\2008\\\\MIDI-Unprocessed_10_R3_2008_01-05_ORIG_MID--AUDIO_10_R3_2008_wav--2.midi', 'data\\\\maestro-v2.0.0\\\\2008\\\\MIDI-Unprocessed_10_R3_2008_01-05_ORIG_MID--AUDIO_10_R3_2008_wav--3.midi', 'data\\\\maestro-v2.0.0\\\\2008\\\\MIDI-Unprocessed_10_R3_2008_01-05_ORIG_MID--AUDIO_10_R3_2008_wav--4.midi', 'data\\\\maestro-v2.0.0\\\\2008\\\\MIDI-Unprocessed_10_R3_2008_01-05_ORIG_MID--AUDIO_10_R3_2008_wav--5.midi', 'data\\\\maestro-v2.0.0\\\\2008\\\\MIDI-Unprocessed_11_R1_2008_01-04_ORIG_MID--AUDIO_11_R1_2008_wav--1.midi', 'data\\\\maestro-v2.0.0\\\\2008\\\\MIDI-Unprocessed_11_R1_2008_01-04_ORIG_MID--AUDIO_11_R1_2008_wav--2.midi', 'data\\\\maestro-v2.0.0\\\\2008\\\\MIDI-Unprocessed_11_R1_2008_01-04_ORIG_MID--AUDIO_11_R1_2008_wav--3.midi', 'data\\\\maestro-v2.0.0\\\\2008\\\\MIDI-Unprocessed_11_R1_2008_01-04_ORIG_MID--AUDIO_11_R1_2008_wav--4.midi', 'data\\\\maestro-v2.0.0\\\\2008\\\\MIDI-Unprocessed_11_R2_2008_01-05_ORIG_MID--AUDIO_11_R2_2008_wav--2.midi', 'data\\\\maestro-v2.0.0\\\\2008\\\\MIDI-Unprocessed_11_R2_2008_01-05_ORIG_MID--AUDIO_11_R2_2008_wav--3.midi', 'data\\\\maestro-v2.0.0\\\\2008\\\\MIDI-Unprocessed_11_R2_2008_01-05_ORIG_MID--AUDIO_11_R2_2008_wav--5.midi', 'data\\\\maestro-v2.0.0\\\\2008\\\\MIDI-Unprocessed_11_R3_2008_01-04_ORIG_MID--AUDIO_11_R3_2008_wav--1.midi', 'data\\\\maestro-v2.0.0\\\\2008\\\\MIDI-Unprocessed_11_R3_2008_01-04_ORIG_MID--AUDIO_11_R3_2008_wav--2.midi', 'data\\\\maestro-v2.0.0\\\\2008\\\\MIDI-Unprocessed_11_R3_2008_01-04_ORIG_MID--AUDIO_11_R3_2008_wav--4.midi', 'data\\\\maestro-v2.0.0\\\\2008\\\\MIDI-Unprocessed_12_R1_2008_01-04_ORIG_MID--AUDIO_12_R1_2008_wav--1.midi', 'data\\\\maestro-v2.0.0\\\\2008\\\\MIDI-Unprocessed_12_R1_2008_01-04_ORIG_MID--AUDIO_12_R1_2008_wav--2.midi', 'data\\\\maestro-v2.0.0\\\\2008\\\\MIDI-Unprocessed_12_R1_2008_01-04_ORIG_MID--AUDIO_12_R1_2008_wav--3.midi', 'data\\\\maestro-v2.0.0\\\\2008\\\\MIDI-Unprocessed_12_R1_2008_01-04_ORIG_MID--AUDIO_12_R1_2008_wav--4.midi', 'data\\\\maestro-v2.0.0\\\\2008\\\\MIDI-Unprocessed_12_R2_2008_01-04_ORIG_MID--AUDIO_12_R2_2008_wav--1.midi', 'data\\\\maestro-v2.0.0\\\\2008\\\\MIDI-Unprocessed_12_R2_2008_01-04_ORIG_MID--AUDIO_12_R2_2008_wav--2.midi', 'data\\\\maestro-v2.0.0\\\\2008\\\\MIDI-Unprocessed_12_R2_2008_01-04_ORIG_MID--AUDIO_12_R2_2008_wav--3.midi', 'data\\\\maestro-v2.0.0\\\\2008\\\\MIDI-Unprocessed_12_R3_2008_01-04_ORIG_MID--AUDIO_12_R3_2008_wav--1.midi', 'data\\\\maestro-v2.0.0\\\\2008\\\\MIDI-Unprocessed_12_R3_2008_01-04_ORIG_MID--AUDIO_12_R3_2008_wav--2.midi', 'data\\\\maestro-v2.0.0\\\\2008\\\\MIDI-Unprocessed_12_R3_2008_01-04_ORIG_MID--AUDIO_12_R3_2008_wav--3.midi', 'data\\\\maestro-v2.0.0\\\\2008\\\\MIDI-Unprocessed_13_R1_2008_01-04_ORIG_MID--AUDIO_13_R1_2008_wav--1.midi', 'data\\\\maestro-v2.0.0\\\\2008\\\\MIDI-Unprocessed_13_R1_2008_01-04_ORIG_MID--AUDIO_13_R1_2008_wav--2.midi', 'data\\\\maestro-v2.0.0\\\\2008\\\\MIDI-Unprocessed_13_R1_2008_01-04_ORIG_MID--AUDIO_13_R1_2008_wav--4.midi', 'data\\\\maestro-v2.0.0\\\\2008\\\\MIDI-Unprocessed_14_R1_2008_01-05_ORIG_MID--AUDIO_14_R1_2008_wav--1.midi', 'data\\\\maestro-v2.0.0\\\\2008\\\\MIDI-Unprocessed_14_R1_2008_01-05_ORIG_MID--AUDIO_14_R1_2008_wav--2.midi', 'data\\\\maestro-v2.0.0\\\\2008\\\\MIDI-Unprocessed_14_R1_2008_01-05_ORIG_MID--AUDIO_14_R1_2008_wav--3.midi', 'data\\\\maestro-v2.0.0\\\\2008\\\\MIDI-Unprocessed_14_R1_2008_01-05_ORIG_MID--AUDIO_14_R1_2008_wav--4.midi', 'data\\\\maestro-v2.0.0\\\\2008\\\\MIDI-Unprocessed_15_R1_2008_01-04_ORIG_MID--AUDIO_15_R1_2008_wav--1.midi', 'data\\\\maestro-v2.0.0\\\\2008\\\\MIDI-Unprocessed_15_R1_2008_01-04_ORIG_MID--AUDIO_15_R1_2008_wav--2.midi', 'data\\\\maestro-v2.0.0\\\\2008\\\\MIDI-Unprocessed_15_R1_2008_01-04_ORIG_MID--AUDIO_15_R1_2008_wav--3.midi', 'data\\\\maestro-v2.0.0\\\\2008\\\\MIDI-Unprocessed_15_R1_2008_01-04_ORIG_MID--AUDIO_15_R1_2008_wav--4.midi', 'data\\\\maestro-v2.0.0\\\\2008\\\\MIDI-Unprocessed_15_R2_2008_01-04_ORIG_MID--AUDIO_15_R2_2008_wav--2.midi', 'data\\\\maestro-v2.0.0\\\\2008\\\\MIDI-Unprocessed_15_R2_2008_01-04_ORIG_MID--AUDIO_15_R2_2008_wav--3.midi', 'data\\\\maestro-v2.0.0\\\\2008\\\\MIDI-Unprocessed_15_R2_2008_01-04_ORIG_MID--AUDIO_15_R2_2008_wav--4.midi', 'data\\\\maestro-v2.0.0\\\\2008\\\\MIDI-Unprocessed_16_R1_2008_01-04_ORIG_MID--AUDIO_16_R1_2008_wav--1.midi', 'data\\\\maestro-v2.0.0\\\\2008\\\\MIDI-Unprocessed_16_R1_2008_01-04_ORIG_MID--AUDIO_16_R1_2008_wav--2.midi', 'data\\\\maestro-v2.0.0\\\\2008\\\\MIDI-Unprocessed_16_R1_2008_01-04_ORIG_MID--AUDIO_16_R1_2008_wav--3.midi', 'data\\\\maestro-v2.0.0\\\\2008\\\\MIDI-Unprocessed_16_R1_2008_01-04_ORIG_MID--AUDIO_16_R1_2008_wav--4.midi', 'data\\\\maestro-v2.0.0\\\\2008\\\\MIDI-Unprocessed_17_R1_2008_01-04_ORIG_MID--AUDIO_17_R1_2008_wav--1.midi', 'data\\\\maestro-v2.0.0\\\\2008\\\\MIDI-Unprocessed_17_R1_2008_01-04_ORIG_MID--AUDIO_17_R1_2008_wav--2.midi', 'data\\\\maestro-v2.0.0\\\\2008\\\\MIDI-Unprocessed_17_R1_2008_01-04_ORIG_MID--AUDIO_17_R1_2008_wav--3.midi', 'data\\\\maestro-v2.0.0\\\\2008\\\\MIDI-Unprocessed_17_R1_2008_01-04_ORIG_MID--AUDIO_17_R1_2008_wav--4.midi', 'data\\\\maestro-v2.0.0\\\\2008\\\\MIDI-Unprocessed_17_R2_2008_01-04_ORIG_MID--AUDIO_17_R2_2008_wav--1.midi', 'data\\\\maestro-v2.0.0\\\\2008\\\\MIDI-Unprocessed_17_R2_2008_01-04_ORIG_MID--AUDIO_17_R2_2008_wav--2.midi', 'data\\\\maestro-v2.0.0\\\\2008\\\\MIDI-Unprocessed_17_R2_2008_01-04_ORIG_MID--AUDIO_17_R2_2008_wav--3.midi', 'data\\\\maestro-v2.0.0\\\\2008\\\\MIDI-Unprocessed_18_R1_2008_01-04_ORIG_MID--AUDIO_18_R1_2008_wav--1.midi', 'data\\\\maestro-v2.0.0\\\\2008\\\\MIDI-Unprocessed_18_R1_2008_01-04_ORIG_MID--AUDIO_18_R1_2008_wav--2.midi', 'data\\\\maestro-v2.0.0\\\\2008\\\\MIDI-Unprocessed_18_R1_2008_01-04_ORIG_MID--AUDIO_18_R1_2008_wav--4.midi', 'data\\\\maestro-v2.0.0\\\\2009\\\\MIDI-Unprocessed_01_R1_2009_01-04_ORIG_MID--AUDIO_01_R1_2009_01_R1_2009_01_WAV.midi', 'data\\\\maestro-v2.0.0\\\\2009\\\\MIDI-Unprocessed_01_R1_2009_01-04_ORIG_MID--AUDIO_01_R1_2009_01_R1_2009_02_WAV.midi', 'data\\\\maestro-v2.0.0\\\\2009\\\\MIDI-Unprocessed_01_R1_2009_01-04_ORIG_MID--AUDIO_01_R1_2009_01_R1_2009_04_WAV.midi', 'data\\\\maestro-v2.0.0\\\\2009\\\\MIDI-Unprocessed_02_R1_2009_01-02_ORIG_MID--AUDIO_02_R1_2009_02_R1_2009_01_WAV.midi', 'data\\\\maestro-v2.0.0\\\\2009\\\\MIDI-Unprocessed_02_R1_2009_01-02_ORIG_MID--AUDIO_02_R1_2009_02_R1_2009_02_WAV.midi', 'data\\\\maestro-v2.0.0\\\\2009\\\\MIDI-Unprocessed_02_R1_2009_03-06_ORIG_MID--AUDIO_02_R1_2009_02_R1_2009_03_WAV.midi', 'data\\\\maestro-v2.0.0\\\\2009\\\\MIDI-Unprocessed_02_R1_2009_03-06_ORIG_MID--AUDIO_02_R1_2009_02_R1_2009_04_WAV.midi', 'data\\\\maestro-v2.0.0\\\\2009\\\\MIDI-Unprocessed_02_R1_2009_03-06_ORIG_MID--AUDIO_02_R1_2009_02_R1_2009_05_WAV.midi', 'data\\\\maestro-v2.0.0\\\\2009\\\\MIDI-Unprocessed_03_R1_2009_01-02_ORIG_MID--AUDIO_03_R1_2009_03_R1_2009_02_WAV.midi', 'data\\\\maestro-v2.0.0\\\\2009\\\\MIDI-Unprocessed_03_R1_2009_03-08_ORIG_MID--AUDIO_03_R1_2009_03_R1_2009_03_WAV.midi', 'data\\\\maestro-v2.0.0\\\\2009\\\\MIDI-Unprocessed_03_R1_2009_03-08_ORIG_MID--AUDIO_03_R1_2009_03_R1_2009_04_WAV.midi', 'data\\\\maestro-v2.0.0\\\\2009\\\\MIDI-Unprocessed_03_R1_2009_03-08_ORIG_MID--AUDIO_03_R1_2009_03_R1_2009_05_WAV.midi', 'data\\\\maestro-v2.0.0\\\\2009\\\\MIDI-Unprocessed_03_R1_2009_03-08_ORIG_MID--AUDIO_03_R1_2009_03_R1_2009_06_WAV.midi', 'data\\\\maestro-v2.0.0\\\\2009\\\\MIDI-Unprocessed_03_R1_2009_03-08_ORIG_MID--AUDIO_03_R1_2009_03_R1_2009_07_WAV.midi', 'data\\\\maestro-v2.0.0\\\\2009\\\\MIDI-Unprocessed_03_R1_2009_03-08_ORIG_MID--AUDIO_03_R1_2009_03_R1_2009_08_WAV.midi', 'data\\\\maestro-v2.0.0\\\\2009\\\\MIDI-Unprocessed_04_R1_2009_01-03_ORIG_MID--AUDIO_04_R1_2009_04_R1_2009_02_WAV.midi', 'data\\\\maestro-v2.0.0\\\\2009\\\\MIDI-Unprocessed_04_R1_2009_04-06_ORIG_MID--AUDIO_04_R1_2009_04_R1_2009_04_WAV.midi', 'data\\\\maestro-v2.0.0\\\\2009\\\\MIDI-Unprocessed_04_R1_2009_04-06_ORIG_MID--AUDIO_04_R1_2009_04_R1_2009_05_WAV.midi', 'data\\\\maestro-v2.0.0\\\\2009\\\\MIDI-Unprocessed_04_R1_2009_04-06_ORIG_MID--AUDIO_04_R1_2009_04_R1_2009_06_WAV.midi', 'data\\\\maestro-v2.0.0\\\\2009\\\\MIDI-Unprocessed_05_R1_2009_01-02_ORIG_MID--AUDIO_05_R1_2009_05_R1_2009_01_WAV.midi', 'data\\\\maestro-v2.0.0\\\\2009\\\\MIDI-Unprocessed_05_R1_2009_01-02_ORIG_MID--AUDIO_05_R1_2009_05_R1_2009_02_WAV.midi', 'data\\\\maestro-v2.0.0\\\\2009\\\\MIDI-Unprocessed_05_R1_2009_03-05_ORIG_MID--AUDIO_05_R1_2009_05_R1_2009_03_WAV.midi', 'data\\\\maestro-v2.0.0\\\\2009\\\\MIDI-Unprocessed_06_R1_2009_01-02_ORIG_MID--AUDIO_06_R1_2009_06_R1_2009_02_WAV.midi', 'data\\\\maestro-v2.0.0\\\\2009\\\\MIDI-Unprocessed_06_R1_2009_03-07_ORIG_MID--AUDIO_06_R1_2009_06_R1_2009_03_WAV.midi', 'data\\\\maestro-v2.0.0\\\\2009\\\\MIDI-Unprocessed_06_R1_2009_03-07_ORIG_MID--AUDIO_06_R1_2009_06_R1_2009_04_WAV.midi', 'data\\\\maestro-v2.0.0\\\\2009\\\\MIDI-Unprocessed_06_R1_2009_03-07_ORIG_MID--AUDIO_06_R1_2009_06_R1_2009_05_WAV.midi', 'data\\\\maestro-v2.0.0\\\\2009\\\\MIDI-Unprocessed_06_R1_2009_03-07_ORIG_MID--AUDIO_06_R1_2009_06_R1_2009_06_WAV.midi', 'data\\\\maestro-v2.0.0\\\\2009\\\\MIDI-Unprocessed_06_R1_2009_03-07_ORIG_MID--AUDIO_06_R1_2009_06_R1_2009_07_WAV.midi', 'data\\\\maestro-v2.0.0\\\\2009\\\\MIDI-Unprocessed_07_R1_2009_01-03_ORIG_MID--AUDIO_07_R1_2009_07_R1_2009_02_WAV.midi', 'data\\\\maestro-v2.0.0\\\\2009\\\\MIDI-Unprocessed_07_R1_2009_01-03_ORIG_MID--AUDIO_07_R1_2009_07_R1_2009_03_WAV.midi', 'data\\\\maestro-v2.0.0\\\\2009\\\\MIDI-Unprocessed_07_R1_2009_04-05_ORIG_MID--AUDIO_07_R1_2009_07_R1_2009_04_WAV.midi', 'data\\\\maestro-v2.0.0\\\\2009\\\\MIDI-Unprocessed_07_R1_2009_04-05_ORIG_MID--AUDIO_07_R1_2009_07_R1_2009_05_WAV.midi', 'data\\\\maestro-v2.0.0\\\\2009\\\\MIDI-Unprocessed_07_R2_2009_01_ORIG_MID--AUDIO_07_R2_2009_07_R2_2009_01_WAV.midi', 'data\\\\maestro-v2.0.0\\\\2009\\\\MIDI-Unprocessed_07_R2_2009_01_ORIG_MID--AUDIO_07_R2_2009_07_R2_2009_02_WAV.midi', 'data\\\\maestro-v2.0.0\\\\2009\\\\MIDI-Unprocessed_07_R2_2009_01_ORIG_MID--AUDIO_07_R2_2009_07_R2_2009_03_WAV.midi', 'data\\\\maestro-v2.0.0\\\\2009\\\\MIDI-Unprocessed_07_R2_2009_01_ORIG_MID--AUDIO_07_R2_2009_07_R2_2009_04_WAV.midi', 'data\\\\maestro-v2.0.0\\\\2009\\\\MIDI-Unprocessed_08_R1_2009_01-04_ORIG_MID--AUDIO_08_R1_2009_08_R1_2009_01_WAV.midi', 'data\\\\maestro-v2.0.0\\\\2009\\\\MIDI-Unprocessed_08_R1_2009_01-04_ORIG_MID--AUDIO_08_R1_2009_08_R1_2009_02_WAV.midi', 'data\\\\maestro-v2.0.0\\\\2009\\\\MIDI-Unprocessed_08_R1_2009_01-04_ORIG_MID--AUDIO_08_R1_2009_08_R1_2009_03_WAV.midi', 'data\\\\maestro-v2.0.0\\\\2009\\\\MIDI-Unprocessed_08_R1_2009_01-04_ORIG_MID--AUDIO_08_R1_2009_08_R1_2009_04_WAV.midi', 'data\\\\maestro-v2.0.0\\\\2009\\\\MIDI-Unprocessed_08_R1_2009_05-06_ORIG_MID--AUDIO_08_R1_2009_08_R1_2009_06_WAV.midi', 'data\\\\maestro-v2.0.0\\\\2009\\\\MIDI-Unprocessed_08_R2_2009_01_ORIG_MID--AUDIO_08_R2_2009_08_R2_2009_01_WAV.midi', 'data\\\\maestro-v2.0.0\\\\2009\\\\MIDI-Unprocessed_08_R2_2009_01_ORIG_MID--AUDIO_08_R2_2009_08_R2_2009_02_WAV.midi', 'data\\\\maestro-v2.0.0\\\\2009\\\\MIDI-Unprocessed_08_R2_2009_01_ORIG_MID--AUDIO_08_R2_2009_08_R2_2009_03_WAV.midi', 'data\\\\maestro-v2.0.0\\\\2009\\\\MIDI-Unprocessed_08_R2_2009_01_ORIG_MID--AUDIO_08_R2_2009_08_R2_2009_04_WAV.midi', 'data\\\\maestro-v2.0.0\\\\2009\\\\MIDI-Unprocessed_09_R1_2009_01-04_ORIG_MID--AUDIO_09_R1_2009_09_R1_2009_01_WAV.midi', 'data\\\\maestro-v2.0.0\\\\2009\\\\MIDI-Unprocessed_09_R1_2009_01-04_ORIG_MID--AUDIO_09_R1_2009_09_R1_2009_02_WAV.midi', 'data\\\\maestro-v2.0.0\\\\2009\\\\MIDI-Unprocessed_09_R1_2009_01-04_ORIG_MID--AUDIO_09_R1_2009_09_R1_2009_03_WAV.midi', 'data\\\\maestro-v2.0.0\\\\2009\\\\MIDI-Unprocessed_09_R1_2009_01-04_ORIG_MID--AUDIO_09_R1_2009_09_R1_2009_04_WAV.midi', 'data\\\\maestro-v2.0.0\\\\2009\\\\MIDI-Unprocessed_09_R1_2009_05-06_ORIG_MID--AUDIO_09_R1_2009_09_R1_2009_05_WAV.midi', 'data\\\\maestro-v2.0.0\\\\2009\\\\MIDI-Unprocessed_09_R2_2009_01_ORIG_MID--AUDIO_09_R2_2009_09_R2_2009_01_WAV.midi', 'data\\\\maestro-v2.0.0\\\\2009\\\\MIDI-Unprocessed_09_R2_2009_01_ORIG_MID--AUDIO_09_R2_2009_09_R2_2009_02_WAV.midi', 'data\\\\maestro-v2.0.0\\\\2009\\\\MIDI-Unprocessed_09_R2_2009_01_ORIG_MID--AUDIO_09_R2_2009_09_R2_2009_03_WAV.midi', 'data\\\\maestro-v2.0.0\\\\2009\\\\MIDI-Unprocessed_09_R2_2009_01_ORIG_MID--AUDIO_09_R2_2009_09_R2_2009_04_WAV.midi', 'data\\\\maestro-v2.0.0\\\\2009\\\\MIDI-Unprocessed_10_R1_2009_01-02_ORIG_MID--AUDIO_10_R1_2009_10_R1_2009_01_WAV.midi', 'data\\\\maestro-v2.0.0\\\\2009\\\\MIDI-Unprocessed_10_R1_2009_01-02_ORIG_MID--AUDIO_10_R1_2009_10_R1_2009_02_WAV.midi', 'data\\\\maestro-v2.0.0\\\\2009\\\\MIDI-Unprocessed_10_R1_2009_03-05_ORIG_MID--AUDIO_10_R1_2009_10_R1_2009_03_WAV.midi', 'data\\\\maestro-v2.0.0\\\\2009\\\\MIDI-Unprocessed_10_R1_2009_03-05_ORIG_MID--AUDIO_10_R1_2009_10_R1_2009_04_WAV.midi', 'data\\\\maestro-v2.0.0\\\\2009\\\\MIDI-Unprocessed_10_R2_2009_01_ORIG_MID--AUDIO_10_R2_2009_10_R2_2009_01_WAV.midi', 'data\\\\maestro-v2.0.0\\\\2009\\\\MIDI-Unprocessed_10_R2_2009_01_ORIG_MID--AUDIO_10_R2_2009_10_R2_2009_02_WAV.midi', 'data\\\\maestro-v2.0.0\\\\2009\\\\MIDI-Unprocessed_10_R2_2009_01_ORIG_MID--AUDIO_10_R2_2009_10_R2_2009_03_WAV.midi', 'data\\\\maestro-v2.0.0\\\\2009\\\\MIDI-Unprocessed_10_R2_2009_01_ORIG_MID--AUDIO_10_R2_2009_10_R2_2009_04_WAV.midi', 'data\\\\maestro-v2.0.0\\\\2009\\\\MIDI-Unprocessed_11_R1_2009_01-05_ORIG_MID--AUDIO_11_R1_2009_11_R1_2009_01_WAV.midi', 'data\\\\maestro-v2.0.0\\\\2009\\\\MIDI-Unprocessed_11_R1_2009_01-05_ORIG_MID--AUDIO_11_R1_2009_11_R1_2009_02_WAV.midi', 'data\\\\maestro-v2.0.0\\\\2009\\\\MIDI-Unprocessed_11_R1_2009_01-05_ORIG_MID--AUDIO_11_R1_2009_11_R1_2009_03_WAV.midi', 'data\\\\maestro-v2.0.0\\\\2009\\\\MIDI-Unprocessed_11_R1_2009_01-05_ORIG_MID--AUDIO_11_R1_2009_11_R1_2009_04_WAV.midi', 'data\\\\maestro-v2.0.0\\\\2009\\\\MIDI-Unprocessed_11_R1_2009_06-09_ORIG_MID--AUDIO_11_R1_2009_11_R1_2009_06_WAV.midi', 'data\\\\maestro-v2.0.0\\\\2009\\\\MIDI-Unprocessed_11_R1_2009_06-09_ORIG_MID--AUDIO_11_R1_2009_11_R1_2009_07_WAV.midi', 'data\\\\maestro-v2.0.0\\\\2009\\\\MIDI-Unprocessed_11_R1_2009_06-09_ORIG_MID--AUDIO_11_R1_2009_11_R1_2009_08_WAV.midi', 'data\\\\maestro-v2.0.0\\\\2009\\\\MIDI-Unprocessed_11_R1_2009_06-09_ORIG_MID--AUDIO_11_R1_2009_11_R1_2009_09_WAV.midi', 'data\\\\maestro-v2.0.0\\\\2009\\\\MIDI-Unprocessed_12_R1_2009_01-02_ORIG_MID--AUDIO_12_R1_2009_12_R1_2009_01_WAV.midi', 'data\\\\maestro-v2.0.0\\\\2009\\\\MIDI-Unprocessed_12_R1_2009_03-05_ORIG_MID--AUDIO_12_R1_2009_12_R1_2009_03_WAV.midi', 'data\\\\maestro-v2.0.0\\\\2009\\\\MIDI-Unprocessed_12_R1_2009_03-05_ORIG_MID--AUDIO_12_R1_2009_12_R1_2009_05_WAV.midi', 'data\\\\maestro-v2.0.0\\\\2009\\\\MIDI-Unprocessed_12_R2_2009_01_ORIG_MID--AUDIO_12_R2_2009_12_R2_2009_01_WAV.midi', 'data\\\\maestro-v2.0.0\\\\2009\\\\MIDI-Unprocessed_12_R2_2009_01_ORIG_MID--AUDIO_12_R2_2009_12_R2_2009_02_WAV.midi', 'data\\\\maestro-v2.0.0\\\\2009\\\\MIDI-Unprocessed_12_R2_2009_01_ORIG_MID--AUDIO_12_R2_2009_12_R2_2009_03_WAV.midi', 'data\\\\maestro-v2.0.0\\\\2009\\\\MIDI-Unprocessed_12_R2_2009_01_ORIG_MID--AUDIO_12_R2_2009_12_R2_2009_04_WAV.midi', 'data\\\\maestro-v2.0.0\\\\2009\\\\MIDI-Unprocessed_13_R1_2009_01-03_ORIG_MID--AUDIO_13_R1_2009_13_R1_2009_01_WAV.midi', 'data\\\\maestro-v2.0.0\\\\2009\\\\MIDI-Unprocessed_13_R1_2009_01-03_ORIG_MID--AUDIO_13_R1_2009_13_R1_2009_03_WAV.midi', 'data\\\\maestro-v2.0.0\\\\2009\\\\MIDI-Unprocessed_13_R1_2009_04_ORIG_MID--AUDIO_13_R1_2009_13_R1_2009_04_WAV.midi', 'data\\\\maestro-v2.0.0\\\\2009\\\\MIDI-Unprocessed_14_R1_2009_01-05_ORIG_MID--AUDIO_14_R1_2009_14_R1_2009_02_WAV.midi', 'data\\\\maestro-v2.0.0\\\\2009\\\\MIDI-Unprocessed_14_R1_2009_01-05_ORIG_MID--AUDIO_14_R1_2009_14_R1_2009_03_WAV.midi', 'data\\\\maestro-v2.0.0\\\\2009\\\\MIDI-Unprocessed_14_R1_2009_01-05_ORIG_MID--AUDIO_14_R1_2009_14_R1_2009_04_WAV.midi', 'data\\\\maestro-v2.0.0\\\\2009\\\\MIDI-Unprocessed_14_R1_2009_01-05_ORIG_MID--AUDIO_14_R1_2009_14_R1_2009_05_WAV.midi', 'data\\\\maestro-v2.0.0\\\\2009\\\\MIDI-Unprocessed_14_R1_2009_06-08_ORIG_MID--AUDIO_14_R1_2009_14_R1_2009_06_WAV.midi', 'data\\\\maestro-v2.0.0\\\\2009\\\\MIDI-Unprocessed_14_R1_2009_06-08_ORIG_MID--AUDIO_14_R1_2009_14_R1_2009_08_WAV.midi', 'data\\\\maestro-v2.0.0\\\\2009\\\\MIDI-Unprocessed_15_R1_2009_01-02_ORIG_MID--AUDIO_15_R1_2009_15_R1_2009_01_WAV.midi', 'data\\\\maestro-v2.0.0\\\\2009\\\\MIDI-Unprocessed_15_R1_2009_01-02_ORIG_MID--AUDIO_15_R1_2009_15_R1_2009_02_WAV.midi', 'data\\\\maestro-v2.0.0\\\\2009\\\\MIDI-Unprocessed_15_R1_2009_03-06_ORIG_MID--AUDIO_15_R1_2009_15_R1_2009_03_WAV.midi', 'data\\\\maestro-v2.0.0\\\\2009\\\\MIDI-Unprocessed_15_R1_2009_03-06_ORIG_MID--AUDIO_15_R1_2009_15_R1_2009_05_WAV.midi', 'data\\\\maestro-v2.0.0\\\\2009\\\\MIDI-Unprocessed_15_R1_2009_03-06_ORIG_MID--AUDIO_15_R1_2009_15_R1_2009_06_WAV.midi', 'data\\\\maestro-v2.0.0\\\\2009\\\\MIDI-Unprocessed_16_R1_2009_01-02_ORIG_MID--AUDIO_16_R1_2009_16_R1_2009_01_WAV.midi', 'data\\\\maestro-v2.0.0\\\\2009\\\\MIDI-Unprocessed_16_R1_2009_01-02_ORIG_MID--AUDIO_16_R1_2009_16_R1_2009_02_WAV.midi', 'data\\\\maestro-v2.0.0\\\\2009\\\\MIDI-Unprocessed_16_R1_2009_03-06_ORIG_MID--AUDIO_16_R1_2009_16_R1_2009_03_WAV.midi', 'data\\\\maestro-v2.0.0\\\\2009\\\\MIDI-Unprocessed_16_R2_2009_01_ORIG_MID--AUDIO_16_R2_2009_16_R2_2009_01_WAV.midi', 'data\\\\maestro-v2.0.0\\\\2009\\\\MIDI-Unprocessed_16_R2_2009_01_ORIG_MID--AUDIO_16_R2_2009_16_R2_2009_02_WAV.midi', 'data\\\\maestro-v2.0.0\\\\2009\\\\MIDI-Unprocessed_16_R2_2009_01_ORIG_MID--AUDIO_16_R2_2009_16_R2_2009_03_WAV.midi', 'data\\\\maestro-v2.0.0\\\\2009\\\\MIDI-Unprocessed_16_R2_2009_01_ORIG_MID--AUDIO_16_R2_2009_16_R2_2009_04_WAV.midi', 'data\\\\maestro-v2.0.0\\\\2009\\\\MIDI-Unprocessed_17_R1_2009_01-03_ORIG_MID--AUDIO_17_R1_2009_17_R1_2009_01_WAV.midi', 'data\\\\maestro-v2.0.0\\\\2009\\\\MIDI-Unprocessed_17_R1_2009_01-03_ORIG_MID--AUDIO_17_R1_2009_17_R1_2009_02_WAV.midi', 'data\\\\maestro-v2.0.0\\\\2009\\\\MIDI-Unprocessed_17_R1_2009_01-03_ORIG_MID--AUDIO_17_R1_2009_17_R1_2009_03_WAV.midi', 'data\\\\maestro-v2.0.0\\\\2009\\\\MIDI-Unprocessed_17_R1_2009_04_ORIG_MID--AUDIO_17_R1_2009_17_R1_2009_04_WAV.midi', 'data\\\\maestro-v2.0.0\\\\2009\\\\MIDI-Unprocessed_17_R2_2009_01_ORIG_MID--AUDIO_17_R2_2009_17_R2_2009_01_WAV.midi', 'data\\\\maestro-v2.0.0\\\\2009\\\\MIDI-Unprocessed_17_R2_2009_01_ORIG_MID--AUDIO_17_R2_2009_17_R2_2009_02_WAV.midi', 'data\\\\maestro-v2.0.0\\\\2009\\\\MIDI-Unprocessed_17_R2_2009_01_ORIG_MID--AUDIO_17_R2_2009_17_R2_2009_03_WAV.midi', 'data\\\\maestro-v2.0.0\\\\2009\\\\MIDI-Unprocessed_17_R2_2009_01_ORIG_MID--AUDIO_17_R2_2009_17_R2_2009_04_WAV.midi', 'data\\\\maestro-v2.0.0\\\\2009\\\\MIDI-Unprocessed_18_R1_2009_01-03_ORIG_MID--AUDIO_18_R1_2009_18_R1_2009_01_WAV.midi', 'data\\\\maestro-v2.0.0\\\\2009\\\\MIDI-Unprocessed_18_R1_2009_01-03_ORIG_MID--AUDIO_18_R1_2009_18_R1_2009_02_WAV.midi', 'data\\\\maestro-v2.0.0\\\\2009\\\\MIDI-Unprocessed_18_R1_2009_04_ORIG_MID--AUDIO_18_R1_2009_18_R1_2009_04_WAV.midi', 'data\\\\maestro-v2.0.0\\\\2009\\\\MIDI-Unprocessed_19_R1_2009_01-02_ORIG_MID--AUDIO_19_R1_2009_19_R1_2009_02_WAV.midi', 'data\\\\maestro-v2.0.0\\\\2009\\\\MIDI-Unprocessed_19_R1_2009_03-04_ORIG_MID--AUDIO_19_R1_2009_19_R1_2009_04_WAV.midi', 'data\\\\maestro-v2.0.0\\\\2009\\\\MIDI-Unprocessed_19_R2_2009_01_ORIG_MID--AUDIO_19_R2_2009_19_R2_2009_01_WAV.midi', 'data\\\\maestro-v2.0.0\\\\2009\\\\MIDI-Unprocessed_19_R2_2009_01_ORIG_MID--AUDIO_19_R2_2009_19_R2_2009_02_WAV.midi', 'data\\\\maestro-v2.0.0\\\\2009\\\\MIDI-Unprocessed_19_R2_2009_01_ORIG_MID--AUDIO_19_R2_2009_19_R2_2009_03_WAV.midi', 'data\\\\maestro-v2.0.0\\\\2009\\\\MIDI-Unprocessed_19_R2_2009_01_ORIG_MID--AUDIO_19_R2_2009_19_R2_2009_04_WAV.midi', 'data\\\\maestro-v2.0.0\\\\2009\\\\MIDI-Unprocessed_20_R1_2009_01-05_ORIG_MID--AUDIO_20_R1_2009_20_R1_2009_01_WAV.midi', 'data\\\\maestro-v2.0.0\\\\2009\\\\MIDI-Unprocessed_20_R1_2009_01-05_ORIG_MID--AUDIO_20_R1_2009_20_R1_2009_02_WAV.midi', 'data\\\\maestro-v2.0.0\\\\2009\\\\MIDI-Unprocessed_20_R1_2009_06-07_ORIG_MID--AUDIO_20_R1_2009_20_R1_2009_06_WAV.midi', 'data\\\\maestro-v2.0.0\\\\2009\\\\MIDI-Unprocessed_21_R1_2009_01-03_ORIG_MID--AUDIO_21_R1_2009_21_R1_2009_01_WAV.midi', 'data\\\\maestro-v2.0.0\\\\2009\\\\MIDI-Unprocessed_21_R1_2009_01-03_ORIG_MID--AUDIO_21_R1_2009_21_R1_2009_03_WAV.midi', 'data\\\\maestro-v2.0.0\\\\2009\\\\MIDI-Unprocessed_21_R1_2009_04_ORIG_MID--AUDIO_21_R1_2009_21_R1_2009_04_WAV.midi', 'data\\\\maestro-v2.0.0\\\\2009\\\\MIDI-Unprocessed_21_R2_2009_01_ORIG_MID--AUDIO_21_R2_2009_21_R2_2009_01_WAV.midi', 'data\\\\maestro-v2.0.0\\\\2009\\\\MIDI-Unprocessed_21_R2_2009_01_ORIG_MID--AUDIO_21_R2_2009_21_R2_2009_02_WAV.midi', 'data\\\\maestro-v2.0.0\\\\2009\\\\MIDI-Unprocessed_21_R2_2009_01_ORIG_MID--AUDIO_21_R2_2009_21_R2_2009_03_WAV.midi', 'data\\\\maestro-v2.0.0\\\\2009\\\\MIDI-Unprocessed_21_R2_2009_01_ORIG_MID--AUDIO_21_R2_2009_21_R2_2009_04_WAV.midi', 'data\\\\maestro-v2.0.0\\\\2011\\\\MIDI-Unprocessed_01_R1_2011_MID--AUDIO_R1-D1_02_Track02_wav.midi', 'data\\\\maestro-v2.0.0\\\\2011\\\\MIDI-Unprocessed_01_R1_2011_MID--AUDIO_R1-D1_03_Track03_wav.midi', 'data\\\\maestro-v2.0.0\\\\2011\\\\MIDI-Unprocessed_01_R1_2011_MID--AUDIO_R1-D1_04_Track04_wav.midi', 'data\\\\maestro-v2.0.0\\\\2011\\\\MIDI-Unprocessed_01_R1_2011_MID--AUDIO_R1-D1_05_Track05_wav.midi', 'data\\\\maestro-v2.0.0\\\\2011\\\\MIDI-Unprocessed_01_R1_2011_MID--AUDIO_R1-D1_06_Track06_wav.midi', 'data\\\\maestro-v2.0.0\\\\2011\\\\MIDI-Unprocessed_02_R1_2011_MID--AUDIO_R1-D1_08_Track08_wav.midi', 'data\\\\maestro-v2.0.0\\\\2011\\\\MIDI-Unprocessed_02_R1_2011_MID--AUDIO_R1-D1_09_Track09_wav.midi', 'data\\\\maestro-v2.0.0\\\\2011\\\\MIDI-Unprocessed_02_R1_2011_MID--AUDIO_R1-D1_10_Track10_wav.midi', 'data\\\\maestro-v2.0.0\\\\2011\\\\MIDI-Unprocessed_02_R2_2011_MID--AUDIO_R2-D1_02_Track02_wav.midi', 'data\\\\maestro-v2.0.0\\\\2011\\\\MIDI-Unprocessed_02_R2_2011_MID--AUDIO_R2-D1_03_Track03_wav.midi', 'data\\\\maestro-v2.0.0\\\\2011\\\\MIDI-Unprocessed_03_R1_2011_MID--AUDIO_R1-D1_15_Track15_wav.midi', 'data\\\\maestro-v2.0.0\\\\2011\\\\MIDI-Unprocessed_03_R1_2011_MID--AUDIO_R1-D1_16_Track16_wav.midi', 'data\\\\maestro-v2.0.0\\\\2011\\\\MIDI-Unprocessed_03_R1_2011_MID--AUDIO_R1-D1_17_Track17_wav.midi', 'data\\\\maestro-v2.0.0\\\\2011\\\\MIDI-Unprocessed_03_R1_2011_MID--AUDIO_R1-D1_18_Track18_wav.midi', 'data\\\\maestro-v2.0.0\\\\2011\\\\MIDI-Unprocessed_03_R1_2011_MID--AUDIO_R1-D1_19_Track19_wav.midi', 'data\\\\maestro-v2.0.0\\\\2011\\\\MIDI-Unprocessed_03_R2_2011_MID--AUDIO_R2-D1_06_Track06_wav.midi', 'data\\\\maestro-v2.0.0\\\\2011\\\\MIDI-Unprocessed_03_R2_2011_MID--AUDIO_R2-D1_07_Track07_wav.midi', 'data\\\\maestro-v2.0.0\\\\2011\\\\MIDI-Unprocessed_03_R2_2011_MID--AUDIO_R2-D1_08_Track08_wav.midi', 'data\\\\maestro-v2.0.0\\\\2011\\\\MIDI-Unprocessed_03_R3_2011_MID--AUDIO_R3-D1_02_Track02_wav.midi', 'data\\\\maestro-v2.0.0\\\\2011\\\\MIDI-Unprocessed_03_R3_2011_MID--AUDIO_R3-D1_03_Track03_wav.midi', 'data\\\\maestro-v2.0.0\\\\2011\\\\MIDI-Unprocessed_03_R3_2011_MID--AUDIO_R3-D1_04_Track04_wav.midi', 'data\\\\maestro-v2.0.0\\\\2011\\\\MIDI-Unprocessed_03_R3_2011_MID--AUDIO_R3-D1_05_Track05_wav.midi', 'data\\\\maestro-v2.0.0\\\\2011\\\\MIDI-Unprocessed_03_R3_2011_MID--AUDIO_R3-D1_06_Track06_wav.midi', 'data\\\\maestro-v2.0.0\\\\2011\\\\MIDI-Unprocessed_03_R3_2011_MID--AUDIO_R3-D1_07_Track07_wav.midi', 'data\\\\maestro-v2.0.0\\\\2011\\\\MIDI-Unprocessed_04_R1_2011_MID--AUDIO_R1-D2_02_Track02_wav.midi', 'data\\\\maestro-v2.0.0\\\\2011\\\\MIDI-Unprocessed_04_R1_2011_MID--AUDIO_R1-D2_03_Track03_wav.midi', 'data\\\\maestro-v2.0.0\\\\2011\\\\MIDI-Unprocessed_04_R1_2011_MID--AUDIO_R1-D2_04_Track04_wav.midi', 'data\\\\maestro-v2.0.0\\\\2011\\\\MIDI-Unprocessed_04_R1_2011_MID--AUDIO_R1-D2_06_Track06_wav.midi', 'data\\\\maestro-v2.0.0\\\\2011\\\\MIDI-Unprocessed_04_R2_2011_MID--AUDIO_R2-D2_02_Track02_wav.midi', 'data\\\\maestro-v2.0.0\\\\2011\\\\MIDI-Unprocessed_04_R2_2011_MID--AUDIO_R2-D2_03_Track03_wav.midi', 'data\\\\maestro-v2.0.0\\\\2011\\\\MIDI-Unprocessed_04_R3_2011_MID--AUDIO_R3-D2_03_Track03_wav.midi', 'data\\\\maestro-v2.0.0\\\\2011\\\\MIDI-Unprocessed_04_R3_2011_MID--AUDIO_R3-D2_04_Track04_wav.midi', 'data\\\\maestro-v2.0.0\\\\2011\\\\MIDI-Unprocessed_04_R3_2011_MID--AUDIO_R3-D2_05_Track05_wav.midi', 'data\\\\maestro-v2.0.0\\\\2011\\\\MIDI-Unprocessed_04_R3_2011_MID--AUDIO_R3-D2_06_Track06_wav.midi', 'data\\\\maestro-v2.0.0\\\\2011\\\\MIDI-Unprocessed_05_R1_2011_MID--AUDIO_R1-D2_08_Track08_wav.midi', 'data\\\\maestro-v2.0.0\\\\2011\\\\MIDI-Unprocessed_05_R1_2011_MID--AUDIO_R1-D2_09_Track09_wav.midi', 'data\\\\maestro-v2.0.0\\\\2011\\\\MIDI-Unprocessed_05_R1_2011_MID--AUDIO_R1-D2_10_Track10_wav.midi', 'data\\\\maestro-v2.0.0\\\\2011\\\\MIDI-Unprocessed_05_R1_2011_MID--AUDIO_R1-D2_11_Track11_wav.midi', 'data\\\\maestro-v2.0.0\\\\2011\\\\MIDI-Unprocessed_05_R1_2011_MID--AUDIO_R1-D2_12_Track12_wav.midi', 'data\\\\maestro-v2.0.0\\\\2011\\\\MIDI-Unprocessed_06_R1_2011_MID--AUDIO_R1-D2_14_Track14_wav.midi', 'data\\\\maestro-v2.0.0\\\\2011\\\\MIDI-Unprocessed_06_R1_2011_MID--AUDIO_R1-D2_15_Track15_wav.midi', 'data\\\\maestro-v2.0.0\\\\2011\\\\MIDI-Unprocessed_06_R1_2011_MID--AUDIO_R1-D2_16_Track16_wav.midi', 'data\\\\maestro-v2.0.0\\\\2011\\\\MIDI-Unprocessed_06_R1_2011_MID--AUDIO_R1-D2_17_Track17_wav.midi', 'data\\\\maestro-v2.0.0\\\\2011\\\\MIDI-Unprocessed_06_R2_2011_MID--AUDIO_R2-D2_06_Track06_wav.midi', 'data\\\\maestro-v2.0.0\\\\2011\\\\MIDI-Unprocessed_06_R2_2011_MID--AUDIO_R2-D2_07_Track07_wav.midi', 'data\\\\maestro-v2.0.0\\\\2011\\\\MIDI-Unprocessed_06_R3_2011_MID--AUDIO_R3-D3_02_Track02_wav.midi', 'data\\\\maestro-v2.0.0\\\\2011\\\\MIDI-Unprocessed_06_R3_2011_MID--AUDIO_R3-D3_05_Track05_wav.midi', 'data\\\\maestro-v2.0.0\\\\2011\\\\MIDI-Unprocessed_06_R3_2011_MID--AUDIO_R3-D3_06_Track06_wav.midi', 'data\\\\maestro-v2.0.0\\\\2011\\\\MIDI-Unprocessed_07_R1_2011_MID--AUDIO_R1-D3_02_Track02_wav.midi', 'data\\\\maestro-v2.0.0\\\\2011\\\\MIDI-Unprocessed_07_R1_2011_MID--AUDIO_R1-D3_03_Track03_wav.midi', 'data\\\\maestro-v2.0.0\\\\2011\\\\MIDI-Unprocessed_07_R1_2011_MID--AUDIO_R1-D3_04_Track04_wav.midi', 'data\\\\maestro-v2.0.0\\\\2011\\\\MIDI-Unprocessed_07_R1_2011_MID--AUDIO_R1-D3_05_Track05_wav.midi', 'data\\\\maestro-v2.0.0\\\\2011\\\\MIDI-Unprocessed_08_R1_2011_MID--AUDIO_R1-D3_07_Track07_wav.midi', 'data\\\\maestro-v2.0.0\\\\2011\\\\MIDI-Unprocessed_08_R1_2011_MID--AUDIO_R1-D3_08_Track08_wav.midi', 'data\\\\maestro-v2.0.0\\\\2011\\\\MIDI-Unprocessed_08_R1_2011_MID--AUDIO_R1-D3_09_Track09_wav.midi', 'data\\\\maestro-v2.0.0\\\\2011\\\\MIDI-Unprocessed_08_R1_2011_MID--AUDIO_R1-D3_10_Track10_wav.midi', 'data\\\\maestro-v2.0.0\\\\2011\\\\MIDI-Unprocessed_09_R1_2011_MID--AUDIO_R1-D3_12_Track12_wav.midi', 'data\\\\maestro-v2.0.0\\\\2011\\\\MIDI-Unprocessed_09_R1_2011_MID--AUDIO_R1-D3_13_Track13_wav.midi', 'data\\\\maestro-v2.0.0\\\\2011\\\\MIDI-Unprocessed_09_R1_2011_MID--AUDIO_R1-D3_14_Track14_wav.midi', 'data\\\\maestro-v2.0.0\\\\2011\\\\MIDI-Unprocessed_09_R1_2011_MID--AUDIO_R1-D3_15_Track15_wav.midi', 'data\\\\maestro-v2.0.0\\\\2011\\\\MIDI-Unprocessed_09_R2_2011_MID--AUDIO_R2-D3_03_Track03_wav.midi', 'data\\\\maestro-v2.0.0\\\\2011\\\\MIDI-Unprocessed_09_R2_2011_MID--AUDIO_R2-D3_04_Track04_wav.midi', 'data\\\\maestro-v2.0.0\\\\2011\\\\MIDI-Unprocessed_10_R1_2011_MID--AUDIO_R1-D4_02_Track02_wav.midi', 'data\\\\maestro-v2.0.0\\\\2011\\\\MIDI-Unprocessed_10_R1_2011_MID--AUDIO_R1-D4_04_Track04_wav.midi', 'data\\\\maestro-v2.0.0\\\\2011\\\\MIDI-Unprocessed_10_R1_2011_MID--AUDIO_R1-D4_05_Track05_wav.midi', 'data\\\\maestro-v2.0.0\\\\2011\\\\MIDI-Unprocessed_10_R2_2011_MID--AUDIO_R2-D3_10_Track10_wav.midi', 'data\\\\maestro-v2.0.0\\\\2011\\\\MIDI-Unprocessed_10_R2_2011_MID--AUDIO_R2-D3_11_Track11_wav.midi', 'data\\\\maestro-v2.0.0\\\\2011\\\\MIDI-Unprocessed_11_R1_2011_MID--AUDIO_R1-D4_07_Track07_wav.midi', 'data\\\\maestro-v2.0.0\\\\2011\\\\MIDI-Unprocessed_11_R1_2011_MID--AUDIO_R1-D4_08_Track08_wav.midi', 'data\\\\maestro-v2.0.0\\\\2011\\\\MIDI-Unprocessed_11_R1_2011_MID--AUDIO_R1-D4_09_Track09_wav.midi', 'data\\\\maestro-v2.0.0\\\\2011\\\\MIDI-Unprocessed_11_R1_2011_MID--AUDIO_R1-D4_10_Track10_wav.midi', 'data\\\\maestro-v2.0.0\\\\2011\\\\MIDI-Unprocessed_11_R1_2011_MID--AUDIO_R1-D4_11_Track11_wav.midi', 'data\\\\maestro-v2.0.0\\\\2011\\\\MIDI-Unprocessed_12_R1_2011_MID--AUDIO_R1-D4_13_Track13_wav.midi', 'data\\\\maestro-v2.0.0\\\\2011\\\\MIDI-Unprocessed_12_R1_2011_MID--AUDIO_R1-D4_14_Track14_wav.midi', 'data\\\\maestro-v2.0.0\\\\2011\\\\MIDI-Unprocessed_12_R1_2011_MID--AUDIO_R1-D4_15_Track15_wav.midi', 'data\\\\maestro-v2.0.0\\\\2011\\\\MIDI-Unprocessed_12_R2_2011_MID--AUDIO_R2-D4_02_Track02_wav.midi', 'data\\\\maestro-v2.0.0\\\\2011\\\\MIDI-Unprocessed_12_R2_2011_MID--AUDIO_R2-D4_03_Track03_wav.midi', 'data\\\\maestro-v2.0.0\\\\2011\\\\MIDI-Unprocessed_12_R2_2011_MID--AUDIO_R2-D4_04_Track04_wav.midi', 'data\\\\maestro-v2.0.0\\\\2011\\\\MIDI-Unprocessed_12_R2_2011_MID--AUDIO_R2-D4_05_Track05_wav.midi', 'data\\\\maestro-v2.0.0\\\\2011\\\\MIDI-Unprocessed_12_R3_2011_MID--AUDIO_R3-D4_02_Track02_wav.midi', 'data\\\\maestro-v2.0.0\\\\2011\\\\MIDI-Unprocessed_12_R3_2011_MID--AUDIO_R3-D4_03_Track03_wav.midi', 'data\\\\maestro-v2.0.0\\\\2011\\\\MIDI-Unprocessed_12_R3_2011_MID--AUDIO_R3-D4_04_Track04_wav.midi', 'data\\\\maestro-v2.0.0\\\\2011\\\\MIDI-Unprocessed_12_R3_2011_MID--AUDIO_R3-D4_07_Track07_wav.midi', 'data\\\\maestro-v2.0.0\\\\2011\\\\MIDI-Unprocessed_12_R3_2011_MID--AUDIO_R3-D4_08_Track08_wav.midi', 'data\\\\maestro-v2.0.0\\\\2011\\\\MIDI-Unprocessed_12_R3_2011_MID--AUDIO_R3-D4_09_Track09_wav.midi', 'data\\\\maestro-v2.0.0\\\\2011\\\\MIDI-Unprocessed_13_R1_2011_MID--AUDIO_R1-D5_02_Track02_wav.midi', 'data\\\\maestro-v2.0.0\\\\2011\\\\MIDI-Unprocessed_13_R1_2011_MID--AUDIO_R1-D5_03_Track03_wav.midi', 'data\\\\maestro-v2.0.0\\\\2011\\\\MIDI-Unprocessed_13_R1_2011_MID--AUDIO_R1-D5_04_Track04_wav.midi', 'data\\\\maestro-v2.0.0\\\\2011\\\\MIDI-Unprocessed_14_R1_2011_MID--AUDIO_R1-D6_02_Track02_wav.midi', 'data\\\\maestro-v2.0.0\\\\2011\\\\MIDI-Unprocessed_14_R1_2011_MID--AUDIO_R1-D6_03_Track03_wav.midi', 'data\\\\maestro-v2.0.0\\\\2011\\\\MIDI-Unprocessed_14_R1_2011_MID--AUDIO_R1-D6_04_Track04_wav.midi', 'data\\\\maestro-v2.0.0\\\\2011\\\\MIDI-Unprocessed_15_R1_2011_MID--AUDIO_R1-D6_07_Track07_wav.midi', 'data\\\\maestro-v2.0.0\\\\2011\\\\MIDI-Unprocessed_15_R1_2011_MID--AUDIO_R1-D6_08_Track08_wav.midi', 'data\\\\maestro-v2.0.0\\\\2011\\\\MIDI-Unprocessed_15_R1_2011_MID--AUDIO_R1-D6_09_Track09_wav.midi', 'data\\\\maestro-v2.0.0\\\\2011\\\\MIDI-Unprocessed_15_R1_2011_MID--AUDIO_R1-D6_10_Track10_wav.midi', 'data\\\\maestro-v2.0.0\\\\2011\\\\MIDI-Unprocessed_16_R1_2011_MID--AUDIO_R1-D6_12_Track12_wav.midi', 'data\\\\maestro-v2.0.0\\\\2011\\\\MIDI-Unprocessed_16_R1_2011_MID--AUDIO_R1-D6_13_Track13_wav.midi', 'data\\\\maestro-v2.0.0\\\\2011\\\\MIDI-Unprocessed_16_R1_2011_MID--AUDIO_R1-D6_14_Track14_wav.midi', 'data\\\\maestro-v2.0.0\\\\2011\\\\MIDI-Unprocessed_16_R1_2011_MID--AUDIO_R1-D6_15_Track15_wav.midi', 'data\\\\maestro-v2.0.0\\\\2011\\\\MIDI-Unprocessed_16_R2_2011_MID--AUDIO_R2-D4_08_Track08_wav.midi', 'data\\\\maestro-v2.0.0\\\\2011\\\\MIDI-Unprocessed_16_R2_2011_MID--AUDIO_R2-D4_09_Track09_wav.midi', 'data\\\\maestro-v2.0.0\\\\2011\\\\MIDI-Unprocessed_16_R3_2011_MID--AUDIO_R3-D5_02_Track02_wav.midi', 'data\\\\maestro-v2.0.0\\\\2011\\\\MIDI-Unprocessed_17_R1_2011_MID--AUDIO_R1-D7_02_Track02_wav.midi', 'data\\\\maestro-v2.0.0\\\\2011\\\\MIDI-Unprocessed_17_R1_2011_MID--AUDIO_R1-D7_03_Track03_wav.midi', 'data\\\\maestro-v2.0.0\\\\2011\\\\MIDI-Unprocessed_17_R1_2011_MID--AUDIO_R1-D7_04_Track04_wav.midi', 'data\\\\maestro-v2.0.0\\\\2011\\\\MIDI-Unprocessed_17_R1_2011_MID--AUDIO_R1-D7_05_Track05_wav.midi', 'data\\\\maestro-v2.0.0\\\\2011\\\\MIDI-Unprocessed_17_R2_2011_MID--AUDIO_R2-D5_03_Track03_wav.midi', 'data\\\\maestro-v2.0.0\\\\2011\\\\MIDI-Unprocessed_17_R2_2011_MID--AUDIO_R2-D5_04_Track04_wav.midi', 'data\\\\maestro-v2.0.0\\\\2011\\\\MIDI-Unprocessed_17_R2_2011_MID--AUDIO_R2-D5_06_Track06_wav.midi', 'data\\\\maestro-v2.0.0\\\\2011\\\\MIDI-Unprocessed_17_R3_2011_MID--AUDIO_R3-D6_02_Track02_wav.midi', 'data\\\\maestro-v2.0.0\\\\2011\\\\MIDI-Unprocessed_17_R3_2011_MID--AUDIO_R3-D6_03_Track03_wav.midi', 'data\\\\maestro-v2.0.0\\\\2011\\\\MIDI-Unprocessed_17_R3_2011_MID--AUDIO_R3-D6_04_Track04_wav.midi', 'data\\\\maestro-v2.0.0\\\\2011\\\\MIDI-Unprocessed_17_R3_2011_MID--AUDIO_R3-D6_05_Track05_wav.midi', 'data\\\\maestro-v2.0.0\\\\2011\\\\MIDI-Unprocessed_17_R3_2011_MID--AUDIO_R3-D6_06_Track06_wav.midi', 'data\\\\maestro-v2.0.0\\\\2011\\\\MIDI-Unprocessed_17_R3_2011_MID--AUDIO_R3-D6_07_Track07_wav.midi', 'data\\\\maestro-v2.0.0\\\\2011\\\\MIDI-Unprocessed_17_R3_2011_MID--AUDIO_R3-D6_08_Track08_wav.midi', 'data\\\\maestro-v2.0.0\\\\2011\\\\MIDI-Unprocessed_18_R1_2011_MID--AUDIO_R1-D7_07_Track07_wav.midi', 'data\\\\maestro-v2.0.0\\\\2011\\\\MIDI-Unprocessed_18_R1_2011_MID--AUDIO_R1-D7_08_Track08_wav.midi', 'data\\\\maestro-v2.0.0\\\\2011\\\\MIDI-Unprocessed_18_R1_2011_MID--AUDIO_R1-D7_09_Track09_wav.midi', 'data\\\\maestro-v2.0.0\\\\2011\\\\MIDI-Unprocessed_18_R1_2011_MID--AUDIO_R1-D7_10_Track10_wav.midi', 'data\\\\maestro-v2.0.0\\\\2011\\\\MIDI-Unprocessed_19_R1_2011_MID--AUDIO_R1-D7_12_Track12_wav.midi', 'data\\\\maestro-v2.0.0\\\\2011\\\\MIDI-Unprocessed_19_R1_2011_MID--AUDIO_R1-D7_13_Track13_wav.midi', 'data\\\\maestro-v2.0.0\\\\2011\\\\MIDI-Unprocessed_19_R1_2011_MID--AUDIO_R1-D7_14_Track14_wav.midi', 'data\\\\maestro-v2.0.0\\\\2011\\\\MIDI-Unprocessed_19_R1_2011_MID--AUDIO_R1-D7_15_Track15_wav.midi', 'data\\\\maestro-v2.0.0\\\\2011\\\\MIDI-Unprocessed_20_R1_2011_MID--AUDIO_R1-D8_02_Track02_wav.midi', 'data\\\\maestro-v2.0.0\\\\2011\\\\MIDI-Unprocessed_20_R1_2011_MID--AUDIO_R1-D8_03_Track03_wav.midi', 'data\\\\maestro-v2.0.0\\\\2011\\\\MIDI-Unprocessed_20_R1_2011_MID--AUDIO_R1-D8_04_Track04_wav.midi', 'data\\\\maestro-v2.0.0\\\\2011\\\\MIDI-Unprocessed_21_R1_2011_MID--AUDIO_R1-D8_07_Track07_wav.midi', 'data\\\\maestro-v2.0.0\\\\2011\\\\MIDI-Unprocessed_21_R1_2011_MID--AUDIO_R1-D8_08_Track08_wav.midi', 'data\\\\maestro-v2.0.0\\\\2011\\\\MIDI-Unprocessed_21_R1_2011_MID--AUDIO_R1-D8_09_Track09_wav.midi', 'data\\\\maestro-v2.0.0\\\\2011\\\\MIDI-Unprocessed_21_R1_2011_MID--AUDIO_R1-D8_10_Track10_wav.midi', 'data\\\\maestro-v2.0.0\\\\2011\\\\MIDI-Unprocessed_22_R1_2011_MID--AUDIO_R1-D8_11_Track11_wav.midi', 'data\\\\maestro-v2.0.0\\\\2011\\\\MIDI-Unprocessed_22_R1_2011_MID--AUDIO_R1-D8_12_Track12_wav.midi', 'data\\\\maestro-v2.0.0\\\\2011\\\\MIDI-Unprocessed_22_R1_2011_MID--AUDIO_R1-D8_13_Track13_wav.midi', 'data\\\\maestro-v2.0.0\\\\2011\\\\MIDI-Unprocessed_22_R2_2011_MID--AUDIO_R2-D5_08_Track08_wav.midi', 'data\\\\maestro-v2.0.0\\\\2011\\\\MIDI-Unprocessed_22_R2_2011_MID--AUDIO_R2-D5_10_Track10_wav.midi', 'data\\\\maestro-v2.0.0\\\\2011\\\\MIDI-Unprocessed_22_R2_2011_MID--AUDIO_R2-D5_11_Track11_wav.midi', 'data\\\\maestro-v2.0.0\\\\2011\\\\MIDI-Unprocessed_22_R3_2011_MID--AUDIO_R3-D7_03_Track03_wav.midi', 'data\\\\maestro-v2.0.0\\\\2011\\\\MIDI-Unprocessed_22_R3_2011_MID--AUDIO_R3-D7_07_Track07_wav.midi', 'data\\\\maestro-v2.0.0\\\\2011\\\\MIDI-Unprocessed_22_R3_2011_MID--AUDIO_R3-D7_08_Track08_wav.midi', 'data\\\\maestro-v2.0.0\\\\2011\\\\MIDI-Unprocessed_22_R3_2011_MID--AUDIO_R3-D7_09_Track09_wav.midi', 'data\\\\maestro-v2.0.0\\\\2011\\\\MIDI-Unprocessed_23_R1_2011_MID--AUDIO_R1-D9_02_Track02_wav.midi', 'data\\\\maestro-v2.0.0\\\\2011\\\\MIDI-Unprocessed_23_R1_2011_MID--AUDIO_R1-D9_03_Track03_wav.midi', 'data\\\\maestro-v2.0.0\\\\2011\\\\MIDI-Unprocessed_23_R1_2011_MID--AUDIO_R1-D9_04_Track04_wav.midi', 'data\\\\maestro-v2.0.0\\\\2011\\\\MIDI-Unprocessed_23_R1_2011_MID--AUDIO_R1-D9_05_Track05_wav.midi', 'data\\\\maestro-v2.0.0\\\\2011\\\\MIDI-Unprocessed_23_R2_2011_MID--AUDIO_R2-D6_03_Track03_wav.midi', 'data\\\\maestro-v2.0.0\\\\2011\\\\MIDI-Unprocessed_23_R2_2011_MID--AUDIO_R2-D6_04_Track04_wav.midi', 'data\\\\maestro-v2.0.0\\\\2011\\\\MIDI-Unprocessed_23_R3_2011_MID--AUDIO_R3-D8_03_Track03_wav.midi', 'data\\\\maestro-v2.0.0\\\\2011\\\\MIDI-Unprocessed_23_R3_2011_MID--AUDIO_R3-D8_04_Track04_wav.midi', 'data\\\\maestro-v2.0.0\\\\2011\\\\MIDI-Unprocessed_23_R3_2011_MID--AUDIO_R3-D8_05_Track05_wav.midi', 'data\\\\maestro-v2.0.0\\\\2011\\\\MIDI-Unprocessed_24_R1_2011_MID--AUDIO_R1-D9_08_Track08_wav.midi', 'data\\\\maestro-v2.0.0\\\\2011\\\\MIDI-Unprocessed_24_R1_2011_MID--AUDIO_R1-D9_09_Track09_wav.midi', 'data\\\\maestro-v2.0.0\\\\2011\\\\MIDI-Unprocessed_24_R1_2011_MID--AUDIO_R1-D9_10_Track10_wav.midi', 'data\\\\maestro-v2.0.0\\\\2011\\\\MIDI-Unprocessed_24_R1_2011_MID--AUDIO_R1-D9_11_Track11_wav.midi', 'data\\\\maestro-v2.0.0\\\\2011\\\\MIDI-Unprocessed_25_R1_2011_MID--AUDIO_R1-D9_14_Track14_wav.midi', 'data\\\\maestro-v2.0.0\\\\2011\\\\MIDI-Unprocessed_25_R1_2011_MID--AUDIO_R1-D9_15_Track15_wav.midi', 'data\\\\maestro-v2.0.0\\\\2011\\\\MIDI-Unprocessed_25_R2_2011_MID--AUDIO_R2-D6_07_Track07_wav.midi', 'data\\\\maestro-v2.0.0\\\\2011\\\\MIDI-Unprocessed_25_R2_2011_MID--AUDIO_R2-D6_08_Track08_wav.midi', 'data\\\\maestro-v2.0.0\\\\2011\\\\MIDI-Unprocessed_25_R3_2011_MID--AUDIO_R3-D9_02_Track02_wav.midi', 'data\\\\maestro-v2.0.0\\\\2011\\\\MIDI-Unprocessed_25_R3_2011_MID--AUDIO_R3-D9_03_Track03_wav.midi', 'data\\\\maestro-v2.0.0\\\\2011\\\\MIDI-Unprocessed_25_R3_2011_MID--AUDIO_R3-D9_04_Track04_wav.midi', 'data\\\\maestro-v2.0.0\\\\2011\\\\MIDI-Unprocessed_25_R3_2011_MID--AUDIO_R3-D9_05_Track05_wav.midi', 'data\\\\maestro-v2.0.0\\\\2011\\\\MIDI-Unprocessed_25_R3_2011_MID--AUDIO_R3-D9_06_Track06_wav.midi', 'data\\\\maestro-v2.0.0\\\\2013\\\\ORIG-MIDI_01_7_10_13_Group_MID--AUDIO_02_R3_2013_wav--1.midi', 'data\\\\maestro-v2.0.0\\\\2013\\\\ORIG-MIDI_01_7_10_13_Group_MID--AUDIO_07_R3_2013_wav--1.midi', 'data\\\\maestro-v2.0.0\\\\2013\\\\ORIG-MIDI_01_7_10_13_Group_MID--AUDIO_07_R3_2013_wav--2.midi', 'data\\\\maestro-v2.0.0\\\\2013\\\\ORIG-MIDI_01_7_10_13_Group_MID--AUDIO_07_R3_2013_wav--3.midi', 'data\\\\maestro-v2.0.0\\\\2013\\\\ORIG-MIDI_01_7_10_13_Group_MID--AUDIO_08_R3_2013_wav--1.midi', 'data\\\\maestro-v2.0.0\\\\2013\\\\ORIG-MIDI_01_7_10_13_Group_MID--AUDIO_08_R3_2013_wav--2.midi', 'data\\\\maestro-v2.0.0\\\\2013\\\\ORIG-MIDI_01_7_10_13_Group_MID--AUDIO_08_R3_2013_wav--3.midi', 'data\\\\maestro-v2.0.0\\\\2013\\\\ORIG-MIDI_01_7_6_13_Group__MID--AUDIO_01_R1_2013_wav--1.midi', 'data\\\\maestro-v2.0.0\\\\2013\\\\ORIG-MIDI_01_7_6_13_Group__MID--AUDIO_01_R1_2013_wav--2.midi', 'data\\\\maestro-v2.0.0\\\\2013\\\\ORIG-MIDI_01_7_6_13_Group__MID--AUDIO_01_R1_2013_wav--3.midi', 'data\\\\maestro-v2.0.0\\\\2013\\\\ORIG-MIDI_01_7_6_13_Group__MID--AUDIO_01_R1_2013_wav--4.midi', 'data\\\\maestro-v2.0.0\\\\2013\\\\ORIG-MIDI_01_7_6_13_Group__MID--AUDIO_02_R1_2013_wav--1.midi', 'data\\\\maestro-v2.0.0\\\\2013\\\\ORIG-MIDI_01_7_6_13_Group__MID--AUDIO_02_R1_2013_wav--2.midi', 'data\\\\maestro-v2.0.0\\\\2013\\\\ORIG-MIDI_01_7_6_13_Group__MID--AUDIO_02_R1_2013_wav--4.midi', 'data\\\\maestro-v2.0.0\\\\2013\\\\ORIG-MIDI_01_7_6_13_Group__MID--AUDIO_02_R1_2013_wav--5.midi', 'data\\\\maestro-v2.0.0\\\\2013\\\\ORIG-MIDI_01_7_6_13_Group__MID--AUDIO_03_R1_2013_wav--1.midi', 'data\\\\maestro-v2.0.0\\\\2013\\\\ORIG-MIDI_01_7_6_13_Group__MID--AUDIO_03_R1_2013_wav--2.midi', 'data\\\\maestro-v2.0.0\\\\2013\\\\ORIG-MIDI_01_7_6_13_Group__MID--AUDIO_03_R1_2013_wav--3.midi', 'data\\\\maestro-v2.0.0\\\\2013\\\\ORIG-MIDI_01_7_6_13_Group__MID--AUDIO_03_R1_2013_wav--4.midi', 'data\\\\maestro-v2.0.0\\\\2013\\\\ORIG-MIDI_01_7_6_13_Group__MID--AUDIO_04_R1_2013_wav--1.midi', 'data\\\\maestro-v2.0.0\\\\2013\\\\ORIG-MIDI_01_7_6_13_Group__MID--AUDIO_04_R1_2013_wav--2.midi', 'data\\\\maestro-v2.0.0\\\\2013\\\\ORIG-MIDI_01_7_6_13_Group__MID--AUDIO_04_R1_2013_wav--3.midi', 'data\\\\maestro-v2.0.0\\\\2013\\\\ORIG-MIDI_01_7_6_13_Group__MID--AUDIO_04_R1_2013_wav--4.midi', 'data\\\\maestro-v2.0.0\\\\2013\\\\ORIG-MIDI_01_7_7_13_Group__MID--AUDIO_11_R1_2013_wav--1.midi', 'data\\\\maestro-v2.0.0\\\\2013\\\\ORIG-MIDI_01_7_7_13_Group__MID--AUDIO_11_R1_2013_wav--2.midi', 'data\\\\maestro-v2.0.0\\\\2013\\\\ORIG-MIDI_01_7_7_13_Group__MID--AUDIO_11_R1_2013_wav--3.midi', 'data\\\\maestro-v2.0.0\\\\2013\\\\ORIG-MIDI_01_7_7_13_Group__MID--AUDIO_11_R1_2013_wav--4.midi', 'data\\\\maestro-v2.0.0\\\\2013\\\\ORIG-MIDI_01_7_7_13_Group__MID--AUDIO_12_R1_2013_wav--1.midi', 'data\\\\maestro-v2.0.0\\\\2013\\\\ORIG-MIDI_01_7_7_13_Group__MID--AUDIO_12_R1_2013_wav--2.midi', 'data\\\\maestro-v2.0.0\\\\2013\\\\ORIG-MIDI_01_7_7_13_Group__MID--AUDIO_12_R1_2013_wav--3.midi', 'data\\\\maestro-v2.0.0\\\\2013\\\\ORIG-MIDI_01_7_7_13_Group__MID--AUDIO_12_R1_2013_wav--4.midi', 'data\\\\maestro-v2.0.0\\\\2013\\\\ORIG-MIDI_01_7_7_13_Group__MID--AUDIO_12_R1_2013_wav--5.midi', 'data\\\\maestro-v2.0.0\\\\2013\\\\ORIG-MIDI_01_7_7_13_Group__MID--AUDIO_13_R1_2013_wav--1.midi', 'data\\\\maestro-v2.0.0\\\\2013\\\\ORIG-MIDI_01_7_7_13_Group__MID--AUDIO_13_R1_2013_wav--2.midi', 'data\\\\maestro-v2.0.0\\\\2013\\\\ORIG-MIDI_01_7_7_13_Group__MID--AUDIO_13_R1_2013_wav--3.midi', 'data\\\\maestro-v2.0.0\\\\2013\\\\ORIG-MIDI_01_7_7_13_Group__MID--AUDIO_13_R1_2013_wav--4.midi', 'data\\\\maestro-v2.0.0\\\\2013\\\\ORIG-MIDI_01_7_7_13_Group__MID--AUDIO_14_R1_2013_wav--1.midi', 'data\\\\maestro-v2.0.0\\\\2013\\\\ORIG-MIDI_01_7_7_13_Group__MID--AUDIO_14_R1_2013_wav--2.midi', 'data\\\\maestro-v2.0.0\\\\2013\\\\ORIG-MIDI_01_7_7_13_Group__MID--AUDIO_14_R1_2013_wav--3.midi', 'data\\\\maestro-v2.0.0\\\\2013\\\\ORIG-MIDI_01_7_7_13_Group__MID--AUDIO_14_R1_2013_wav--4.midi', 'data\\\\maestro-v2.0.0\\\\2013\\\\ORIG-MIDI_01_7_8_13_Group__MID--AUDIO_02_R2_2013_wav--1.midi', 'data\\\\maestro-v2.0.0\\\\2013\\\\ORIG-MIDI_01_7_8_13_Group__MID--AUDIO_02_R2_2013_wav--2.midi', 'data\\\\maestro-v2.0.0\\\\2013\\\\ORIG-MIDI_01_7_8_13_Group__MID--AUDIO_02_R2_2013_wav--3.midi', 'data\\\\maestro-v2.0.0\\\\2013\\\\ORIG-MIDI_01_7_8_13_Group__MID--AUDIO_02_R2_2013_wav--5.midi', 'data\\\\maestro-v2.0.0\\\\2013\\\\ORIG-MIDI_01_7_8_13_Group__MID--AUDIO_03_R2_2013_wav--1.midi', 'data\\\\maestro-v2.0.0\\\\2013\\\\ORIG-MIDI_01_7_8_13_Group__MID--AUDIO_03_R2_2013_wav--2.midi', 'data\\\\maestro-v2.0.0\\\\2013\\\\ORIG-MIDI_01_7_8_13_Group__MID--AUDIO_04_R2_2013_wav--1.midi', 'data\\\\maestro-v2.0.0\\\\2013\\\\ORIG-MIDI_01_7_8_13_Group__MID--AUDIO_04_R2_2013_wav--3.midi', 'data\\\\maestro-v2.0.0\\\\2013\\\\ORIG-MIDI_01_7_8_13_Group__MID--AUDIO_07_R2_2013_wav--1.midi', 'data\\\\maestro-v2.0.0\\\\2013\\\\ORIG-MIDI_01_7_8_13_Group__MID--AUDIO_07_R2_2013_wav--2.midi', 'data\\\\maestro-v2.0.0\\\\2013\\\\ORIG-MIDI_02_7_10_13_Group_MID--AUDIO_11_R3_2013_wav--1.midi', 'data\\\\maestro-v2.0.0\\\\2013\\\\ORIG-MIDI_02_7_10_13_Group_MID--AUDIO_11_R3_2013_wav--3.midi', 'data\\\\maestro-v2.0.0\\\\2013\\\\ORIG-MIDI_02_7_10_13_Group_MID--AUDIO_12_R3_2013_wav--1.midi', 'data\\\\maestro-v2.0.0\\\\2013\\\\ORIG-MIDI_02_7_10_13_Group_MID--AUDIO_12_R3_2013_wav--2.midi', 'data\\\\maestro-v2.0.0\\\\2013\\\\ORIG-MIDI_02_7_10_13_Group_MID--AUDIO_12_R3_2013_wav--3.midi', 'data\\\\maestro-v2.0.0\\\\2013\\\\ORIG-MIDI_02_7_10_13_Group_MID--AUDIO_12_R3_2013_wav--4.midi', 'data\\\\maestro-v2.0.0\\\\2013\\\\ORIG-MIDI_02_7_10_13_Group_MID--AUDIO_14_R3_2013_wav--1.midi', 'data\\\\maestro-v2.0.0\\\\2013\\\\ORIG-MIDI_02_7_10_13_Group_MID--AUDIO_14_R3_2013_wav--2.midi', 'data\\\\maestro-v2.0.0\\\\2013\\\\ORIG-MIDI_02_7_6_13_Group__MID--AUDIO_05_R1_2013_wav--1.midi', 'data\\\\maestro-v2.0.0\\\\2013\\\\ORIG-MIDI_02_7_6_13_Group__MID--AUDIO_05_R1_2013_wav--2.midi', 'data\\\\maestro-v2.0.0\\\\2013\\\\ORIG-MIDI_02_7_6_13_Group__MID--AUDIO_05_R1_2013_wav--3.midi', 'data\\\\maestro-v2.0.0\\\\2013\\\\ORIG-MIDI_02_7_6_13_Group__MID--AUDIO_06_R1_2013_wav--1.midi', 'data\\\\maestro-v2.0.0\\\\2013\\\\ORIG-MIDI_02_7_6_13_Group__MID--AUDIO_06_R1_2013_wav--2.midi', 'data\\\\maestro-v2.0.0\\\\2013\\\\ORIG-MIDI_02_7_6_13_Group__MID--AUDIO_06_R1_2013_wav--3.midi', 'data\\\\maestro-v2.0.0\\\\2013\\\\ORIG-MIDI_02_7_6_13_Group__MID--AUDIO_06_R1_2013_wav--4.midi', 'data\\\\maestro-v2.0.0\\\\2013\\\\ORIG-MIDI_02_7_6_13_Group__MID--AUDIO_07_R1_2013_wav--1.midi', 'data\\\\maestro-v2.0.0\\\\2013\\\\ORIG-MIDI_02_7_6_13_Group__MID--AUDIO_07_R1_2013_wav--2.midi', 'data\\\\maestro-v2.0.0\\\\2013\\\\ORIG-MIDI_02_7_6_13_Group__MID--AUDIO_07_R1_2013_wav--3.midi', 'data\\\\maestro-v2.0.0\\\\2013\\\\ORIG-MIDI_02_7_6_13_Group__MID--AUDIO_08_R1_2013_wav--1.midi', 'data\\\\maestro-v2.0.0\\\\2013\\\\ORIG-MIDI_02_7_6_13_Group__MID--AUDIO_08_R1_2013_wav--2.midi', 'data\\\\maestro-v2.0.0\\\\2013\\\\ORIG-MIDI_02_7_6_13_Group__MID--AUDIO_08_R1_2013_wav--3.midi', 'data\\\\maestro-v2.0.0\\\\2013\\\\ORIG-MIDI_02_7_6_13_Group__MID--AUDIO_08_R1_2013_wav--4.midi', 'data\\\\maestro-v2.0.0\\\\2013\\\\ORIG-MIDI_02_7_6_13_Group__MID--AUDIO_08_R1_2013_wav--5.midi', 'data\\\\maestro-v2.0.0\\\\2013\\\\ORIG-MIDI_02_7_7_13_Group__MID--AUDIO_15_R1_2013_wav--1.midi', 'data\\\\maestro-v2.0.0\\\\2013\\\\ORIG-MIDI_02_7_7_13_Group__MID--AUDIO_15_R1_2013_wav--2.midi', 'data\\\\maestro-v2.0.0\\\\2013\\\\ORIG-MIDI_02_7_7_13_Group__MID--AUDIO_15_R1_2013_wav--3.midi', 'data\\\\maestro-v2.0.0\\\\2013\\\\ORIG-MIDI_02_7_7_13_Group__MID--AUDIO_15_R1_2013_wav--4.midi', 'data\\\\maestro-v2.0.0\\\\2013\\\\ORIG-MIDI_02_7_7_13_Group__MID--AUDIO_16_R1_2013_wav--1.midi', 'data\\\\maestro-v2.0.0\\\\2013\\\\ORIG-MIDI_02_7_7_13_Group__MID--AUDIO_16_R1_2013_wav--2.midi', 'data\\\\maestro-v2.0.0\\\\2013\\\\ORIG-MIDI_02_7_7_13_Group__MID--AUDIO_16_R1_2013_wav--3.midi', 'data\\\\maestro-v2.0.0\\\\2013\\\\ORIG-MIDI_02_7_7_13_Group__MID--AUDIO_17_R1_2013_wav--1.midi', 'data\\\\maestro-v2.0.0\\\\2013\\\\ORIG-MIDI_02_7_7_13_Group__MID--AUDIO_17_R1_2013_wav--2.midi', 'data\\\\maestro-v2.0.0\\\\2013\\\\ORIG-MIDI_02_7_7_13_Group__MID--AUDIO_17_R1_2013_wav--3.midi', 'data\\\\maestro-v2.0.0\\\\2013\\\\ORIG-MIDI_02_7_7_13_Group__MID--AUDIO_17_R1_2013_wav--4.midi', 'data\\\\maestro-v2.0.0\\\\2013\\\\ORIG-MIDI_02_7_7_13_Group__MID--AUDIO_18_R1_2013_wav--1.midi', 'data\\\\maestro-v2.0.0\\\\2013\\\\ORIG-MIDI_02_7_7_13_Group__MID--AUDIO_18_R1_2013_wav--3.midi', 'data\\\\maestro-v2.0.0\\\\2013\\\\ORIG-MIDI_02_7_7_13_Group__MID--AUDIO_18_R1_2013_wav--4.midi', 'data\\\\maestro-v2.0.0\\\\2013\\\\ORIG-MIDI_02_7_7_13_Group__MID--AUDIO_18_R1_2013_wav--5.midi', 'data\\\\maestro-v2.0.0\\\\2013\\\\ORIG-MIDI_02_7_7_13_Group__MID--AUDIO_19_R1_2013_wav--1.midi', 'data\\\\maestro-v2.0.0\\\\2013\\\\ORIG-MIDI_02_7_7_13_Group__MID--AUDIO_19_R1_2013_wav--2.midi', 'data\\\\maestro-v2.0.0\\\\2013\\\\ORIG-MIDI_02_7_7_13_Group__MID--AUDIO_19_R1_2013_wav--3.midi', 'data\\\\maestro-v2.0.0\\\\2013\\\\ORIG-MIDI_02_7_8_13_Group__MID--AUDIO_08_R2_2013_wav--1.midi', 'data\\\\maestro-v2.0.0\\\\2013\\\\ORIG-MIDI_02_7_8_13_Group__MID--AUDIO_08_R2_2013_wav--2.midi', 'data\\\\maestro-v2.0.0\\\\2013\\\\ORIG-MIDI_02_7_8_13_Group__MID--AUDIO_08_R2_2013_wav--3.midi', 'data\\\\maestro-v2.0.0\\\\2013\\\\ORIG-MIDI_02_7_8_13_Group__MID--AUDIO_11_R2_2013_wav--1.midi', 'data\\\\maestro-v2.0.0\\\\2013\\\\ORIG-MIDI_02_7_8_13_Group__MID--AUDIO_11_R2_2013_wav--3.midi', 'data\\\\maestro-v2.0.0\\\\2013\\\\ORIG-MIDI_02_7_8_13_Group__MID--AUDIO_12_R2_2013_wav--1.midi', 'data\\\\maestro-v2.0.0\\\\2013\\\\ORIG-MIDI_02_7_8_13_Group__MID--AUDIO_12_R2_2013_wav--2.midi', 'data\\\\maestro-v2.0.0\\\\2013\\\\ORIG-MIDI_02_7_8_13_Group__MID--AUDIO_12_R2_2013_wav--3.midi', 'data\\\\maestro-v2.0.0\\\\2013\\\\ORIG-MIDI_02_7_8_13_Group__MID--AUDIO_14_R2_2013_wav--1.midi', 'data\\\\maestro-v2.0.0\\\\2013\\\\ORIG-MIDI_02_7_8_13_Group__MID--AUDIO_14_R2_2013_wav--4.midi', 'data\\\\maestro-v2.0.0\\\\2013\\\\ORIG-MIDI_03_7_10_13_Group_MID--AUDIO_15_R3_2013_wav--1.midi', 'data\\\\maestro-v2.0.0\\\\2013\\\\ORIG-MIDI_03_7_10_13_Group_MID--AUDIO_15_R3_2013_wav--2.midi', 'data\\\\maestro-v2.0.0\\\\2013\\\\ORIG-MIDI_03_7_10_13_Group_MID--AUDIO_17_R3_2013_wav--1.midi', 'data\\\\maestro-v2.0.0\\\\2013\\\\ORIG-MIDI_03_7_10_13_Group_MID--AUDIO_17_R3_2013_wav--2.midi', 'data\\\\maestro-v2.0.0\\\\2013\\\\ORIG-MIDI_03_7_10_13_Group_MID--AUDIO_17_R3_2013_wav--3.midi', 'data\\\\maestro-v2.0.0\\\\2013\\\\ORIG-MIDI_03_7_10_13_Group_MID--AUDIO_18_R3_2013_wav--1.midi', 'data\\\\maestro-v2.0.0\\\\2013\\\\ORIG-MIDI_03_7_10_13_Group_MID--AUDIO_18_R3_2013_wav--2.midi', 'data\\\\maestro-v2.0.0\\\\2013\\\\ORIG-MIDI_03_7_10_13_Group_MID--AUDIO_18_R3_2013_wav--3.midi', 'data\\\\maestro-v2.0.0\\\\2013\\\\ORIG-MIDI_03_7_6_13_Group__MID--AUDIO_09_R1_2013_wav--1.midi', 'data\\\\maestro-v2.0.0\\\\2013\\\\ORIG-MIDI_03_7_6_13_Group__MID--AUDIO_09_R1_2013_wav--2.midi', 'data\\\\maestro-v2.0.0\\\\2013\\\\ORIG-MIDI_03_7_6_13_Group__MID--AUDIO_09_R1_2013_wav--3.midi', 'data\\\\maestro-v2.0.0\\\\2013\\\\ORIG-MIDI_03_7_6_13_Group__MID--AUDIO_09_R1_2013_wav--4.midi', 'data\\\\maestro-v2.0.0\\\\2013\\\\ORIG-MIDI_03_7_6_13_Group__MID--AUDIO_10_R1_2013_wav--1.midi', 'data\\\\maestro-v2.0.0\\\\2013\\\\ORIG-MIDI_03_7_6_13_Group__MID--AUDIO_10_R1_2013_wav--2.midi', 'data\\\\maestro-v2.0.0\\\\2013\\\\ORIG-MIDI_03_7_6_13_Group__MID--AUDIO_10_R1_2013_wav--3.midi', 'data\\\\maestro-v2.0.0\\\\2013\\\\ORIG-MIDI_03_7_6_13_Group__MID--AUDIO_10_R1_2013_wav--4.midi', 'data\\\\maestro-v2.0.0\\\\2013\\\\ORIG-MIDI_03_7_8_13_Group__MID--AUDIO_15_R2_2013_wav--1.midi', 'data\\\\maestro-v2.0.0\\\\2013\\\\ORIG-MIDI_03_7_8_13_Group__MID--AUDIO_15_R2_2013_wav--2.midi', 'data\\\\maestro-v2.0.0\\\\2013\\\\ORIG-MIDI_03_7_8_13_Group__MID--AUDIO_17_R2_2013_wav--2.midi', 'data\\\\maestro-v2.0.0\\\\2013\\\\ORIG-MIDI_03_7_8_13_Group__MID--AUDIO_17_R2_2013_wav--3.midi', 'data\\\\maestro-v2.0.0\\\\2013\\\\ORIG-MIDI_03_7_8_13_Group__MID--AUDIO_18_R2_2013_wav--1.midi', 'data\\\\maestro-v2.0.0\\\\2013\\\\ORIG-MIDI_03_7_8_13_Group__MID--AUDIO_18_R2_2013_wav--3.midi', 'data\\\\maestro-v2.0.0\\\\2013\\\\ORIG-MIDI_03_7_8_13_Group__MID--AUDIO_18_R2_2013_wav--4.midi', 'data\\\\maestro-v2.0.0\\\\2013\\\\ORIG-MIDI_03_7_8_13_Group__MID--AUDIO_19_R2_2013_wav--1.midi', 'data\\\\maestro-v2.0.0\\\\2013\\\\ORIG-MIDI_03_7_8_13_Group__MID--AUDIO_19_R2_2013_wav--3.midi', 'data\\\\maestro-v2.0.0\\\\2013\\\\ORIG-MIDI_03_7_8_13_Group__MID--AUDIO_19_R2_2013_wav--4.midi', 'data\\\\maestro-v2.0.0\\\\2014\\\\MIDI-UNPROCESSED_01-03_R1_2014_MID--AUDIO_01_R1_2014_wav--1.midi', 'data\\\\maestro-v2.0.0\\\\2014\\\\MIDI-UNPROCESSED_01-03_R1_2014_MID--AUDIO_01_R1_2014_wav--2.midi', 'data\\\\maestro-v2.0.0\\\\2014\\\\MIDI-UNPROCESSED_01-03_R1_2014_MID--AUDIO_01_R1_2014_wav--3.midi', 'data\\\\maestro-v2.0.0\\\\2014\\\\MIDI-UNPROCESSED_01-03_R1_2014_MID--AUDIO_01_R1_2014_wav--5.midi', 'data\\\\maestro-v2.0.0\\\\2014\\\\MIDI-UNPROCESSED_01-03_R1_2014_MID--AUDIO_02_R1_2014_wav--1.midi', 'data\\\\maestro-v2.0.0\\\\2014\\\\MIDI-UNPROCESSED_01-03_R1_2014_MID--AUDIO_02_R1_2014_wav--2.midi', 'data\\\\maestro-v2.0.0\\\\2014\\\\MIDI-UNPROCESSED_01-03_R1_2014_MID--AUDIO_02_R1_2014_wav--4.midi', 'data\\\\maestro-v2.0.0\\\\2014\\\\MIDI-UNPROCESSED_01-03_R1_2014_MID--AUDIO_02_R1_2014_wav--5.midi', 'data\\\\maestro-v2.0.0\\\\2014\\\\MIDI-UNPROCESSED_01-03_R1_2014_MID--AUDIO_03_R1_2014_wav--2.midi', 'data\\\\maestro-v2.0.0\\\\2014\\\\MIDI-UNPROCESSED_01-03_R1_2014_MID--AUDIO_03_R1_2014_wav--3.midi', 'data\\\\maestro-v2.0.0\\\\2014\\\\MIDI-UNPROCESSED_01-03_R1_2014_MID--AUDIO_03_R1_2014_wav--4.midi', 'data\\\\maestro-v2.0.0\\\\2014\\\\MIDI-UNPROCESSED_01-03_R1_2014_MID--AUDIO_03_R1_2014_wav--5.midi', 'data\\\\maestro-v2.0.0\\\\2014\\\\MIDI-UNPROCESSED_01-03_R1_2014_MID--AUDIO_03_R1_2014_wav--6.midi', 'data\\\\maestro-v2.0.0\\\\2014\\\\MIDI-UNPROCESSED_04-05_R1_2014_MID--AUDIO_04_R1_2014_wav--1.midi', 'data\\\\maestro-v2.0.0\\\\2014\\\\MIDI-UNPROCESSED_04-05_R1_2014_MID--AUDIO_04_R1_2014_wav--2.midi', 'data\\\\maestro-v2.0.0\\\\2014\\\\MIDI-UNPROCESSED_04-05_R1_2014_MID--AUDIO_04_R1_2014_wav--3.midi', 'data\\\\maestro-v2.0.0\\\\2014\\\\MIDI-UNPROCESSED_04-05_R1_2014_MID--AUDIO_04_R1_2014_wav--4.midi', 'data\\\\maestro-v2.0.0\\\\2014\\\\MIDI-UNPROCESSED_04-05_R1_2014_MID--AUDIO_04_R1_2014_wav--5.midi', 'data\\\\maestro-v2.0.0\\\\2014\\\\MIDI-UNPROCESSED_04-05_R1_2014_MID--AUDIO_05_R1_2014_wav--1.midi', 'data\\\\maestro-v2.0.0\\\\2014\\\\MIDI-UNPROCESSED_04-05_R1_2014_MID--AUDIO_05_R1_2014_wav--2.midi', 'data\\\\maestro-v2.0.0\\\\2014\\\\MIDI-UNPROCESSED_04-05_R1_2014_MID--AUDIO_05_R1_2014_wav--4.midi', 'data\\\\maestro-v2.0.0\\\\2014\\\\MIDI-UNPROCESSED_04-05_R1_2014_MID--AUDIO_05_R1_2014_wav--5.midi', 'data\\\\maestro-v2.0.0\\\\2014\\\\MIDI-UNPROCESSED_04-05_R1_2014_MID--AUDIO_05_R1_2014_wav--6.midi', 'data\\\\maestro-v2.0.0\\\\2014\\\\MIDI-UNPROCESSED_04-05_R1_2014_MID--AUDIO_05_R1_2014_wav--7.midi', 'data\\\\maestro-v2.0.0\\\\2014\\\\MIDI-UNPROCESSED_04-05_R1_2014_MID--AUDIO_05_R1_2014_wav--8.midi', 'data\\\\maestro-v2.0.0\\\\2014\\\\MIDI-UNPROCESSED_04-07-08-10-12-15-17_R2_2014_MID--AUDIO_04_R2_2014_wav.midi', 'data\\\\maestro-v2.0.0\\\\2014\\\\MIDI-UNPROCESSED_04-07-08-10-12-15-17_R2_2014_MID--AUDIO_07_R2_2014_wav.midi', 'data\\\\maestro-v2.0.0\\\\2014\\\\MIDI-UNPROCESSED_04-07-08-10-12-15-17_R2_2014_MID--AUDIO_08_R2_2014_wav.midi', 'data\\\\maestro-v2.0.0\\\\2014\\\\MIDI-UNPROCESSED_04-07-08-10-12-15-17_R2_2014_MID--AUDIO_10_R2_2014_wav.midi', 'data\\\\maestro-v2.0.0\\\\2014\\\\MIDI-UNPROCESSED_04-07-08-10-12-15-17_R2_2014_MID--AUDIO_12_R2_2014_wav.midi', 'data\\\\maestro-v2.0.0\\\\2014\\\\MIDI-UNPROCESSED_04-07-08-10-12-15-17_R2_2014_MID--AUDIO_15_R2_2014_wav.midi', 'data\\\\maestro-v2.0.0\\\\2014\\\\MIDI-UNPROCESSED_04-07-08-10-12-15-17_R2_2014_MID--AUDIO_17_R2_2014_wav.midi', 'data\\\\maestro-v2.0.0\\\\2014\\\\MIDI-UNPROCESSED_04-08-12_R3_2014_MID--AUDIO_04_R3_2014_wav--1.midi', 'data\\\\maestro-v2.0.0\\\\2014\\\\MIDI-UNPROCESSED_04-08-12_R3_2014_MID--AUDIO_04_R3_2014_wav--2.midi', 'data\\\\maestro-v2.0.0\\\\2014\\\\MIDI-UNPROCESSED_04-08-12_R3_2014_MID--AUDIO_08_R3_2014_wav.midi', 'data\\\\maestro-v2.0.0\\\\2014\\\\MIDI-UNPROCESSED_04-08-12_R3_2014_MID--AUDIO_12_R3_2014_wav--1.midi', 'data\\\\maestro-v2.0.0\\\\2014\\\\MIDI-UNPROCESSED_04-08-12_R3_2014_MID--AUDIO_12_R3_2014_wav--2.midi', 'data\\\\maestro-v2.0.0\\\\2014\\\\MIDI-UNPROCESSED_06-08_R1_2014_MID--AUDIO_06_R1_2014_wav--1.midi', 'data\\\\maestro-v2.0.0\\\\2014\\\\MIDI-UNPROCESSED_06-08_R1_2014_MID--AUDIO_06_R1_2014_wav--2.midi', 'data\\\\maestro-v2.0.0\\\\2014\\\\MIDI-UNPROCESSED_06-08_R1_2014_MID--AUDIO_06_R1_2014_wav--3.midi', 'data\\\\maestro-v2.0.0\\\\2014\\\\MIDI-UNPROCESSED_06-08_R1_2014_MID--AUDIO_07_R1_2014_wav--2.midi', 'data\\\\maestro-v2.0.0\\\\2014\\\\MIDI-UNPROCESSED_06-08_R1_2014_MID--AUDIO_07_R1_2014_wav--3.midi', 'data\\\\maestro-v2.0.0\\\\2014\\\\MIDI-UNPROCESSED_06-08_R1_2014_MID--AUDIO_07_R1_2014_wav--4.midi', 'data\\\\maestro-v2.0.0\\\\2014\\\\MIDI-UNPROCESSED_06-08_R1_2014_MID--AUDIO_07_R1_2014_wav--5.midi', 'data\\\\maestro-v2.0.0\\\\2014\\\\MIDI-UNPROCESSED_06-08_R1_2014_MID--AUDIO_07_R1_2014_wav--6.midi', 'data\\\\maestro-v2.0.0\\\\2014\\\\MIDI-UNPROCESSED_06-08_R1_2014_MID--AUDIO_07_R1_2014_wav--7.midi', 'data\\\\maestro-v2.0.0\\\\2014\\\\MIDI-UNPROCESSED_06-08_R1_2014_MID--AUDIO_08_R1_2014_wav--1.midi', 'data\\\\maestro-v2.0.0\\\\2014\\\\MIDI-UNPROCESSED_06-08_R1_2014_MID--AUDIO_08_R1_2014_wav--2.midi', 'data\\\\maestro-v2.0.0\\\\2014\\\\MIDI-UNPROCESSED_09-10_R1_2014_MID--AUDIO_09_R1_2014_wav--1.midi', 'data\\\\maestro-v2.0.0\\\\2014\\\\MIDI-UNPROCESSED_09-10_R1_2014_MID--AUDIO_09_R1_2014_wav--2.midi', 'data\\\\maestro-v2.0.0\\\\2014\\\\MIDI-UNPROCESSED_09-10_R1_2014_MID--AUDIO_09_R1_2014_wav--3.midi', 'data\\\\maestro-v2.0.0\\\\2014\\\\MIDI-UNPROCESSED_09-10_R1_2014_MID--AUDIO_09_R1_2014_wav--4.midi', 'data\\\\maestro-v2.0.0\\\\2014\\\\MIDI-UNPROCESSED_09-10_R1_2014_MID--AUDIO_10_R1_2014_wav--1.midi', 'data\\\\maestro-v2.0.0\\\\2014\\\\MIDI-UNPROCESSED_09-10_R1_2014_MID--AUDIO_10_R1_2014_wav--2.midi', 'data\\\\maestro-v2.0.0\\\\2014\\\\MIDI-UNPROCESSED_09-10_R1_2014_MID--AUDIO_10_R1_2014_wav--3.midi', 'data\\\\maestro-v2.0.0\\\\2014\\\\MIDI-UNPROCESSED_09-10_R1_2014_MID--AUDIO_10_R1_2014_wav--4.midi', 'data\\\\maestro-v2.0.0\\\\2014\\\\MIDI-UNPROCESSED_09-10_R1_2014_MID--AUDIO_10_R1_2014_wav--5.midi', 'data\\\\maestro-v2.0.0\\\\2014\\\\MIDI-UNPROCESSED_11-13_R1_2014_MID--AUDIO_11_R1_2014_wav--1.midi', 'data\\\\maestro-v2.0.0\\\\2014\\\\MIDI-UNPROCESSED_11-13_R1_2014_MID--AUDIO_11_R1_2014_wav--2.midi', 'data\\\\maestro-v2.0.0\\\\2014\\\\MIDI-UNPROCESSED_11-13_R1_2014_MID--AUDIO_11_R1_2014_wav--3.midi', 'data\\\\maestro-v2.0.0\\\\2014\\\\MIDI-UNPROCESSED_11-13_R1_2014_MID--AUDIO_12_R1_2014_wav--1.midi', 'data\\\\maestro-v2.0.0\\\\2014\\\\MIDI-UNPROCESSED_11-13_R1_2014_MID--AUDIO_12_R1_2014_wav--2.midi', 'data\\\\maestro-v2.0.0\\\\2014\\\\MIDI-UNPROCESSED_11-13_R1_2014_MID--AUDIO_13_R1_2014_wav--1.midi', 'data\\\\maestro-v2.0.0\\\\2014\\\\MIDI-UNPROCESSED_11-13_R1_2014_MID--AUDIO_13_R1_2014_wav--2.midi', 'data\\\\maestro-v2.0.0\\\\2014\\\\MIDI-UNPROCESSED_11-13_R1_2014_MID--AUDIO_13_R1_2014_wav--3.midi', 'data\\\\maestro-v2.0.0\\\\2014\\\\MIDI-UNPROCESSED_11-13_R1_2014_MID--AUDIO_13_R1_2014_wav--4.midi', 'data\\\\maestro-v2.0.0\\\\2014\\\\MIDI-UNPROCESSED_11-13_R1_2014_MID--AUDIO_13_R1_2014_wav--6.midi', 'data\\\\maestro-v2.0.0\\\\2014\\\\MIDI-UNPROCESSED_14-15_R1_2014_MID--AUDIO_14_R1_2014_wav--1.midi', 'data\\\\maestro-v2.0.0\\\\2014\\\\MIDI-UNPROCESSED_14-15_R1_2014_MID--AUDIO_15_R1_2014_wav--1.midi', 'data\\\\maestro-v2.0.0\\\\2014\\\\MIDI-UNPROCESSED_14-15_R1_2014_MID--AUDIO_15_R1_2014_wav--2.midi', 'data\\\\maestro-v2.0.0\\\\2014\\\\MIDI-UNPROCESSED_14-15_R1_2014_MID--AUDIO_15_R1_2014_wav--3.midi', 'data\\\\maestro-v2.0.0\\\\2014\\\\MIDI-UNPROCESSED_14-15_R1_2014_MID--AUDIO_15_R1_2014_wav--4.midi', 'data\\\\maestro-v2.0.0\\\\2014\\\\MIDI-UNPROCESSED_14-15_R1_2014_MID--AUDIO_15_R1_2014_wav--5.midi', 'data\\\\maestro-v2.0.0\\\\2014\\\\MIDI-UNPROCESSED_14-15_R1_2014_MID--AUDIO_15_R1_2014_wav--6.midi', 'data\\\\maestro-v2.0.0\\\\2014\\\\MIDI-UNPROCESSED_16-18_R1_2014_MID--AUDIO_16_R1_2014_wav--1.midi', 'data\\\\maestro-v2.0.0\\\\2014\\\\MIDI-UNPROCESSED_16-18_R1_2014_MID--AUDIO_16_R1_2014_wav--2.midi', 'data\\\\maestro-v2.0.0\\\\2014\\\\MIDI-UNPROCESSED_16-18_R1_2014_MID--AUDIO_16_R1_2014_wav--3.midi', 'data\\\\maestro-v2.0.0\\\\2014\\\\MIDI-UNPROCESSED_16-18_R1_2014_MID--AUDIO_17_R1_2014_wav--1.midi', 'data\\\\maestro-v2.0.0\\\\2014\\\\MIDI-UNPROCESSED_16-18_R1_2014_MID--AUDIO_17_R1_2014_wav--2.midi', 'data\\\\maestro-v2.0.0\\\\2014\\\\MIDI-UNPROCESSED_16-18_R1_2014_MID--AUDIO_18_R1_2014_wav--1.midi', 'data\\\\maestro-v2.0.0\\\\2014\\\\MIDI-UNPROCESSED_16-18_R1_2014_MID--AUDIO_18_R1_2014_wav--2.midi', 'data\\\\maestro-v2.0.0\\\\2014\\\\MIDI-UNPROCESSED_16-18_R1_2014_MID--AUDIO_18_R1_2014_wav--3.midi', 'data\\\\maestro-v2.0.0\\\\2014\\\\MIDI-UNPROCESSED_16-18_R1_2014_MID--AUDIO_18_R1_2014_wav--4.midi', 'data\\\\maestro-v2.0.0\\\\2014\\\\MIDI-UNPROCESSED_16-18_R1_2014_MID--AUDIO_18_R1_2014_wav--5.midi', 'data\\\\maestro-v2.0.0\\\\2014\\\\MIDI-UNPROCESSED_19-20-21_R2_2014_MID--AUDIO_19_R2_2014_wav.midi', 'data\\\\maestro-v2.0.0\\\\2014\\\\MIDI-UNPROCESSED_19-20-21_R2_2014_MID--AUDIO_20_R2_2014_wav.midi', 'data\\\\maestro-v2.0.0\\\\2014\\\\MIDI-UNPROCESSED_19-20-21_R2_2014_MID--AUDIO_21_R2_2014_wav.midi', 'data\\\\maestro-v2.0.0\\\\2014\\\\MIDI-UNPROCESSED_19-20_R1_2014_MID--AUDIO_19_R1_2014_wav--1.midi', 'data\\\\maestro-v2.0.0\\\\2014\\\\MIDI-UNPROCESSED_19-20_R1_2014_MID--AUDIO_19_R1_2014_wav--2.midi', 'data\\\\maestro-v2.0.0\\\\2014\\\\MIDI-UNPROCESSED_19-20_R1_2014_MID--AUDIO_19_R1_2014_wav--8.midi', 'data\\\\maestro-v2.0.0\\\\2014\\\\MIDI-UNPROCESSED_19-20_R1_2014_MID--AUDIO_20_R1_2014_wav--1.midi', 'data\\\\maestro-v2.0.0\\\\2014\\\\MIDI-UNPROCESSED_19-20_R1_2014_MID--AUDIO_20_R1_2014_wav--2.midi', 'data\\\\maestro-v2.0.0\\\\2014\\\\MIDI-UNPROCESSED_19-21_R3_2014_MID--AUDIO_21_R3_2014_wav--1.midi', 'data\\\\maestro-v2.0.0\\\\2014\\\\MIDI-UNPROCESSED_19-21_R3_2014_MID--AUDIO_21_R3_2014_wav--2.midi', 'data\\\\maestro-v2.0.0\\\\2014\\\\MIDI-UNPROCESSED_21-22_R1_2014_MID--AUDIO_21_R1_2014_wav--1.midi', 'data\\\\maestro-v2.0.0\\\\2014\\\\MIDI-UNPROCESSED_21-22_R1_2014_MID--AUDIO_21_R1_2014_wav--2.midi', 'data\\\\maestro-v2.0.0\\\\2014\\\\MIDI-UNPROCESSED_21-22_R1_2014_MID--AUDIO_21_R1_2014_wav--3.midi', 'data\\\\maestro-v2.0.0\\\\2014\\\\MIDI-UNPROCESSED_21-22_R1_2014_MID--AUDIO_21_R1_2014_wav--4.midi', 'data\\\\maestro-v2.0.0\\\\2014\\\\MIDI-UNPROCESSED_21-22_R1_2014_MID--AUDIO_21_R1_2014_wav--6.midi', 'data\\\\maestro-v2.0.0\\\\2014\\\\MIDI-UNPROCESSED_21-22_R1_2014_MID--AUDIO_21_R1_2014_wav--7.midi', 'data\\\\maestro-v2.0.0\\\\2014\\\\MIDI-UNPROCESSED_21-22_R1_2014_MID--AUDIO_21_R1_2014_wav--8.midi', 'data\\\\maestro-v2.0.0\\\\2014\\\\MIDI-UNPROCESSED_21-22_R1_2014_MID--AUDIO_22_R1_2014_wav--1.midi', 'data\\\\maestro-v2.0.0\\\\2014\\\\MIDI-UNPROCESSED_21-22_R1_2014_MID--AUDIO_22_R1_2014_wav--2.midi', 'data\\\\maestro-v2.0.0\\\\2014\\\\MIDI-UNPROCESSED_21-22_R1_2014_MID--AUDIO_22_R1_2014_wav--4.midi', 'data\\\\maestro-v2.0.0\\\\2014\\\\MIDI-UNPROCESSED_21-22_R1_2014_MID--AUDIO_22_R1_2014_wav--5.midi', 'data\\\\maestro-v2.0.0\\\\2015\\\\MIDI-Unprocessed_R1_D1-1-8_mid--AUDIO-from_mp3_01_R1_2015_wav--1.midi', 'data\\\\maestro-v2.0.0\\\\2015\\\\MIDI-Unprocessed_R1_D1-1-8_mid--AUDIO-from_mp3_01_R1_2015_wav--2.midi', 'data\\\\maestro-v2.0.0\\\\2015\\\\MIDI-Unprocessed_R1_D1-1-8_mid--AUDIO-from_mp3_01_R1_2015_wav--3.midi', 'data\\\\maestro-v2.0.0\\\\2015\\\\MIDI-Unprocessed_R1_D1-1-8_mid--AUDIO-from_mp3_01_R1_2015_wav--5.midi', 'data\\\\maestro-v2.0.0\\\\2015\\\\MIDI-Unprocessed_R1_D1-1-8_mid--AUDIO-from_mp3_02_R1_2015_wav--1.midi', 'data\\\\maestro-v2.0.0\\\\2015\\\\MIDI-Unprocessed_R1_D1-1-8_mid--AUDIO-from_mp3_02_R1_2015_wav--2.midi', 'data\\\\maestro-v2.0.0\\\\2015\\\\MIDI-Unprocessed_R1_D1-1-8_mid--AUDIO-from_mp3_02_R1_2015_wav--3.midi', 'data\\\\maestro-v2.0.0\\\\2015\\\\MIDI-Unprocessed_R1_D1-1-8_mid--AUDIO-from_mp3_02_R1_2015_wav--4.midi', 'data\\\\maestro-v2.0.0\\\\2015\\\\MIDI-Unprocessed_R1_D1-1-8_mid--AUDIO-from_mp3_02_R1_2015_wav--5.midi', 'data\\\\maestro-v2.0.0\\\\2015\\\\MIDI-Unprocessed_R1_D1-1-8_mid--AUDIO-from_mp3_02_R1_2015_wav--6.midi', 'data\\\\maestro-v2.0.0\\\\2015\\\\MIDI-Unprocessed_R1_D1-1-8_mid--AUDIO-from_mp3_03_R1_2015_wav--1.midi', 'data\\\\maestro-v2.0.0\\\\2015\\\\MIDI-Unprocessed_R1_D1-1-8_mid--AUDIO-from_mp3_03_R1_2015_wav--2.midi', 'data\\\\maestro-v2.0.0\\\\2015\\\\MIDI-Unprocessed_R1_D1-1-8_mid--AUDIO-from_mp3_03_R1_2015_wav--3.midi', 'data\\\\maestro-v2.0.0\\\\2015\\\\MIDI-Unprocessed_R1_D1-1-8_mid--AUDIO-from_mp3_03_R1_2015_wav--4.midi', 'data\\\\maestro-v2.0.0\\\\2015\\\\MIDI-Unprocessed_R1_D1-1-8_mid--AUDIO-from_mp3_04_R1_2015_wav--1.midi', 'data\\\\maestro-v2.0.0\\\\2015\\\\MIDI-Unprocessed_R1_D1-1-8_mid--AUDIO-from_mp3_04_R1_2015_wav--2.midi', 'data\\\\maestro-v2.0.0\\\\2015\\\\MIDI-Unprocessed_R1_D1-1-8_mid--AUDIO-from_mp3_04_R1_2015_wav--3.midi', 'data\\\\maestro-v2.0.0\\\\2015\\\\MIDI-Unprocessed_R1_D1-1-8_mid--AUDIO-from_mp3_04_R1_2015_wav--4.midi', 'data\\\\maestro-v2.0.0\\\\2015\\\\MIDI-Unprocessed_R1_D1-1-8_mid--AUDIO-from_mp3_05_R1_2015_wav--1.midi', 'data\\\\maestro-v2.0.0\\\\2015\\\\MIDI-Unprocessed_R1_D1-1-8_mid--AUDIO-from_mp3_05_R1_2015_wav--2.midi', 'data\\\\maestro-v2.0.0\\\\2015\\\\MIDI-Unprocessed_R1_D1-1-8_mid--AUDIO-from_mp3_05_R1_2015_wav--3.midi', 'data\\\\maestro-v2.0.0\\\\2015\\\\MIDI-Unprocessed_R1_D1-1-8_mid--AUDIO-from_mp3_05_R1_2015_wav--4.midi', 'data\\\\maestro-v2.0.0\\\\2015\\\\MIDI-Unprocessed_R1_D1-1-8_mid--AUDIO-from_mp3_05_R1_2015_wav--5.midi', 'data\\\\maestro-v2.0.0\\\\2015\\\\MIDI-Unprocessed_R1_D1-1-8_mid--AUDIO-from_mp3_06_R1_2015_wav--1.midi', 'data\\\\maestro-v2.0.0\\\\2015\\\\MIDI-Unprocessed_R1_D1-1-8_mid--AUDIO-from_mp3_06_R1_2015_wav--2.midi', 'data\\\\maestro-v2.0.0\\\\2015\\\\MIDI-Unprocessed_R1_D1-1-8_mid--AUDIO-from_mp3_06_R1_2015_wav--3.midi', 'data\\\\maestro-v2.0.0\\\\2015\\\\MIDI-Unprocessed_R1_D1-1-8_mid--AUDIO-from_mp3_06_R1_2015_wav--4.midi', 'data\\\\maestro-v2.0.0\\\\2015\\\\MIDI-Unprocessed_R1_D1-1-8_mid--AUDIO-from_mp3_06_R1_2015_wav--5.midi', 'data\\\\maestro-v2.0.0\\\\2015\\\\MIDI-Unprocessed_R1_D1-1-8_mid--AUDIO-from_mp3_06_R1_2015_wav--6.midi', 'data\\\\maestro-v2.0.0\\\\2015\\\\MIDI-Unprocessed_R1_D1-1-8_mid--AUDIO-from_mp3_07_R1_2015_wav--1.midi', 'data\\\\maestro-v2.0.0\\\\2015\\\\MIDI-Unprocessed_R1_D1-1-8_mid--AUDIO-from_mp3_07_R1_2015_wav--2.midi', 'data\\\\maestro-v2.0.0\\\\2015\\\\MIDI-Unprocessed_R1_D1-1-8_mid--AUDIO-from_mp3_07_R1_2015_wav--3.midi', 'data\\\\maestro-v2.0.0\\\\2015\\\\MIDI-Unprocessed_R1_D1-1-8_mid--AUDIO-from_mp3_07_R1_2015_wav--4.midi', 'data\\\\maestro-v2.0.0\\\\2015\\\\MIDI-Unprocessed_R1_D1-1-8_mid--AUDIO-from_mp3_08_R1_2015_wav--1.midi', 'data\\\\maestro-v2.0.0\\\\2015\\\\MIDI-Unprocessed_R1_D1-1-8_mid--AUDIO-from_mp3_08_R1_2015_wav--2.midi', 'data\\\\maestro-v2.0.0\\\\2015\\\\MIDI-Unprocessed_R1_D1-1-8_mid--AUDIO-from_mp3_08_R1_2015_wav--3.midi', 'data\\\\maestro-v2.0.0\\\\2015\\\\MIDI-Unprocessed_R1_D1-1-8_mid--AUDIO-from_mp3_08_R1_2015_wav--4.midi', 'data\\\\maestro-v2.0.0\\\\2015\\\\MIDI-Unprocessed_R1_D1-9-12_mid--AUDIO-from_mp3_09_R1_2015_wav--1.midi', 'data\\\\maestro-v2.0.0\\\\2015\\\\MIDI-Unprocessed_R1_D1-9-12_mid--AUDIO-from_mp3_09_R1_2015_wav--2.midi', 'data\\\\maestro-v2.0.0\\\\2015\\\\MIDI-Unprocessed_R1_D1-9-12_mid--AUDIO-from_mp3_09_R1_2015_wav--3.midi', 'data\\\\maestro-v2.0.0\\\\2015\\\\MIDI-Unprocessed_R1_D1-9-12_mid--AUDIO-from_mp3_09_R1_2015_wav--4.midi', 'data\\\\maestro-v2.0.0\\\\2015\\\\MIDI-Unprocessed_R1_D1-9-12_mid--AUDIO-from_mp3_10_R1_2015_wav--1.midi', 'data\\\\maestro-v2.0.0\\\\2015\\\\MIDI-Unprocessed_R1_D1-9-12_mid--AUDIO-from_mp3_10_R1_2015_wav--2.midi', 'data\\\\maestro-v2.0.0\\\\2015\\\\MIDI-Unprocessed_R1_D1-9-12_mid--AUDIO-from_mp3_10_R1_2015_wav--3.midi', 'data\\\\maestro-v2.0.0\\\\2015\\\\MIDI-Unprocessed_R1_D1-9-12_mid--AUDIO-from_mp3_11_R1_2015_wav--1.midi', 'data\\\\maestro-v2.0.0\\\\2015\\\\MIDI-Unprocessed_R1_D1-9-12_mid--AUDIO-from_mp3_11_R1_2015_wav--2.midi', 'data\\\\maestro-v2.0.0\\\\2015\\\\MIDI-Unprocessed_R1_D1-9-12_mid--AUDIO-from_mp3_11_R1_2015_wav--3.midi', 'data\\\\maestro-v2.0.0\\\\2015\\\\MIDI-Unprocessed_R1_D1-9-12_mid--AUDIO-from_mp3_11_R1_2015_wav--4.midi', 'data\\\\maestro-v2.0.0\\\\2015\\\\MIDI-Unprocessed_R1_D1-9-12_mid--AUDIO-from_mp3_11_R1_2015_wav--5.midi', 'data\\\\maestro-v2.0.0\\\\2015\\\\MIDI-Unprocessed_R1_D1-9-12_mid--AUDIO-from_mp3_12_R1_2015_wav--1.midi', 'data\\\\maestro-v2.0.0\\\\2015\\\\MIDI-Unprocessed_R1_D1-9-12_mid--AUDIO-from_mp3_12_R1_2015_wav--2.midi', 'data\\\\maestro-v2.0.0\\\\2015\\\\MIDI-Unprocessed_R1_D1-9-12_mid--AUDIO-from_mp3_12_R1_2015_wav--3.midi', 'data\\\\maestro-v2.0.0\\\\2015\\\\MIDI-Unprocessed_R1_D1-9-12_mid--AUDIO-from_mp3_12_R1_2015_wav--4.midi', 'data\\\\maestro-v2.0.0\\\\2015\\\\MIDI-Unprocessed_R1_D1-9-12_mid--AUDIO-from_mp3_12_R1_2015_wav--5.midi', 'data\\\\maestro-v2.0.0\\\\2015\\\\MIDI-Unprocessed_R1_D2-13-20_mid--AUDIO-from_mp3_13_R1_2015_wav--1.midi', 'data\\\\maestro-v2.0.0\\\\2015\\\\MIDI-Unprocessed_R1_D2-13-20_mid--AUDIO-from_mp3_13_R1_2015_wav--2.midi', 'data\\\\maestro-v2.0.0\\\\2015\\\\MIDI-Unprocessed_R1_D2-13-20_mid--AUDIO-from_mp3_13_R1_2015_wav--5.midi', 'data\\\\maestro-v2.0.0\\\\2015\\\\MIDI-Unprocessed_R1_D2-13-20_mid--AUDIO-from_mp3_14_R1_2015_wav--1.midi', 'data\\\\maestro-v2.0.0\\\\2015\\\\MIDI-Unprocessed_R1_D2-13-20_mid--AUDIO-from_mp3_14_R1_2015_wav--2.midi', 'data\\\\maestro-v2.0.0\\\\2015\\\\MIDI-Unprocessed_R1_D2-13-20_mid--AUDIO-from_mp3_14_R1_2015_wav--3.midi', 'data\\\\maestro-v2.0.0\\\\2015\\\\MIDI-Unprocessed_R1_D2-13-20_mid--AUDIO-from_mp3_14_R1_2015_wav--4.midi', 'data\\\\maestro-v2.0.0\\\\2015\\\\MIDI-Unprocessed_R1_D2-13-20_mid--AUDIO-from_mp3_15_R1_2015_wav--1.midi', 'data\\\\maestro-v2.0.0\\\\2015\\\\MIDI-Unprocessed_R1_D2-13-20_mid--AUDIO-from_mp3_15_R1_2015_wav--2.midi', 'data\\\\maestro-v2.0.0\\\\2015\\\\MIDI-Unprocessed_R1_D2-13-20_mid--AUDIO-from_mp3_15_R1_2015_wav--3.midi', 'data\\\\maestro-v2.0.0\\\\2015\\\\MIDI-Unprocessed_R1_D2-13-20_mid--AUDIO-from_mp3_15_R1_2015_wav--4.midi', 'data\\\\maestro-v2.0.0\\\\2015\\\\MIDI-Unprocessed_R1_D2-13-20_mid--AUDIO-from_mp3_15_R1_2015_wav--5.midi', 'data\\\\maestro-v2.0.0\\\\2015\\\\MIDI-Unprocessed_R1_D2-13-20_mid--AUDIO-from_mp3_16_R1_2015_wav--1.midi', 'data\\\\maestro-v2.0.0\\\\2015\\\\MIDI-Unprocessed_R1_D2-13-20_mid--AUDIO-from_mp3_16_R1_2015_wav--2.midi', 'data\\\\maestro-v2.0.0\\\\2015\\\\MIDI-Unprocessed_R1_D2-13-20_mid--AUDIO-from_mp3_16_R1_2015_wav--3.midi', 'data\\\\maestro-v2.0.0\\\\2015\\\\MIDI-Unprocessed_R1_D2-13-20_mid--AUDIO-from_mp3_16_R1_2015_wav--4.midi', 'data\\\\maestro-v2.0.0\\\\2015\\\\MIDI-Unprocessed_R1_D2-13-20_mid--AUDIO-from_mp3_17_R1_2015_wav--1.midi', 'data\\\\maestro-v2.0.0\\\\2015\\\\MIDI-Unprocessed_R1_D2-13-20_mid--AUDIO-from_mp3_17_R1_2015_wav--2.midi', 'data\\\\maestro-v2.0.0\\\\2015\\\\MIDI-Unprocessed_R1_D2-13-20_mid--AUDIO-from_mp3_17_R1_2015_wav--3.midi', 'data\\\\maestro-v2.0.0\\\\2015\\\\MIDI-Unprocessed_R1_D2-13-20_mid--AUDIO-from_mp3_17_R1_2015_wav--4.midi', 'data\\\\maestro-v2.0.0\\\\2015\\\\MIDI-Unprocessed_R1_D2-13-20_mid--AUDIO-from_mp3_18_R1_2015_wav--1.midi', 'data\\\\maestro-v2.0.0\\\\2015\\\\MIDI-Unprocessed_R1_D2-13-20_mid--AUDIO-from_mp3_18_R1_2015_wav--2.midi', 'data\\\\maestro-v2.0.0\\\\2015\\\\MIDI-Unprocessed_R1_D2-13-20_mid--AUDIO-from_mp3_18_R1_2015_wav--3.midi', 'data\\\\maestro-v2.0.0\\\\2015\\\\MIDI-Unprocessed_R1_D2-13-20_mid--AUDIO-from_mp3_18_R1_2015_wav--4.midi', 'data\\\\maestro-v2.0.0\\\\2015\\\\MIDI-Unprocessed_R1_D2-13-20_mid--AUDIO-from_mp3_19_R1_2015_wav--1.midi', 'data\\\\maestro-v2.0.0\\\\2015\\\\MIDI-Unprocessed_R1_D2-13-20_mid--AUDIO-from_mp3_19_R1_2015_wav--2.midi', 'data\\\\maestro-v2.0.0\\\\2015\\\\MIDI-Unprocessed_R1_D2-13-20_mid--AUDIO-from_mp3_19_R1_2015_wav--3.midi', 'data\\\\maestro-v2.0.0\\\\2015\\\\MIDI-Unprocessed_R1_D2-13-20_mid--AUDIO-from_mp3_19_R1_2015_wav--4.midi', 'data\\\\maestro-v2.0.0\\\\2015\\\\MIDI-Unprocessed_R1_D2-13-20_mid--AUDIO-from_mp3_20_R1_2015_wav--1.midi', 'data\\\\maestro-v2.0.0\\\\2015\\\\MIDI-Unprocessed_R1_D2-13-20_mid--AUDIO-from_mp3_20_R1_2015_wav--2.midi', 'data\\\\maestro-v2.0.0\\\\2015\\\\MIDI-Unprocessed_R1_D2-13-20_mid--AUDIO-from_mp3_20_R1_2015_wav--3.midi', 'data\\\\maestro-v2.0.0\\\\2015\\\\MIDI-Unprocessed_R1_D2-13-20_mid--AUDIO-from_mp3_20_R1_2015_wav--4.midi', 'data\\\\maestro-v2.0.0\\\\2015\\\\MIDI-Unprocessed_R1_D2-21-22_mid--AUDIO-from_mp3_21_R1_2015_wav--1.midi', 'data\\\\maestro-v2.0.0\\\\2015\\\\MIDI-Unprocessed_R1_D2-21-22_mid--AUDIO-from_mp3_21_R1_2015_wav--2.midi', 'data\\\\maestro-v2.0.0\\\\2015\\\\MIDI-Unprocessed_R1_D2-21-22_mid--AUDIO-from_mp3_21_R1_2015_wav--4.midi', 'data\\\\maestro-v2.0.0\\\\2015\\\\MIDI-Unprocessed_R1_D2-21-22_mid--AUDIO-from_mp3_21_R1_2015_wav--5.midi', 'data\\\\maestro-v2.0.0\\\\2015\\\\MIDI-Unprocessed_R1_D2-21-22_mid--AUDIO-from_mp3_22_R1_2015_wav--1.midi', 'data\\\\maestro-v2.0.0\\\\2015\\\\MIDI-Unprocessed_R1_D2-21-22_mid--AUDIO-from_mp3_22_R1_2015_wav--2.midi', 'data\\\\maestro-v2.0.0\\\\2015\\\\MIDI-Unprocessed_R1_D2-21-22_mid--AUDIO-from_mp3_22_R1_2015_wav--3.midi', 'data\\\\maestro-v2.0.0\\\\2015\\\\MIDI-Unprocessed_R1_D2-21-22_mid--AUDIO-from_mp3_22_R1_2015_wav--4.midi', 'data\\\\maestro-v2.0.0\\\\2015\\\\MIDI-Unprocessed_R1_D2-21-22_mid--AUDIO-from_mp3_22_R1_2015_wav--5.midi', 'data\\\\maestro-v2.0.0\\\\2015\\\\MIDI-Unprocessed_R2_D1-2-3-6-7-8-11_mid--AUDIO-from_mp3_03_R2_2015_wav--1.midi', 'data\\\\maestro-v2.0.0\\\\2015\\\\MIDI-Unprocessed_R2_D1-2-3-6-7-8-11_mid--AUDIO-from_mp3_03_R2_2015_wav--2.midi', 'data\\\\maestro-v2.0.0\\\\2015\\\\MIDI-Unprocessed_R2_D1-2-3-6-7-8-11_mid--AUDIO-from_mp3_06_R2_2015_wav--1.midi', 'data\\\\maestro-v2.0.0\\\\2015\\\\MIDI-Unprocessed_R2_D1-2-3-6-7-8-11_mid--AUDIO-from_mp3_06_R2_2015_wav--2.midi', 'data\\\\maestro-v2.0.0\\\\2015\\\\MIDI-Unprocessed_R2_D1-2-3-6-7-8-11_mid--AUDIO-from_mp3_06_R2_2015_wav--4.midi', 'data\\\\maestro-v2.0.0\\\\2015\\\\MIDI-Unprocessed_R2_D1-2-3-6-7-8-11_mid--AUDIO-from_mp3_07_R2_2015_wav--1.midi', 'data\\\\maestro-v2.0.0\\\\2015\\\\MIDI-Unprocessed_R2_D1-2-3-6-7-8-11_mid--AUDIO-from_mp3_07_R2_2015_wav--2.midi', 'data\\\\maestro-v2.0.0\\\\2015\\\\MIDI-Unprocessed_R2_D1-2-3-6-7-8-11_mid--AUDIO-from_mp3_07_R2_2015_wav--3.midi', 'data\\\\maestro-v2.0.0\\\\2015\\\\MIDI-Unprocessed_R2_D1-2-3-6-7-8-11_mid--AUDIO-from_mp3_08_R2_2015_wav--1.midi', 'data\\\\maestro-v2.0.0\\\\2015\\\\MIDI-Unprocessed_R2_D1-2-3-6-7-8-11_mid--AUDIO-from_mp3_08_R2_2015_wav--2.midi', 'data\\\\maestro-v2.0.0\\\\2015\\\\MIDI-Unprocessed_R2_D1-2-3-6-7-8-11_mid--AUDIO-from_mp3_08_R2_2015_wav--3.midi', 'data\\\\maestro-v2.0.0\\\\2015\\\\MIDI-Unprocessed_R2_D1-2-3-6-7-8-11_mid--AUDIO-from_mp3_11_R2_2015_wav--1.midi', 'data\\\\maestro-v2.0.0\\\\2015\\\\MIDI-Unprocessed_R2_D1-2-3-6-7-8-11_mid--AUDIO-from_mp3_11_R2_2015_wav--2.midi', 'data\\\\maestro-v2.0.0\\\\2015\\\\MIDI-Unprocessed_R2_D1-2-3-6-7-8-11_mid--AUDIO-from_mp3_11_R2_2015_wav--4.midi', 'data\\\\maestro-v2.0.0\\\\2015\\\\MIDI-Unprocessed_R2_D2-12-13-15_mid--AUDIO-from_mp3_12_R2_2015_wav--1.midi', 'data\\\\maestro-v2.0.0\\\\2015\\\\MIDI-Unprocessed_R2_D2-12-13-15_mid--AUDIO-from_mp3_12_R2_2015_wav--2.midi', 'data\\\\maestro-v2.0.0\\\\2015\\\\MIDI-Unprocessed_R2_D2-12-13-15_mid--AUDIO-from_mp3_12_R2_2015_wav--3.midi', 'data\\\\maestro-v2.0.0\\\\2015\\\\MIDI-Unprocessed_R2_D2-12-13-15_mid--AUDIO-from_mp3_12_R2_2015_wav--5.midi', 'data\\\\maestro-v2.0.0\\\\2015\\\\MIDI-Unprocessed_R2_D2-12-13-15_mid--AUDIO-from_mp3_13_R2_2015_wav--1.midi', 'data\\\\maestro-v2.0.0\\\\2015\\\\MIDI-Unprocessed_R2_D2-12-13-15_mid--AUDIO-from_mp3_13_R2_2015_wav--3.midi', 'data\\\\maestro-v2.0.0\\\\2015\\\\MIDI-Unprocessed_R2_D2-12-13-15_mid--AUDIO-from_mp3_13_R2_2015_wav--4.midi', 'data\\\\maestro-v2.0.0\\\\2015\\\\MIDI-Unprocessed_R2_D2-12-13-15_mid--AUDIO-from_mp3_15_R2_2015_wav--1.midi', 'data\\\\maestro-v2.0.0\\\\2015\\\\MIDI-Unprocessed_R2_D2-12-13-15_mid--AUDIO-from_mp3_15_R2_2015_wav--2.midi', 'data\\\\maestro-v2.0.0\\\\2015\\\\MIDI-Unprocessed_R2_D2-12-13-15_mid--AUDIO-from_mp3_15_R2_2015_wav--3.midi', 'data\\\\maestro-v2.0.0\\\\2015\\\\MIDI-Unprocessed_R2_D2-19-21-22_mid--AUDIO-from_mp3_19_R2_2015_wav--1.midi', 'data\\\\maestro-v2.0.0\\\\2015\\\\MIDI-Unprocessed_R2_D2-19-21-22_mid--AUDIO-from_mp3_19_R2_2015_wav--2.midi', 'data\\\\maestro-v2.0.0\\\\2015\\\\MIDI-Unprocessed_R2_D2-19-21-22_mid--AUDIO-from_mp3_19_R2_2015_wav--3.midi', 'data\\\\maestro-v2.0.0\\\\2015\\\\MIDI-Unprocessed_R2_D2-19-21-22_mid--AUDIO-from_mp3_21_R2_2015_wav--1.midi', 'data\\\\maestro-v2.0.0\\\\2015\\\\MIDI-Unprocessed_R2_D2-19-21-22_mid--AUDIO-from_mp3_21_R2_2015_wav--2.midi', 'data\\\\maestro-v2.0.0\\\\2015\\\\MIDI-Unprocessed_R2_D2-19-21-22_mid--AUDIO-from_mp3_21_R2_2015_wav--3.midi', 'data\\\\maestro-v2.0.0\\\\2015\\\\MIDI-Unprocessed_R2_D2-19-21-22_mid--AUDIO-from_mp3_22_R2_2015_wav--1.midi', 'data\\\\maestro-v2.0.0\\\\2015\\\\MIDI-Unprocessed_R2_D2-19-21-22_mid--AUDIO-from_mp3_22_R2_2015_wav--2.midi', 'data\\\\maestro-v2.0.0\\\\2015\\\\MIDI-Unprocessed_R2_D2-19-21-22_mid--AUDIO-from_mp3_22_R2_2015_wav--3.midi', 'data\\\\maestro-v2.0.0\\\\2015\\\\MIDI-Unprocessed_R2_D2-19-21-22_mid--AUDIO-from_mp3_22_R2_2015_wav--4.midi', 'data\\\\maestro-v2.0.0\\\\2017\\\\MIDI-Unprocessed_041_PIANO041_MID--AUDIO-split_07-06-17_Piano-e_1-01_wav--1.midi', 'data\\\\maestro-v2.0.0\\\\2017\\\\MIDI-Unprocessed_041_PIANO041_MID--AUDIO-split_07-06-17_Piano-e_1-01_wav--2.midi', 'data\\\\maestro-v2.0.0\\\\2017\\\\MIDI-Unprocessed_041_PIANO041_MID--AUDIO-split_07-06-17_Piano-e_1-01_wav--3.midi', 'data\\\\maestro-v2.0.0\\\\2017\\\\MIDI-Unprocessed_041_PIANO041_MID--AUDIO-split_07-06-17_Piano-e_1-01_wav--4.midi', 'data\\\\maestro-v2.0.0\\\\2017\\\\MIDI-Unprocessed_042_PIANO042_MID--AUDIO-split_07-06-17_Piano-e_1-02_wav--1.midi', 'data\\\\maestro-v2.0.0\\\\2017\\\\MIDI-Unprocessed_042_PIANO042_MID--AUDIO-split_07-06-17_Piano-e_1-02_wav--2.midi', 'data\\\\maestro-v2.0.0\\\\2017\\\\MIDI-Unprocessed_042_PIANO042_MID--AUDIO-split_07-06-17_Piano-e_1-02_wav--3.midi', 'data\\\\maestro-v2.0.0\\\\2017\\\\MIDI-Unprocessed_043_PIANO043_MID--AUDIO-split_07-06-17_Piano-e_1-03_wav--1.midi', 'data\\\\maestro-v2.0.0\\\\2017\\\\MIDI-Unprocessed_043_PIANO043_MID--AUDIO-split_07-06-17_Piano-e_1-03_wav--2.midi', 'data\\\\maestro-v2.0.0\\\\2017\\\\MIDI-Unprocessed_043_PIANO043_MID--AUDIO-split_07-06-17_Piano-e_1-03_wav--3.midi', 'data\\\\maestro-v2.0.0\\\\2017\\\\MIDI-Unprocessed_043_PIANO043_MID--AUDIO-split_07-06-17_Piano-e_1-03_wav--4.midi', 'data\\\\maestro-v2.0.0\\\\2017\\\\MIDI-Unprocessed_044_PIANO044_MID--AUDIO-split_07-06-17_Piano-e_1-04_wav--1.midi', 'data\\\\maestro-v2.0.0\\\\2017\\\\MIDI-Unprocessed_044_PIANO044_MID--AUDIO-split_07-06-17_Piano-e_1-04_wav--2.midi', 'data\\\\maestro-v2.0.0\\\\2017\\\\MIDI-Unprocessed_044_PIANO044_MID--AUDIO-split_07-06-17_Piano-e_1-04_wav--3.midi', 'data\\\\maestro-v2.0.0\\\\2017\\\\MIDI-Unprocessed_044_PIANO044_MID--AUDIO-split_07-06-17_Piano-e_1-04_wav--4.midi', 'data\\\\maestro-v2.0.0\\\\2017\\\\MIDI-Unprocessed_045_PIANO045_MID--AUDIO-split_07-06-17_Piano-e_2-01_wav--1.midi', 'data\\\\maestro-v2.0.0\\\\2017\\\\MIDI-Unprocessed_045_PIANO045_MID--AUDIO-split_07-06-17_Piano-e_2-01_wav--2.midi', 'data\\\\maestro-v2.0.0\\\\2017\\\\MIDI-Unprocessed_045_PIANO045_MID--AUDIO-split_07-06-17_Piano-e_2-01_wav--4.midi', 'data\\\\maestro-v2.0.0\\\\2017\\\\MIDI-Unprocessed_046_PIANO046_MID--AUDIO-split_07-06-17_Piano-e_2-02_wav--1.midi', 'data\\\\maestro-v2.0.0\\\\2017\\\\MIDI-Unprocessed_046_PIANO046_MID--AUDIO-split_07-06-17_Piano-e_2-02_wav--2.midi', 'data\\\\maestro-v2.0.0\\\\2017\\\\MIDI-Unprocessed_046_PIANO046_MID--AUDIO-split_07-06-17_Piano-e_2-02_wav--3.midi', 'data\\\\maestro-v2.0.0\\\\2017\\\\MIDI-Unprocessed_046_PIANO046_MID--AUDIO-split_07-06-17_Piano-e_2-02_wav--4.midi', 'data\\\\maestro-v2.0.0\\\\2017\\\\MIDI-Unprocessed_047_PIANO047_MID--AUDIO-split_07-06-17_Piano-e_2-04_wav--1.midi', 'data\\\\maestro-v2.0.0\\\\2017\\\\MIDI-Unprocessed_047_PIANO047_MID--AUDIO-split_07-06-17_Piano-e_2-04_wav--2.midi', 'data\\\\maestro-v2.0.0\\\\2017\\\\MIDI-Unprocessed_047_PIANO047_MID--AUDIO-split_07-06-17_Piano-e_2-04_wav--3.midi', 'data\\\\maestro-v2.0.0\\\\2017\\\\MIDI-Unprocessed_047_PIANO047_MID--AUDIO-split_07-06-17_Piano-e_2-04_wav--4.midi', 'data\\\\maestro-v2.0.0\\\\2017\\\\MIDI-Unprocessed_048_PIANO048_MID--AUDIO-split_07-06-17_Piano-e_2-05_wav--1.midi', 'data\\\\maestro-v2.0.0\\\\2017\\\\MIDI-Unprocessed_048_PIANO048_MID--AUDIO-split_07-06-17_Piano-e_2-05_wav--2.midi', 'data\\\\maestro-v2.0.0\\\\2017\\\\MIDI-Unprocessed_048_PIANO048_MID--AUDIO-split_07-06-17_Piano-e_2-05_wav--4.midi', 'data\\\\maestro-v2.0.0\\\\2017\\\\MIDI-Unprocessed_049_PIANO049_MID--AUDIO-split_07-06-17_Piano-e_2-06_wav--1.midi', 'data\\\\maestro-v2.0.0\\\\2017\\\\MIDI-Unprocessed_049_PIANO049_MID--AUDIO-split_07-06-17_Piano-e_2-06_wav--2.midi', 'data\\\\maestro-v2.0.0\\\\2017\\\\MIDI-Unprocessed_049_PIANO049_MID--AUDIO-split_07-06-17_Piano-e_2-06_wav--3.midi', 'data\\\\maestro-v2.0.0\\\\2017\\\\MIDI-Unprocessed_049_PIANO049_MID--AUDIO-split_07-06-17_Piano-e_2-06_wav--4.midi', 'data\\\\maestro-v2.0.0\\\\2017\\\\MIDI-Unprocessed_049_PIANO049_MID--AUDIO-split_07-06-17_Piano-e_2-06_wav--5.midi', 'data\\\\maestro-v2.0.0\\\\2017\\\\MIDI-Unprocessed_050_PIANO050_MID--AUDIO-split_07-06-17_Piano-e_3-01_wav--1.midi', 'data\\\\maestro-v2.0.0\\\\2017\\\\MIDI-Unprocessed_050_PIANO050_MID--AUDIO-split_07-06-17_Piano-e_3-01_wav--2.midi', 'data\\\\maestro-v2.0.0\\\\2017\\\\MIDI-Unprocessed_050_PIANO050_MID--AUDIO-split_07-06-17_Piano-e_3-01_wav--3.midi', 'data\\\\maestro-v2.0.0\\\\2017\\\\MIDI-Unprocessed_050_PIANO050_MID--AUDIO-split_07-06-17_Piano-e_3-01_wav--4.midi', 'data\\\\maestro-v2.0.0\\\\2017\\\\MIDI-Unprocessed_051_PIANO051_MID--AUDIO-split_07-06-17_Piano-e_3-02_wav--1.midi', 'data\\\\maestro-v2.0.0\\\\2017\\\\MIDI-Unprocessed_051_PIANO051_MID--AUDIO-split_07-06-17_Piano-e_3-02_wav--2.midi', 'data\\\\maestro-v2.0.0\\\\2017\\\\MIDI-Unprocessed_051_PIANO051_MID--AUDIO-split_07-06-17_Piano-e_3-02_wav--3.midi', 'data\\\\maestro-v2.0.0\\\\2017\\\\MIDI-Unprocessed_051_PIANO051_MID--AUDIO-split_07-06-17_Piano-e_3-02_wav--4.midi', 'data\\\\maestro-v2.0.0\\\\2017\\\\MIDI-Unprocessed_051_PIANO051_MID--AUDIO-split_07-06-17_Piano-e_3-02_wav--5.midi', 'data\\\\maestro-v2.0.0\\\\2017\\\\MIDI-Unprocessed_052_PIANO052_MID--AUDIO-split_07-06-17_Piano-e_3-03_wav--1.midi', 'data\\\\maestro-v2.0.0\\\\2017\\\\MIDI-Unprocessed_052_PIANO052_MID--AUDIO-split_07-06-17_Piano-e_3-03_wav--2.midi', 'data\\\\maestro-v2.0.0\\\\2017\\\\MIDI-Unprocessed_052_PIANO052_MID--AUDIO-split_07-06-17_Piano-e_3-03_wav--3.midi', 'data\\\\maestro-v2.0.0\\\\2017\\\\MIDI-Unprocessed_052_PIANO052_MID--AUDIO-split_07-06-17_Piano-e_3-03_wav--5.midi', 'data\\\\maestro-v2.0.0\\\\2017\\\\MIDI-Unprocessed_053_PIANO053_MID--AUDIO-split_07-06-17_Piano-e_3-04_wav--1.midi', 'data\\\\maestro-v2.0.0\\\\2017\\\\MIDI-Unprocessed_053_PIANO053_MID--AUDIO-split_07-06-17_Piano-e_3-04_wav--2.midi', 'data\\\\maestro-v2.0.0\\\\2017\\\\MIDI-Unprocessed_053_PIANO053_MID--AUDIO-split_07-06-17_Piano-e_3-04_wav--3.midi', 'data\\\\maestro-v2.0.0\\\\2017\\\\MIDI-Unprocessed_053_PIANO053_MID--AUDIO-split_07-06-17_Piano-e_3-04_wav--4.midi', 'data\\\\maestro-v2.0.0\\\\2017\\\\MIDI-Unprocessed_054_PIANO054_MID--AUDIO-split_07-07-17_Piano-e_1-02_wav--1.midi', 'data\\\\maestro-v2.0.0\\\\2017\\\\MIDI-Unprocessed_054_PIANO054_MID--AUDIO-split_07-07-17_Piano-e_1-02_wav--2.midi', 'data\\\\maestro-v2.0.0\\\\2017\\\\MIDI-Unprocessed_054_PIANO054_MID--AUDIO-split_07-07-17_Piano-e_1-02_wav--3.midi', 'data\\\\maestro-v2.0.0\\\\2017\\\\MIDI-Unprocessed_054_PIANO054_MID--AUDIO-split_07-07-17_Piano-e_1-02_wav--4.midi', 'data\\\\maestro-v2.0.0\\\\2017\\\\MIDI-Unprocessed_055_PIANO055_MID--AUDIO-split_07-07-17_Piano-e_1-04_wav--1.midi', 'data\\\\maestro-v2.0.0\\\\2017\\\\MIDI-Unprocessed_055_PIANO055_MID--AUDIO-split_07-07-17_Piano-e_1-04_wav--2.midi', 'data\\\\maestro-v2.0.0\\\\2017\\\\MIDI-Unprocessed_055_PIANO055_MID--AUDIO-split_07-07-17_Piano-e_1-04_wav--3.midi', 'data\\\\maestro-v2.0.0\\\\2017\\\\MIDI-Unprocessed_056_PIANO056_MID--AUDIO-split_07-07-17_Piano-e_1-05_wav--1.midi', 'data\\\\maestro-v2.0.0\\\\2017\\\\MIDI-Unprocessed_056_PIANO056_MID--AUDIO-split_07-07-17_Piano-e_1-05_wav--2.midi', 'data\\\\maestro-v2.0.0\\\\2017\\\\MIDI-Unprocessed_056_PIANO056_MID--AUDIO-split_07-07-17_Piano-e_1-05_wav--3.midi', 'data\\\\maestro-v2.0.0\\\\2017\\\\MIDI-Unprocessed_056_PIANO056_MID--AUDIO-split_07-07-17_Piano-e_1-05_wav--4.midi', 'data\\\\maestro-v2.0.0\\\\2017\\\\MIDI-Unprocessed_057_PIANO057_MID--AUDIO-split_07-07-17_Piano-e_1-07_wav--1.midi', 'data\\\\maestro-v2.0.0\\\\2017\\\\MIDI-Unprocessed_057_PIANO057_MID--AUDIO-split_07-07-17_Piano-e_1-07_wav--2.midi', 'data\\\\maestro-v2.0.0\\\\2017\\\\MIDI-Unprocessed_057_PIANO057_MID--AUDIO-split_07-07-17_Piano-e_1-07_wav--3.midi', 'data\\\\maestro-v2.0.0\\\\2017\\\\MIDI-Unprocessed_057_PIANO057_MID--AUDIO-split_07-07-17_Piano-e_1-07_wav--4.midi', 'data\\\\maestro-v2.0.0\\\\2017\\\\MIDI-Unprocessed_057_PIANO057_MID--AUDIO-split_07-07-17_Piano-e_1-07_wav--5.midi', 'data\\\\maestro-v2.0.0\\\\2017\\\\MIDI-Unprocessed_058_PIANO058_MID--AUDIO-split_07-07-17_Piano-e_2-02_wav--1.midi', 'data\\\\maestro-v2.0.0\\\\2017\\\\MIDI-Unprocessed_058_PIANO058_MID--AUDIO-split_07-07-17_Piano-e_2-02_wav--2.midi', 'data\\\\maestro-v2.0.0\\\\2017\\\\MIDI-Unprocessed_058_PIANO058_MID--AUDIO-split_07-07-17_Piano-e_2-02_wav--3.midi', 'data\\\\maestro-v2.0.0\\\\2017\\\\MIDI-Unprocessed_058_PIANO058_MID--AUDIO-split_07-07-17_Piano-e_2-02_wav--4.midi', 'data\\\\maestro-v2.0.0\\\\2017\\\\MIDI-Unprocessed_058_PIANO058_MID--AUDIO-split_07-07-17_Piano-e_2-02_wav--5.midi', 'data\\\\maestro-v2.0.0\\\\2017\\\\MIDI-Unprocessed_059_PIANO059_MID--AUDIO-split_07-07-17_Piano-e_2-03_wav--1.midi', 'data\\\\maestro-v2.0.0\\\\2017\\\\MIDI-Unprocessed_059_PIANO059_MID--AUDIO-split_07-07-17_Piano-e_2-03_wav--2.midi', 'data\\\\maestro-v2.0.0\\\\2017\\\\MIDI-Unprocessed_059_PIANO059_MID--AUDIO-split_07-07-17_Piano-e_2-03_wav--3.midi', 'data\\\\maestro-v2.0.0\\\\2017\\\\MIDI-Unprocessed_059_PIANO059_MID--AUDIO-split_07-07-17_Piano-e_2-03_wav--4.midi', 'data\\\\maestro-v2.0.0\\\\2017\\\\MIDI-Unprocessed_060_PIANO060_MID--AUDIO-split_07-07-17_Piano-e_2-04_wav--1.midi', 'data\\\\maestro-v2.0.0\\\\2017\\\\MIDI-Unprocessed_060_PIANO060_MID--AUDIO-split_07-07-17_Piano-e_2-04_wav--2.midi', 'data\\\\maestro-v2.0.0\\\\2017\\\\MIDI-Unprocessed_060_PIANO060_MID--AUDIO-split_07-07-17_Piano-e_2-04_wav--3.midi', 'data\\\\maestro-v2.0.0\\\\2017\\\\MIDI-Unprocessed_060_PIANO060_MID--AUDIO-split_07-07-17_Piano-e_2-04_wav--4.midi', 'data\\\\maestro-v2.0.0\\\\2017\\\\MIDI-Unprocessed_060_PIANO060_MID--AUDIO-split_07-07-17_Piano-e_2-04_wav--5.midi', 'data\\\\maestro-v2.0.0\\\\2017\\\\MIDI-Unprocessed_061_PIANO061_MID--AUDIO-split_07-07-17_Piano-e_2-05_wav--1.midi', 'data\\\\maestro-v2.0.0\\\\2017\\\\MIDI-Unprocessed_061_PIANO061_MID--AUDIO-split_07-07-17_Piano-e_2-05_wav--2.midi', 'data\\\\maestro-v2.0.0\\\\2017\\\\MIDI-Unprocessed_061_PIANO061_MID--AUDIO-split_07-07-17_Piano-e_2-05_wav--3.midi', 'data\\\\maestro-v2.0.0\\\\2017\\\\MIDI-Unprocessed_062_PIANO062_MID--AUDIO-split_07-07-17_Piano-e_2-07_wav--1.midi', 'data\\\\maestro-v2.0.0\\\\2017\\\\MIDI-Unprocessed_062_PIANO062_MID--AUDIO-split_07-07-17_Piano-e_2-07_wav--2.midi', 'data\\\\maestro-v2.0.0\\\\2017\\\\MIDI-Unprocessed_062_PIANO062_MID--AUDIO-split_07-07-17_Piano-e_2-07_wav--3.midi', 'data\\\\maestro-v2.0.0\\\\2017\\\\MIDI-Unprocessed_062_PIANO062_MID--AUDIO-split_07-07-17_Piano-e_2-07_wav--4.midi', 'data\\\\maestro-v2.0.0\\\\2017\\\\MIDI-Unprocessed_065_PIANO065_MID--AUDIO-split_07-07-17_Piano-e_3-01_wav--1.midi', 'data\\\\maestro-v2.0.0\\\\2017\\\\MIDI-Unprocessed_065_PIANO065_MID--AUDIO-split_07-07-17_Piano-e_3-01_wav--2.midi', 'data\\\\maestro-v2.0.0\\\\2017\\\\MIDI-Unprocessed_065_PIANO065_MID--AUDIO-split_07-07-17_Piano-e_3-01_wav--3.midi', 'data\\\\maestro-v2.0.0\\\\2017\\\\MIDI-Unprocessed_066_PIANO066_MID--AUDIO-split_07-07-17_Piano-e_3-02_wav--1.midi', 'data\\\\maestro-v2.0.0\\\\2017\\\\MIDI-Unprocessed_066_PIANO066_MID--AUDIO-split_07-07-17_Piano-e_3-02_wav--2.midi', 'data\\\\maestro-v2.0.0\\\\2017\\\\MIDI-Unprocessed_066_PIANO066_MID--AUDIO-split_07-07-17_Piano-e_3-02_wav--3.midi', 'data\\\\maestro-v2.0.0\\\\2017\\\\MIDI-Unprocessed_066_PIANO066_MID--AUDIO-split_07-07-17_Piano-e_3-02_wav--4.midi', 'data\\\\maestro-v2.0.0\\\\2017\\\\MIDI-Unprocessed_067_PIANO067_MID--AUDIO-split_07-07-17_Piano-e_3-03_wav--1.midi', 'data\\\\maestro-v2.0.0\\\\2017\\\\MIDI-Unprocessed_067_PIANO067_MID--AUDIO-split_07-07-17_Piano-e_3-03_wav--2.midi', 'data\\\\maestro-v2.0.0\\\\2017\\\\MIDI-Unprocessed_067_PIANO067_MID--AUDIO-split_07-07-17_Piano-e_3-03_wav--3.midi', 'data\\\\maestro-v2.0.0\\\\2017\\\\MIDI-Unprocessed_067_PIANO067_MID--AUDIO-split_07-07-17_Piano-e_3-03_wav--4.midi', 'data\\\\maestro-v2.0.0\\\\2017\\\\MIDI-Unprocessed_070_PIANO070_MID--AUDIO-split_07-08-17_Piano-e_1-02_wav--1.midi', 'data\\\\maestro-v2.0.0\\\\2017\\\\MIDI-Unprocessed_070_PIANO070_MID--AUDIO-split_07-08-17_Piano-e_1-02_wav--2.midi', 'data\\\\maestro-v2.0.0\\\\2017\\\\MIDI-Unprocessed_070_PIANO070_MID--AUDIO-split_07-08-17_Piano-e_1-02_wav--3.midi', 'data\\\\maestro-v2.0.0\\\\2017\\\\MIDI-Unprocessed_071_PIANO071_MID--AUDIO-split_07-08-17_Piano-e_1-04_wav--1.midi', 'data\\\\maestro-v2.0.0\\\\2017\\\\MIDI-Unprocessed_071_PIANO071_MID--AUDIO-split_07-08-17_Piano-e_1-04_wav--2.midi', 'data\\\\maestro-v2.0.0\\\\2017\\\\MIDI-Unprocessed_071_PIANO071_MID--AUDIO-split_07-08-17_Piano-e_1-04_wav--3.midi', 'data\\\\maestro-v2.0.0\\\\2017\\\\MIDI-Unprocessed_071_PIANO071_MID--AUDIO-split_07-08-17_Piano-e_1-04_wav--4.midi', 'data\\\\maestro-v2.0.0\\\\2017\\\\MIDI-Unprocessed_072_PIANO072_MID--AUDIO-split_07-08-17_Piano-e_1-06_wav--1.midi', 'data\\\\maestro-v2.0.0\\\\2017\\\\MIDI-Unprocessed_072_PIANO072_MID--AUDIO-split_07-08-17_Piano-e_1-06_wav--2.midi', 'data\\\\maestro-v2.0.0\\\\2017\\\\MIDI-Unprocessed_072_PIANO072_MID--AUDIO-split_07-08-17_Piano-e_1-06_wav--3.midi', 'data\\\\maestro-v2.0.0\\\\2017\\\\MIDI-Unprocessed_072_PIANO072_MID--AUDIO-split_07-08-17_Piano-e_1-06_wav--4.midi', 'data\\\\maestro-v2.0.0\\\\2017\\\\MIDI-Unprocessed_073_PIANO073_MID--AUDIO-split_07-08-17_Piano-e_2-02_wav--1.midi', 'data\\\\maestro-v2.0.0\\\\2017\\\\MIDI-Unprocessed_073_PIANO073_MID--AUDIO-split_07-08-17_Piano-e_2-02_wav--2.midi', 'data\\\\maestro-v2.0.0\\\\2017\\\\MIDI-Unprocessed_073_PIANO073_MID--AUDIO-split_07-08-17_Piano-e_2-02_wav--4.midi', 'data\\\\maestro-v2.0.0\\\\2017\\\\MIDI-Unprocessed_074_PIANO074_MID--AUDIO-split_07-08-17_Piano-e_2-04_wav--1.midi', 'data\\\\maestro-v2.0.0\\\\2017\\\\MIDI-Unprocessed_074_PIANO074_MID--AUDIO-split_07-08-17_Piano-e_2-04_wav--2.midi', 'data\\\\maestro-v2.0.0\\\\2017\\\\MIDI-Unprocessed_074_PIANO074_MID--AUDIO-split_07-08-17_Piano-e_2-04_wav--3.midi', 'data\\\\maestro-v2.0.0\\\\2017\\\\MIDI-Unprocessed_075_PIANO075_MID--AUDIO-split_07-08-17_Piano-e_2-06_wav--1.midi', 'data\\\\maestro-v2.0.0\\\\2017\\\\MIDI-Unprocessed_075_PIANO075_MID--AUDIO-split_07-08-17_Piano-e_2-06_wav--2.midi', 'data\\\\maestro-v2.0.0\\\\2017\\\\MIDI-Unprocessed_075_PIANO075_MID--AUDIO-split_07-08-17_Piano-e_2-06_wav--3.midi', 'data\\\\maestro-v2.0.0\\\\2017\\\\MIDI-Unprocessed_078_PIANO078_MID--AUDIO-split_07-09-17_Piano-e_1-02_wav--1.midi', 'data\\\\maestro-v2.0.0\\\\2017\\\\MIDI-Unprocessed_078_PIANO078_MID--AUDIO-split_07-09-17_Piano-e_1-02_wav--2.midi', 'data\\\\maestro-v2.0.0\\\\2017\\\\MIDI-Unprocessed_078_PIANO078_MID--AUDIO-split_07-09-17_Piano-e_1-02_wav--3.midi', 'data\\\\maestro-v2.0.0\\\\2017\\\\MIDI-Unprocessed_079_PIANO079_MID--AUDIO-split_07-09-17_Piano-e_1-04_wav--1.midi', 'data\\\\maestro-v2.0.0\\\\2017\\\\MIDI-Unprocessed_079_PIANO079_MID--AUDIO-split_07-09-17_Piano-e_1-04_wav--2.midi', 'data\\\\maestro-v2.0.0\\\\2017\\\\MIDI-Unprocessed_079_PIANO079_MID--AUDIO-split_07-09-17_Piano-e_1-04_wav--3.midi', 'data\\\\maestro-v2.0.0\\\\2017\\\\MIDI-Unprocessed_079_PIANO079_MID--AUDIO-split_07-09-17_Piano-e_1-04_wav--4.midi', 'data\\\\maestro-v2.0.0\\\\2017\\\\MIDI-Unprocessed_080_PIANO080_MID--AUDIO-split_07-09-17_Piano-e_1-06_wav--1.midi', 'data\\\\maestro-v2.0.0\\\\2017\\\\MIDI-Unprocessed_080_PIANO080_MID--AUDIO-split_07-09-17_Piano-e_1-06_wav--2.midi', 'data\\\\maestro-v2.0.0\\\\2017\\\\MIDI-Unprocessed_080_PIANO080_MID--AUDIO-split_07-09-17_Piano-e_1-06_wav--3.midi', 'data\\\\maestro-v2.0.0\\\\2017\\\\MIDI-Unprocessed_081_PIANO081_MID--AUDIO-split_07-09-17_Piano-e_2_-02_wav--1.midi', 'data\\\\maestro-v2.0.0\\\\2017\\\\MIDI-Unprocessed_081_PIANO081_MID--AUDIO-split_07-09-17_Piano-e_2_-02_wav--3.midi', 'data\\\\maestro-v2.0.0\\\\2017\\\\MIDI-Unprocessed_081_PIANO081_MID--AUDIO-split_07-09-17_Piano-e_2_-02_wav--4.midi', 'data\\\\maestro-v2.0.0\\\\2017\\\\MIDI-Unprocessed_082_PIANO082_MID--AUDIO-split_07-09-17_Piano-e_2_-04_wav--1.midi', 'data\\\\maestro-v2.0.0\\\\2017\\\\MIDI-Unprocessed_082_PIANO082_MID--AUDIO-split_07-09-17_Piano-e_2_-04_wav--2.midi', 'data\\\\maestro-v2.0.0\\\\2017\\\\MIDI-Unprocessed_082_PIANO082_MID--AUDIO-split_07-09-17_Piano-e_2_-04_wav--3.midi', 'data\\\\maestro-v2.0.0\\\\2017\\\\MIDI-Unprocessed_083_PIANO083_MID--AUDIO-split_07-09-17_Piano-e_2_-06_wav--1.midi', 'data\\\\maestro-v2.0.0\\\\2017\\\\MIDI-Unprocessed_083_PIANO083_MID--AUDIO-split_07-09-17_Piano-e_2_-06_wav--2.midi', 'data\\\\maestro-v2.0.0\\\\2017\\\\MIDI-Unprocessed_083_PIANO083_MID--AUDIO-split_07-09-17_Piano-e_2_-06_wav--3.midi', 'data\\\\maestro-v2.0.0\\\\2017\\\\MIDI-Unprocessed_083_PIANO083_MID--AUDIO-split_07-09-17_Piano-e_2_-06_wav--4.midi', 'data\\\\maestro-v2.0.0\\\\2017\\\\MIDI-Unprocessed_083_PIANO083_MID--AUDIO-split_07-09-17_Piano-e_2_-06_wav--5.midi', 'data\\\\maestro-v2.0.0\\\\2018\\\\MIDI-Unprocessed_Chamber1_MID--AUDIO_07_R3_2018_wav--2.midi', 'data\\\\maestro-v2.0.0\\\\2018\\\\MIDI-Unprocessed_Chamber2_MID--AUDIO_09_R3_2018_wav--1.midi', 'data\\\\maestro-v2.0.0\\\\2018\\\\MIDI-Unprocessed_Chamber2_MID--AUDIO_09_R3_2018_wav--3.midi', 'data\\\\maestro-v2.0.0\\\\2018\\\\MIDI-Unprocessed_Chamber3_MID--AUDIO_10_R3_2018_wav--1.midi', 'data\\\\maestro-v2.0.0\\\\2018\\\\MIDI-Unprocessed_Chamber3_MID--AUDIO_10_R3_2018_wav--2.midi', 'data\\\\maestro-v2.0.0\\\\2018\\\\MIDI-Unprocessed_Chamber3_MID--AUDIO_10_R3_2018_wav--3.midi', 'data\\\\maestro-v2.0.0\\\\2018\\\\MIDI-Unprocessed_Chamber4_MID--AUDIO_11_R3_2018_wav--1.midi', 'data\\\\maestro-v2.0.0\\\\2018\\\\MIDI-Unprocessed_Chamber4_MID--AUDIO_11_R3_2018_wav--3.midi', 'data\\\\maestro-v2.0.0\\\\2018\\\\MIDI-Unprocessed_Chamber5_MID--AUDIO_18_R3_2018_wav--1.midi', 'data\\\\maestro-v2.0.0\\\\2018\\\\MIDI-Unprocessed_Chamber5_MID--AUDIO_18_R3_2018_wav--2.midi', 'data\\\\maestro-v2.0.0\\\\2018\\\\MIDI-Unprocessed_Chamber6_MID--AUDIO_20_R3_2018_wav--1.midi', 'data\\\\maestro-v2.0.0\\\\2018\\\\MIDI-Unprocessed_Chamber6_MID--AUDIO_20_R3_2018_wav--2.midi', 'data\\\\maestro-v2.0.0\\\\2018\\\\MIDI-Unprocessed_Chamber6_MID--AUDIO_20_R3_2018_wav--3.midi', 'data\\\\maestro-v2.0.0\\\\2018\\\\MIDI-Unprocessed_Recital1-3_MID--AUDIO_01_R1_2018_wav--1.midi', 'data\\\\maestro-v2.0.0\\\\2018\\\\MIDI-Unprocessed_Recital1-3_MID--AUDIO_01_R1_2018_wav--2.midi', 'data\\\\maestro-v2.0.0\\\\2018\\\\MIDI-Unprocessed_Recital1-3_MID--AUDIO_01_R1_2018_wav--3.midi', 'data\\\\maestro-v2.0.0\\\\2018\\\\MIDI-Unprocessed_Recital1-3_MID--AUDIO_01_R1_2018_wav--4.midi', 'data\\\\maestro-v2.0.0\\\\2018\\\\MIDI-Unprocessed_Recital1-3_MID--AUDIO_02_R1_2018_wav--1.midi', 'data\\\\maestro-v2.0.0\\\\2018\\\\MIDI-Unprocessed_Recital1-3_MID--AUDIO_02_R1_2018_wav--2.midi', 'data\\\\maestro-v2.0.0\\\\2018\\\\MIDI-Unprocessed_Recital1-3_MID--AUDIO_02_R1_2018_wav--3.midi', 'data\\\\maestro-v2.0.0\\\\2018\\\\MIDI-Unprocessed_Recital1-3_MID--AUDIO_02_R1_2018_wav--4.midi', 'data\\\\maestro-v2.0.0\\\\2018\\\\MIDI-Unprocessed_Recital1-3_MID--AUDIO_03_R1_2018_wav--1.midi', 'data\\\\maestro-v2.0.0\\\\2018\\\\MIDI-Unprocessed_Recital1-3_MID--AUDIO_03_R1_2018_wav--2.midi', 'data\\\\maestro-v2.0.0\\\\2018\\\\MIDI-Unprocessed_Recital1-3_MID--AUDIO_03_R1_2018_wav--4.midi', 'data\\\\maestro-v2.0.0\\\\2018\\\\MIDI-Unprocessed_Recital1-3_MID--AUDIO_03_R1_2018_wav--5.midi', 'data\\\\maestro-v2.0.0\\\\2018\\\\MIDI-Unprocessed_Recital12_MID--AUDIO_12_R1_2018_wav--1.midi', 'data\\\\maestro-v2.0.0\\\\2018\\\\MIDI-Unprocessed_Recital12_MID--AUDIO_12_R1_2018_wav--2.midi', 'data\\\\maestro-v2.0.0\\\\2018\\\\MIDI-Unprocessed_Recital12_MID--AUDIO_12_R1_2018_wav--3.midi', 'data\\\\maestro-v2.0.0\\\\2018\\\\MIDI-Unprocessed_Recital13-15_MID--AUDIO_13_R1_2018_wav--1.midi', 'data\\\\maestro-v2.0.0\\\\2018\\\\MIDI-Unprocessed_Recital13-15_MID--AUDIO_13_R1_2018_wav--2.midi', 'data\\\\maestro-v2.0.0\\\\2018\\\\MIDI-Unprocessed_Recital13-15_MID--AUDIO_13_R1_2018_wav--3.midi', 'data\\\\maestro-v2.0.0\\\\2018\\\\MIDI-Unprocessed_Recital13-15_MID--AUDIO_14_R1_2018_wav--1.midi', 'data\\\\maestro-v2.0.0\\\\2018\\\\MIDI-Unprocessed_Recital13-15_MID--AUDIO_14_R1_2018_wav--2.midi', 'data\\\\maestro-v2.0.0\\\\2018\\\\MIDI-Unprocessed_Recital13-15_MID--AUDIO_14_R1_2018_wav--3.midi', 'data\\\\maestro-v2.0.0\\\\2018\\\\MIDI-Unprocessed_Recital13-15_MID--AUDIO_14_R1_2018_wav--4.midi', 'data\\\\maestro-v2.0.0\\\\2018\\\\MIDI-Unprocessed_Recital13-15_MID--AUDIO_15_R1_2018_wav--1.midi', 'data\\\\maestro-v2.0.0\\\\2018\\\\MIDI-Unprocessed_Recital13-15_MID--AUDIO_15_R1_2018_wav--2.midi', 'data\\\\maestro-v2.0.0\\\\2018\\\\MIDI-Unprocessed_Recital13-15_MID--AUDIO_15_R1_2018_wav--3.midi', 'data\\\\maestro-v2.0.0\\\\2018\\\\MIDI-Unprocessed_Recital13-15_MID--AUDIO_15_R1_2018_wav--4.midi', 'data\\\\maestro-v2.0.0\\\\2018\\\\MIDI-Unprocessed_Recital16_MID--AUDIO_16_R1_2018_wav--2.midi', 'data\\\\maestro-v2.0.0\\\\2018\\\\MIDI-Unprocessed_Recital16_MID--AUDIO_16_R1_2018_wav--3.midi', 'data\\\\maestro-v2.0.0\\\\2018\\\\MIDI-Unprocessed_Recital17-19_MID--AUDIO_17_R1_2018_wav--1.midi', 'data\\\\maestro-v2.0.0\\\\2018\\\\MIDI-Unprocessed_Recital17-19_MID--AUDIO_17_R1_2018_wav--2.midi', 'data\\\\maestro-v2.0.0\\\\2018\\\\MIDI-Unprocessed_Recital17-19_MID--AUDIO_17_R1_2018_wav--3.midi', 'data\\\\maestro-v2.0.0\\\\2018\\\\MIDI-Unprocessed_Recital17-19_MID--AUDIO_17_R1_2018_wav--4.midi', 'data\\\\maestro-v2.0.0\\\\2018\\\\MIDI-Unprocessed_Recital17-19_MID--AUDIO_18_R1_2018_wav--1.midi', 'data\\\\maestro-v2.0.0\\\\2018\\\\MIDI-Unprocessed_Recital17-19_MID--AUDIO_18_R1_2018_wav--2.midi', 'data\\\\maestro-v2.0.0\\\\2018\\\\MIDI-Unprocessed_Recital17-19_MID--AUDIO_18_R1_2018_wav--3.midi', 'data\\\\maestro-v2.0.0\\\\2018\\\\MIDI-Unprocessed_Recital17-19_MID--AUDIO_19_R1_2018_wav--1.midi', 'data\\\\maestro-v2.0.0\\\\2018\\\\MIDI-Unprocessed_Recital17-19_MID--AUDIO_19_R1_2018_wav--2.midi', 'data\\\\maestro-v2.0.0\\\\2018\\\\MIDI-Unprocessed_Recital17-19_MID--AUDIO_19_R1_2018_wav--3.midi', 'data\\\\maestro-v2.0.0\\\\2018\\\\MIDI-Unprocessed_Recital17-19_MID--AUDIO_19_R1_2018_wav--4.midi', 'data\\\\maestro-v2.0.0\\\\2018\\\\MIDI-Unprocessed_Recital17-19_MID--AUDIO_19_R1_2018_wav--5.midi', 'data\\\\maestro-v2.0.0\\\\2018\\\\MIDI-Unprocessed_Recital17-19_MID--AUDIO_19_R1_2018_wav--6.midi', 'data\\\\maestro-v2.0.0\\\\2018\\\\MIDI-Unprocessed_Recital20_MID--AUDIO_20_R1_2018_wav--3.midi', 'data\\\\maestro-v2.0.0\\\\2018\\\\MIDI-Unprocessed_Recital20_MID--AUDIO_20_R1_2018_wav--4.midi', 'data\\\\maestro-v2.0.0\\\\2018\\\\MIDI-Unprocessed_Recital4_MID--AUDIO_04_R1_2018_wav--1.midi', 'data\\\\maestro-v2.0.0\\\\2018\\\\MIDI-Unprocessed_Recital4_MID--AUDIO_04_R1_2018_wav--3.midi', 'data\\\\maestro-v2.0.0\\\\2018\\\\MIDI-Unprocessed_Recital4_MID--AUDIO_04_R1_2018_wav--4.midi', 'data\\\\maestro-v2.0.0\\\\2018\\\\MIDI-Unprocessed_Recital4_MID--AUDIO_04_R1_2018_wav--5.midi', 'data\\\\maestro-v2.0.0\\\\2018\\\\MIDI-Unprocessed_Recital5-7_MID--AUDIO_05_R1_2018_wav--1.midi', 'data\\\\maestro-v2.0.0\\\\2018\\\\MIDI-Unprocessed_Recital5-7_MID--AUDIO_05_R1_2018_wav--2.midi', 'data\\\\maestro-v2.0.0\\\\2018\\\\MIDI-Unprocessed_Recital5-7_MID--AUDIO_05_R1_2018_wav--3.midi', 'data\\\\maestro-v2.0.0\\\\2018\\\\MIDI-Unprocessed_Recital5-7_MID--AUDIO_06_R1_2018_wav--1.midi', 'data\\\\maestro-v2.0.0\\\\2018\\\\MIDI-Unprocessed_Recital5-7_MID--AUDIO_06_R1_2018_wav--2.midi', 'data\\\\maestro-v2.0.0\\\\2018\\\\MIDI-Unprocessed_Recital5-7_MID--AUDIO_06_R1_2018_wav--3.midi', 'data\\\\maestro-v2.0.0\\\\2018\\\\MIDI-Unprocessed_Recital5-7_MID--AUDIO_07_R1_2018_wav--1.midi', 'data\\\\maestro-v2.0.0\\\\2018\\\\MIDI-Unprocessed_Recital5-7_MID--AUDIO_07_R1_2018_wav--2.midi', 'data\\\\maestro-v2.0.0\\\\2018\\\\MIDI-Unprocessed_Recital5-7_MID--AUDIO_07_R1_2018_wav--3.midi', 'data\\\\maestro-v2.0.0\\\\2018\\\\MIDI-Unprocessed_Recital5-7_MID--AUDIO_07_R1_2018_wav--4.midi', 'data\\\\maestro-v2.0.0\\\\2018\\\\MIDI-Unprocessed_Recital8_MID--AUDIO_08_R1_2018_wav--1.midi', 'data\\\\maestro-v2.0.0\\\\2018\\\\MIDI-Unprocessed_Recital8_MID--AUDIO_08_R1_2018_wav--2.midi', 'data\\\\maestro-v2.0.0\\\\2018\\\\MIDI-Unprocessed_Recital8_MID--AUDIO_08_R1_2018_wav--3.midi', 'data\\\\maestro-v2.0.0\\\\2018\\\\MIDI-Unprocessed_Recital8_MID--AUDIO_08_R1_2018_wav--4.midi', 'data\\\\maestro-v2.0.0\\\\2018\\\\MIDI-Unprocessed_Recital9-11_MID--AUDIO_09_R1_2018_wav--1.midi', 'data\\\\maestro-v2.0.0\\\\2018\\\\MIDI-Unprocessed_Recital9-11_MID--AUDIO_09_R1_2018_wav--2.midi', 'data\\\\maestro-v2.0.0\\\\2018\\\\MIDI-Unprocessed_Recital9-11_MID--AUDIO_09_R1_2018_wav--3.midi', 'data\\\\maestro-v2.0.0\\\\2018\\\\MIDI-Unprocessed_Recital9-11_MID--AUDIO_09_R1_2018_wav--4.midi', 'data\\\\maestro-v2.0.0\\\\2018\\\\MIDI-Unprocessed_Recital9-11_MID--AUDIO_09_R1_2018_wav--5.midi', 'data\\\\maestro-v2.0.0\\\\2018\\\\MIDI-Unprocessed_Recital9-11_MID--AUDIO_09_R1_2018_wav--6.midi', 'data\\\\maestro-v2.0.0\\\\2018\\\\MIDI-Unprocessed_Recital9-11_MID--AUDIO_10_R1_2018_wav--1.midi', 'data\\\\maestro-v2.0.0\\\\2018\\\\MIDI-Unprocessed_Recital9-11_MID--AUDIO_10_R1_2018_wav--2.midi', 'data\\\\maestro-v2.0.0\\\\2018\\\\MIDI-Unprocessed_Recital9-11_MID--AUDIO_10_R1_2018_wav--3.midi', 'data\\\\maestro-v2.0.0\\\\2018\\\\MIDI-Unprocessed_Recital9-11_MID--AUDIO_10_R1_2018_wav--5.midi', 'data\\\\maestro-v2.0.0\\\\2018\\\\MIDI-Unprocessed_Recital9-11_MID--AUDIO_11_R1_2018_wav--1.midi', 'data\\\\maestro-v2.0.0\\\\2018\\\\MIDI-Unprocessed_Recital9-11_MID--AUDIO_11_R1_2018_wav--2.midi', 'data\\\\maestro-v2.0.0\\\\2018\\\\MIDI-Unprocessed_Recital9-11_MID--AUDIO_11_R1_2018_wav--5.midi', 'data\\\\maestro-v2.0.0\\\\2018\\\\MIDI-Unprocessed_Schubert1-3_MID--AUDIO_02_R2_2018_wav.midi', 'data\\\\maestro-v2.0.0\\\\2018\\\\MIDI-Unprocessed_Schubert1-3_MID--AUDIO_05_R2_2018_wav.midi', 'data\\\\maestro-v2.0.0\\\\2018\\\\MIDI-Unprocessed_Schubert1-3_MID--AUDIO_07_R2_2018_wav.midi', 'data\\\\maestro-v2.0.0\\\\2018\\\\MIDI-Unprocessed_Schubert10-12_MID--AUDIO_17_R2_2018_wav.midi', 'data\\\\maestro-v2.0.0\\\\2018\\\\MIDI-Unprocessed_Schubert10-12_MID--AUDIO_18_R2_2018_wav.midi', 'data\\\\maestro-v2.0.0\\\\2018\\\\MIDI-Unprocessed_Schubert10-12_MID--AUDIO_20_R2_2018_wav.midi', 'data\\\\maestro-v2.0.0\\\\2018\\\\MIDI-Unprocessed_Schubert4-6_MID--AUDIO_08_R2_2018_wav.midi', 'data\\\\maestro-v2.0.0\\\\2018\\\\MIDI-Unprocessed_Schubert4-6_MID--AUDIO_09_R2_2018_wav.midi', 'data\\\\maestro-v2.0.0\\\\2018\\\\MIDI-Unprocessed_Schubert4-6_MID--AUDIO_10_R2_2018_wav.midi', 'data\\\\maestro-v2.0.0\\\\2018\\\\MIDI-Unprocessed_Schubert7-9_MID--AUDIO_11_R2_2018_wav.midi', 'data\\\\maestro-v2.0.0\\\\2018\\\\MIDI-Unprocessed_Schubert7-9_MID--AUDIO_15_R2_2018_wav.midi', 'data\\\\maestro-v2.0.0\\\\2018\\\\MIDI-Unprocessed_Schubert7-9_MID--AUDIO_16_R2_2018_wav.midi']\n",
      "Number of files: 1282\n"
     ]
    }
   ],
   "source": [
    "\n",
    "filenames = glob.glob(str(data_dir/'**/*.mid*'))\n",
    "#filenames = glob.glob(str(data_dir/'*.mid'))\n",
    "print(filenames)\n",
    "print('Number of files:', len(filenames))\n",
    "#pm = pretty_midi.PrettyMIDI(sample_file)"
   ]
  },
  {
   "cell_type": "code",
   "execution_count": 8,
   "metadata": {
    "id": "J8KUHoJ6DLMn"
   },
   "outputs": [],
   "source": [
    "def display_audio(pm: pretty_midi.PrettyMIDI, seconds=30):\n",
    "  waveform = pm.fluidsynth(fs=_SAMPLING_RATE)\n",
    "  # Take a sample of the generated waveform to mitigate kernel resets\n",
    "  waveform_short = waveform[:seconds*_SAMPLING_RATE]\n",
    "  return display.Audio(waveform_short, rate=_SAMPLING_RATE)"
   ]
  },
  {
   "cell_type": "code",
   "execution_count": 9,
   "metadata": {
    "id": "Osqmnn5NFDE2"
   },
   "outputs": [],
   "source": [
    "def midi_to_notes(midi_file: str) -> pd.DataFrame:\n",
    "  pm = pretty_midi.PrettyMIDI(midi_file)\n",
    "  instrument = pm.instruments[0]\n",
    "  notes = collections.defaultdict(list)\n",
    "\n",
    "  # Sort the notes by start time\n",
    "  sorted_notes = sorted(instrument.notes, key=lambda note: note.start)\n",
    "  prev_start = sorted_notes[0].start\n",
    "\n",
    "  for note in sorted_notes:\n",
    "    start = note.start\n",
    "    end = note.end\n",
    "    notes['pitch'].append(note.pitch)\n",
    "    notes['start'].append(start)\n",
    "    notes['end'].append(end)\n",
    "    notes['step'].append(start - prev_start)\n",
    "    notes['duration'].append(end - start)\n",
    "    prev_start = start\n",
    "\n",
    "  return pd.DataFrame({name: np.array(value) for name, value in notes.items()})"
   ]
  },
  {
   "cell_type": "code",
   "execution_count": 10,
   "metadata": {
    "id": "TrX9jBLMFUBh"
   },
   "outputs": [],
   "source": [
    "def plot_piano_roll(notes: pd.DataFrame, count: Optional[int] = None):\n",
    "  if count:\n",
    "    title = f'First {count} notes'\n",
    "  else:\n",
    "    title = f'Whole track'\n",
    "    count = len(notes['pitch'])\n",
    "  plt.figure(figsize=(20, 4))\n",
    "  plot_pitch = np.stack([notes['pitch'], notes['pitch']], axis=0)\n",
    "  plot_start_stop = np.stack([notes['start'], notes['end']], axis=0)\n",
    "  plt.plot(\n",
    "      plot_start_stop[:, :count], plot_pitch[:, :count], color=\"b\", marker=\".\")\n",
    "  plt.xlabel('Time [s]')\n",
    "  plt.ylabel('Pitch')\n",
    "  _ = plt.title(title)"
   ]
  },
  {
   "cell_type": "code",
   "execution_count": 11,
   "metadata": {
    "id": "CibZoO0rQLNl"
   },
   "outputs": [],
   "source": [
    "def plot_distributions(notes: pd.DataFrame, drop_percentile=2.5):\n",
    "  plt.figure(figsize=[15, 5])\n",
    "  plt.subplot(1, 3, 1)\n",
    "  sns.histplot(notes, x=\"pitch\", bins=20)\n",
    "\n",
    "  plt.subplot(1, 3, 2)\n",
    "  max_step = np.percentile(notes['step'], 100 - drop_percentile)\n",
    "  sns.histplot(notes, x=\"step\", bins=np.linspace(0, max_step, 21))\n",
    "\n",
    "  plt.subplot(1, 3, 3)\n",
    "  max_duration = np.percentile(notes['duration'], 100 - drop_percentile)\n",
    "  sns.histplot(notes, x=\"duration\", bins=np.linspace(0, max_duration, 21))"
   ]
  },
  {
   "cell_type": "code",
   "execution_count": 12,
   "metadata": {
    "colab": {
     "base_uri": "https://localhost:8080/",
     "height": 224
    },
    "id": "blmB3wSVFK4F",
    "outputId": "2cd283bd-2974-476e-ed68-791aa5652d5b"
   },
   "outputs": [
    {
     "name": "stdout",
     "output_type": "stream",
     "text": [
      "data\\maestro-v2.0.0\\2004\\MIDI-Unprocessed_XP_14_R1_2004_04_ORIG_MID--AUDIO_14_R1_2004_04_Track04_wav.midi\n"
     ]
    },
    {
     "data": {
      "text/html": [
       "<div>\n",
       "<style scoped>\n",
       "    .dataframe tbody tr th:only-of-type {\n",
       "        vertical-align: middle;\n",
       "    }\n",
       "\n",
       "    .dataframe tbody tr th {\n",
       "        vertical-align: top;\n",
       "    }\n",
       "\n",
       "    .dataframe thead th {\n",
       "        text-align: right;\n",
       "    }\n",
       "</style>\n",
       "<table border=\"1\" class=\"dataframe\">\n",
       "  <thead>\n",
       "    <tr style=\"text-align: right;\">\n",
       "      <th></th>\n",
       "      <th>pitch</th>\n",
       "      <th>start</th>\n",
       "      <th>end</th>\n",
       "      <th>step</th>\n",
       "      <th>duration</th>\n",
       "    </tr>\n",
       "  </thead>\n",
       "  <tbody>\n",
       "    <tr>\n",
       "      <th>0</th>\n",
       "      <td>60</td>\n",
       "      <td>1.022917</td>\n",
       "      <td>1.100000</td>\n",
       "      <td>0.000000</td>\n",
       "      <td>0.077083</td>\n",
       "    </tr>\n",
       "    <tr>\n",
       "      <th>1</th>\n",
       "      <td>65</td>\n",
       "      <td>1.091667</td>\n",
       "      <td>1.203125</td>\n",
       "      <td>0.068750</td>\n",
       "      <td>0.111458</td>\n",
       "    </tr>\n",
       "    <tr>\n",
       "      <th>2</th>\n",
       "      <td>69</td>\n",
       "      <td>1.121875</td>\n",
       "      <td>1.219792</td>\n",
       "      <td>0.030208</td>\n",
       "      <td>0.097917</td>\n",
       "    </tr>\n",
       "    <tr>\n",
       "      <th>3</th>\n",
       "      <td>53</td>\n",
       "      <td>1.162500</td>\n",
       "      <td>1.226042</td>\n",
       "      <td>0.040625</td>\n",
       "      <td>0.063542</td>\n",
       "    </tr>\n",
       "    <tr>\n",
       "      <th>4</th>\n",
       "      <td>72</td>\n",
       "      <td>1.163542</td>\n",
       "      <td>1.229167</td>\n",
       "      <td>0.001042</td>\n",
       "      <td>0.065625</td>\n",
       "    </tr>\n",
       "  </tbody>\n",
       "</table>\n",
       "</div>"
      ],
      "text/plain": [
       "   pitch     start       end      step  duration\n",
       "0     60  1.022917  1.100000  0.000000  0.077083\n",
       "1     65  1.091667  1.203125  0.068750  0.111458\n",
       "2     69  1.121875  1.219792  0.030208  0.097917\n",
       "3     53  1.162500  1.226042  0.040625  0.063542\n",
       "4     72  1.163542  1.229167  0.001042  0.065625"
      ]
     },
     "execution_count": 12,
     "metadata": {},
     "output_type": "execute_result"
    }
   ],
   "source": [
    "sample_file = filenames[87]\n",
    "print(sample_file)\n",
    "raw_notes = midi_to_notes(sample_file)\n",
    "raw_notes.head()\n",
    "\n"
   ]
  },
  {
   "cell_type": "code",
   "execution_count": 13,
   "metadata": {
    "colab": {
     "base_uri": "https://localhost:8080/",
     "height": 410
    },
    "id": "EQC9c0n-FaUI",
    "outputId": "10a01057-8872-4890-eb6b-472cb4eca49b"
   },
   "outputs": [
    {
     "data": {
      "image/png": "[encoded data removed]",
      "text/plain": [
       "<Figure size 2000x400 with 1 Axes>"
      ]
     },
     "metadata": {},
     "output_type": "display_data"
    }
   ],
   "source": [
    "plot_piano_roll(raw_notes, count=100)"
   ]
  },
  {
   "cell_type": "code",
   "execution_count": 14,
   "metadata": {
    "id": "dYBU9HSVGJpv"
   },
   "outputs": [],
   "source": [
    "#num_files = 100\n",
    "#all_notes = []\n",
    "#for f in filenames[:num_files]:\n",
    "#  notes = midi_to_notes(f)\n",
    "#  all_notes.append(notes)\n",
    "\n",
    "#all_notes = pd.concat(all_notes)\n",
    "\n",
    "num_files = 5\n",
    "all_notes = []\n",
    "for f in filenames[:num_files]:\n",
    "  notes = midi_to_notes(f)\n",
    "  all_notes.append(notes)\n",
    "\n",
    "all_notes = pd.concat(all_notes)"
   ]
  },
  {
   "cell_type": "code",
   "execution_count": 15,
   "metadata": {
    "colab": {
     "base_uri": "https://localhost:8080/"
    },
    "id": "hnfO7qDpGMU0",
    "outputId": "c790870f-2a8b-49ca-94a1-9e8fb4bea023"
   },
   "outputs": [
    {
     "name": "stdout",
     "output_type": "stream",
     "text": [
      "Number of notes parsed: 37241\n"
     ]
    }
   ],
   "source": [
    "n_notes = len(all_notes)\n",
    "print('Number of notes parsed:', n_notes)"
   ]
  },
  {
   "cell_type": "code",
   "execution_count": 16,
   "metadata": {
    "colab": {
     "base_uri": "https://localhost:8080/"
    },
    "id": "oBdR72MdGP-f",
    "outputId": "ef95273e-d6d0-406d-e596-29922534ce81"
   },
   "outputs": [
    {
     "data": {
      "text/plain": [
       "TensorSpec(shape=(3,), dtype=tf.float64, name=None)"
      ]
     },
     "execution_count": 16,
     "metadata": {},
     "output_type": "execute_result"
    }
   ],
   "source": [
    "key_order = ['pitch', 'step', 'duration']\n",
    "train_notes = np.stack([all_notes[key] for key in key_order], axis=1)\n",
    "notes_ds = tf.data.Dataset.from_tensor_slices(train_notes)\n",
    "notes_ds.element_spec"
   ]
  },
  {
   "cell_type": "code",
   "execution_count": 17,
   "metadata": {
    "id": "-dNorMxmGSzJ"
   },
   "outputs": [],
   "source": [
    "def create_sequences(\n",
    "    dataset: tf.data.Dataset, \n",
    "    seq_length: int,\n",
    "    vocab_size = 128,#,\n",
    ") -> tf.data.Dataset:\n",
    "  \"\"\"Returns TF Dataset of sequence and label examples.\"\"\"\n",
    "  seq_length = seq_length+1\n",
    "\n",
    "  # Take 1 extra for the labels\n",
    "  windows = dataset.window(seq_length, shift=1, stride=1,\n",
    "                              drop_remainder=True)\n",
    "\n",
    "  # `flat_map` flattens the\" dataset of datasets\" into a dataset of tensors\n",
    "  flatten = lambda x: x.batch(seq_length, drop_remainder=True)\n",
    "  sequences = windows.flat_map(flatten)\n",
    "\n",
    "  # Normalize note pitch\n",
    "  def scale_pitch(x):\n",
    "    x = x/[vocab_size,1.0,1.0]\n",
    "    return x\n",
    "\n",
    "  # Split the labels\n",
    "  def split_labels(sequences):\n",
    "    inputs = sequences[:-1]\n",
    "    labels_dense = sequences[-1]\n",
    "    labels = {key:labels_dense[i] for i,key in enumerate(key_order)}\n",
    "\n",
    "    return scale_pitch(inputs), labels\n",
    "\n",
    "  return sequences.map(split_labels, num_parallel_calls=tf.data.AUTOTUNE)"
   ]
  },
  {
   "cell_type": "code",
   "execution_count": 18,
   "metadata": {
    "colab": {
     "base_uri": "https://localhost:8080/"
    },
    "id": "owSLtVoSGp04",
    "outputId": "521eec1f-830c-46b7-a710-af59415cbaa7"
   },
   "outputs": [
    {
     "data": {
      "text/plain": [
       "(TensorSpec(shape=(25, 3), dtype=tf.float64, name=None),\n",
       " {'pitch': TensorSpec(shape=(), dtype=tf.float64, name=None),\n",
       "  'step': TensorSpec(shape=(), dtype=tf.float64, name=None),\n",
       "  'duration': TensorSpec(shape=(), dtype=tf.float64, name=None)})"
      ]
     },
     "execution_count": 18,
     "metadata": {},
     "output_type": "execute_result"
    }
   ],
   "source": [
    "seq_length = 25 #10 PC #TODO! Make variable!\n",
    "vocab_size = 128 #PC\n",
    "seq_ds = create_sequences(notes_ds, seq_length, vocab_size)\n",
    "seq_ds.element_spec"
   ]
  },
  {
   "cell_type": "code",
   "execution_count": 19,
   "metadata": {
    "colab": {
     "base_uri": "https://localhost:8080/"
    },
    "id": "hhGooqSeGtzI",
    "outputId": "23a531e4-75bf-4a79-da86-13f8eed01897"
   },
   "outputs": [
    {
     "name": "stdout",
     "output_type": "stream",
     "text": [
      "sequence shape: (25, 3)\n",
      "sequence elements (first 10): tf.Tensor(\n",
      "[[0.5546875  0.         0.096875  ]\n",
      " [0.4296875  0.18645833 0.21770833]\n",
      " [0.5546875  0.009375   0.50520833]\n",
      " [0.4609375  0.175      0.16770833]\n",
      " [0.484375   0.16979167 0.11979167]\n",
      " [0.5625     0.153125   0.04166667]\n",
      " [0.5234375  0.01666667 0.196875  ]\n",
      " [0.578125   0.18020833 0.11458333]\n",
      " [0.4453125  0.         0.53958333]\n",
      " [0.5625     0.05416667 0.06875   ]], shape=(10, 3), dtype=float64)\n",
      "\n",
      "target: {'pitch': <tf.Tensor: shape=(), dtype=float64, numpy=59.0>, 'step': <tf.Tensor: shape=(), dtype=float64, numpy=0.008333333333333304>, 'duration': <tf.Tensor: shape=(), dtype=float64, numpy=0.15937500000000027>}\n"
     ]
    }
   ],
   "source": [
    "for seq, target in seq_ds.take(1):\n",
    "  print('sequence shape:', seq.shape)\n",
    "  print('sequence elements (first 10):', seq[0: 10])\n",
    "  print()\n",
    "  print('target:', target)"
   ]
  },
  {
   "cell_type": "code",
   "execution_count": 20,
   "metadata": {
    "id": "0aIP4RznGvbG"
   },
   "outputs": [],
   "source": [
    "batch_size = 64 \n",
    "buffer_size = n_notes - seq_length  # the number of items in the dataset\n",
    "train_ds = (seq_ds\n",
    "            .shuffle(buffer_size)\n",
    "            .batch(batch_size, drop_remainder=True)\n",
    "            .cache()\n",
    "            .prefetch(tf.data.experimental.AUTOTUNE))"
   ]
  },
  {
   "cell_type": "code",
   "execution_count": 21,
   "metadata": {
    "colab": {
     "base_uri": "https://localhost:8080/"
    },
    "id": "-kRGuubgGyh2",
    "outputId": "47040014-5b4d-42f7-b495-821f2faf8be9"
   },
   "outputs": [
    {
     "data": {
      "text/plain": [
       "(TensorSpec(shape=(64, 25, 3), dtype=tf.float64, name=None),\n",
       " {'pitch': TensorSpec(shape=(64,), dtype=tf.float64, name=None),\n",
       "  'step': TensorSpec(shape=(64,), dtype=tf.float64, name=None),\n",
       "  'duration': TensorSpec(shape=(64,), dtype=tf.float64, name=None)})"
      ]
     },
     "execution_count": 21,
     "metadata": {},
     "output_type": "execute_result"
    }
   ],
   "source": [
    "train_ds.element_spec"
   ]
  },
  {
   "cell_type": "code",
   "execution_count": 25,
   "metadata": {
    "id": "ipom5_npG0NB"
   },
   "outputs": [],
   "source": [
    "def mse_with_positive_pressure(y_true: tf.Tensor, y_pred: tf.Tensor):\n",
    "  mse = (y_true - y_pred) ** 2\n",
    "  positive_pressure = 10 * tf.maximum(-y_pred, 0.0)\n",
    "  return tf.reduce_mean(mse + positive_pressure)"
   ]
  },
  {
   "cell_type": "code",
   "execution_count": 23,
   "metadata": {
    "colab": {
     "base_uri": "https://localhost:8080/"
    },
    "id": "j_peopaNG_GM",
    "outputId": "1e9ef536-0b68-4a8d-910c-e733b604ee7a"
   },
   "outputs": [
    {
     "name": "stdout",
     "output_type": "stream",
     "text": [
      "Model: \"model\"\n",
      "__________________________________________________________________________________________________\n",
      " Layer (type)                   Output Shape         Param #     Connected to                     \n",
      "==================================================================================================\n",
      " input_1 (InputLayer)           [(None, 25, 3)]      0           []                               \n",
      "                                                                                                  \n",
      " lstm (LSTM)                    (None, 128)          67584       ['input_1[0][0]']                \n",
      "                                                                                                  \n",
      " duration (Dense)               (None, 1)            129         ['lstm[0][0]']                   \n",
      "                                                                                                  \n",
      " pitch (Dense)                  (None, 128)          16512       ['lstm[0][0]']                   \n",
      "                                                                                                  \n",
      " step (Dense)                   (None, 1)            129         ['lstm[0][0]']                   \n",
      "                                                                                                  \n",
      "==================================================================================================\n",
      "Total params: 84,354\n",
      "Trainable params: 84,354\n",
      "Non-trainable params: 0\n",
      "__________________________________________________________________________________________________\n"
     ]
    }
   ],
   "source": [
    "input_shape = (seq_length, 3)\n",
    "learning_rate = 0.005 #0.005 PC\n",
    "\n",
    "inputs = tf.keras.Input(input_shape)\n",
    "x = tf.keras.layers.LSTM(128)(inputs)\n",
    "\n",
    "outputs = {\n",
    "  'pitch': tf.keras.layers.Dense(128, name='pitch')(x),   #128, name='pitch')(x),  PC\n",
    "  'step': tf.keras.layers.Dense(1, name='step')(x),\n",
    "  'duration': tf.keras.layers.Dense(1, name='duration')(x),\n",
    "}\n",
    "\n",
    "model = tf.keras.Model(inputs, outputs)\n",
    "\n",
    "loss = {\n",
    "      'pitch': tf.keras.losses.SparseCategoricalCrossentropy(\n",
    "          from_logits=True),\n",
    "      'step': mse_with_positive_pressure,\n",
    "      'duration': mse_with_positive_pressure,\n",
    "}\n",
    "\n",
    "optimizer = tf.keras.optimizers.Adam(learning_rate=learning_rate)\n",
    "\n",
    "model.compile(loss=loss, optimizer=optimizer)\n",
    "\n",
    "model.summary()"
   ]
  },
  {
   "cell_type": "code",
   "execution_count": 24,
   "metadata": {
    "colab": {
     "base_uri": "https://localhost:8080/"
    },
    "id": "e9YrBI96HB0x",
    "outputId": "b35ab379-23c1-4dbd-d328-c1598157332f"
   },
   "outputs": [
    {
     "name": "stdout",
     "output_type": "stream",
     "text": [
      "581/581 [==============================] - 8s 9ms/step - loss: 6.1394 - duration_loss: 0.6213 - pitch_loss: 4.8522 - step_loss: 0.6660\n"
     ]
    },
    {
     "data": {
      "text/plain": [
       "{'loss': 6.139431953430176,\n",
       " 'duration_loss': 0.6212659478187561,\n",
       " 'pitch_loss': 4.852213382720947,\n",
       " 'step_loss': 0.6659562587738037}"
      ]
     },
     "execution_count": 24,
     "metadata": {},
     "output_type": "execute_result"
    }
   ],
   "source": [
    "losses = model.evaluate(train_ds, return_dict=True)\n",
    "losses"
   ]
  },
  {
   "cell_type": "code",
   "execution_count": 30,
   "metadata": {
    "id": "CcLcIwTGHENf"
   },
   "outputs": [],
   "source": [
    "model.compile(\n",
    "    loss=loss,\n",
    "    loss_weights={\n",
    "        'pitch': 0.05,\n",
    "        'step': 1.0,\n",
    "        'duration':1.0,\n",
    "    },\n",
    "    optimizer=optimizer,\n",
    "    metrics = [\"accuracy\"]\n",
    ")"
   ]
  },
  {
   "cell_type": "code",
   "execution_count": 35,
   "metadata": {
    "colab": {
     "base_uri": "https://localhost:8080/"
    },
    "id": "oGnlOvaqHFvp",
    "outputId": "68a733a2-e764-4b80-b8c8-235fa1058a74"
   },
   "outputs": [
    {
     "name": "stdout",
     "output_type": "stream",
     "text": [
      "581/581 [==============================] - 5s 9ms/step - loss: 0.2619 - duration_loss: 0.0702 - pitch_loss: 3.2146 - step_loss: 0.0309 - duration_accuracy: 2.6893e-05 - pitch_accuracy: 0.1359 - step_accuracy: 0.0237\n"
     ]
    },
    {
     "data": {
      "text/plain": [
       "{'loss': 0.2618730068206787,\n",
       " 'duration_loss': 0.07019522786140442,\n",
       " 'pitch_loss': 3.2146286964416504,\n",
       " 'step_loss': 0.03094622679054737,\n",
       " 'duration_accuracy': 2.689328721316997e-05,\n",
       " 'pitch_accuracy': 0.13586488366127014,\n",
       " 'step_accuracy': 0.023719878867268562}"
      ]
     },
     "execution_count": 35,
     "metadata": {},
     "output_type": "execute_result"
    }
   ],
   "source": [
    "model.evaluate(train_ds, return_dict=True)"
   ]
  },
  {
   "cell_type": "code",
   "execution_count": 36,
   "metadata": {
    "id": "MPFA6o8AHG0Q"
   },
   "outputs": [],
   "source": [
    "callbacks = [\n",
    "    tf.keras.callbacks.ModelCheckpoint(\n",
    "        filepath='./training_checkpoints/ckpt_{epoch}',\n",
    "        save_weights_only=True),\n",
    "    tf.keras.callbacks.EarlyStopping(\n",
    "        monitor='loss',\n",
    "        patience=3,\n",
    "        verbose=1,\n",
    "        restore_best_weights=True),\n",
    "]"
   ]
  },
  {
   "cell_type": "code",
   "execution_count": 37,
   "metadata": {
    "colab": {
     "base_uri": "https://localhost:8080/"
    },
    "id": "uVisKlitHJBV",
    "outputId": "2f8f9bcf-9db7-4d49-b92b-2be4eb770c90"
   },
   "outputs": [
    {
     "name": "stdout",
     "output_type": "stream",
     "text": [
      "Epoch 1/150\n",
      "581/581 [==============================] - 14s 22ms/step - loss: 0.2632 - duration_loss: 0.0715 - pitch_loss: 3.2182 - step_loss: 0.0308 - duration_accuracy: 2.6893e-05 - pitch_accuracy: 0.1358 - step_accuracy: 0.0238\n",
      "Epoch 2/150\n",
      "581/581 [==============================] - 14s 24ms/step - loss: 0.2569 - duration_loss: 0.0692 - pitch_loss: 3.1858 - step_loss: 0.0284 - duration_accuracy: 2.6893e-05 - pitch_accuracy: 0.1422 - step_accuracy: 0.0238\n",
      "Epoch 3/150\n",
      "581/581 [==============================] - 14s 23ms/step - loss: 0.2588 - duration_loss: 0.0672 - pitch_loss: 3.2037 - step_loss: 0.0314 - duration_accuracy: 2.6893e-05 - pitch_accuracy: 0.1399 - step_accuracy: 0.0238\n",
      "Epoch 4/150\n",
      "581/581 [==============================] - 14s 24ms/step - loss: 0.2544 - duration_loss: 0.0651 - pitch_loss: 3.2094 - step_loss: 0.0288 - duration_accuracy: 2.6893e-05 - pitch_accuracy: 0.1359 - step_accuracy: 0.0238\n",
      "Epoch 5/150\n",
      "581/581 [==============================] - 14s 23ms/step - loss: 0.2542 - duration_loss: 0.0647 - pitch_loss: 3.2505 - step_loss: 0.0270 - duration_accuracy: 2.6893e-05 - pitch_accuracy: 0.1306 - step_accuracy: 0.0238\n",
      "Epoch 6/150\n",
      "581/581 [==============================] - 13s 23ms/step - loss: 0.2540 - duration_loss: 0.0641 - pitch_loss: 3.2678 - step_loss: 0.0265 - duration_accuracy: 2.6893e-05 - pitch_accuracy: 0.1256 - step_accuracy: 0.0239\n",
      "Epoch 7/150\n",
      "581/581 [==============================] - 15s 25ms/step - loss: 0.2530 - duration_loss: 0.0614 - pitch_loss: 3.2690 - step_loss: 0.0282 - duration_accuracy: 2.6893e-05 - pitch_accuracy: 0.1250 - step_accuracy: 0.0238\n",
      "Epoch 8/150\n",
      "581/581 [==============================] - 15s 25ms/step - loss: 0.2474 - duration_loss: 0.0580 - pitch_loss: 3.2703 - step_loss: 0.0259 - duration_accuracy: 2.6893e-05 - pitch_accuracy: 0.1250 - step_accuracy: 0.0238\n",
      "Epoch 9/150\n",
      "581/581 [==============================] - 15s 27ms/step - loss: 0.2439 - duration_loss: 0.0558 - pitch_loss: 3.2697 - step_loss: 0.0247 - duration_accuracy: 2.6893e-05 - pitch_accuracy: 0.1237 - step_accuracy: 0.0238\n",
      "Epoch 10/150\n",
      "581/581 [==============================] - 16s 27ms/step - loss: 0.2419 - duration_loss: 0.0552 - pitch_loss: 3.2896 - step_loss: 0.0222 - duration_accuracy: 2.6893e-05 - pitch_accuracy: 0.1210 - step_accuracy: 0.0238\n",
      "Epoch 11/150\n",
      "581/581 [==============================] - 16s 27ms/step - loss: 0.2403 - duration_loss: 0.0541 - pitch_loss: 3.2961 - step_loss: 0.0214 - duration_accuracy: 2.6893e-05 - pitch_accuracy: 0.1200 - step_accuracy: 0.0238\n",
      "Epoch 12/150\n",
      "581/581 [==============================] - 14s 25ms/step - loss: 0.2368 - duration_loss: 0.0516 - pitch_loss: 3.2856 - step_loss: 0.0210 - duration_accuracy: 2.6893e-05 - pitch_accuracy: 0.1206 - step_accuracy: 0.0238\n",
      "Epoch 13/150\n",
      "581/581 [==============================] - 16s 27ms/step - loss: 0.2339 - duration_loss: 0.0498 - pitch_loss: 3.2726 - step_loss: 0.0204 - duration_accuracy: 2.6893e-05 - pitch_accuracy: 0.1238 - step_accuracy: 0.0237\n",
      "Epoch 14/150\n",
      "581/581 [==============================] - 14s 24ms/step - loss: 0.2324 - duration_loss: 0.0487 - pitch_loss: 3.2933 - step_loss: 0.0190 - duration_accuracy: 2.6893e-05 - pitch_accuracy: 0.1205 - step_accuracy: 0.0237\n",
      "Epoch 15/150\n",
      "581/581 [==============================] - 13s 23ms/step - loss: 0.2388 - duration_loss: 0.0537 - pitch_loss: 3.3178 - step_loss: 0.0193 - duration_accuracy: 0.0000e+00 - pitch_accuracy: 0.1174 - step_accuracy: 0.0238\n",
      "Epoch 16/150\n",
      "581/581 [==============================] - 15s 25ms/step - loss: 0.2276 - duration_loss: 0.0463 - pitch_loss: 3.2693 - step_loss: 0.0178 - duration_accuracy: 2.6893e-05 - pitch_accuracy: 0.1228 - step_accuracy: 0.0238\n",
      "Epoch 17/150\n",
      "581/581 [==============================] - 14s 24ms/step - loss: 0.2339 - duration_loss: 0.0485 - pitch_loss: 3.2859 - step_loss: 0.0211 - duration_accuracy: 2.6893e-05 - pitch_accuracy: 0.1235 - step_accuracy: 0.0239\n",
      "Epoch 18/150\n",
      "581/581 [==============================] - 16s 27ms/step - loss: 0.2305 - duration_loss: 0.0475 - pitch_loss: 3.2777 - step_loss: 0.0191 - duration_accuracy: 2.6893e-05 - pitch_accuracy: 0.1233 - step_accuracy: 0.0238\n",
      "Epoch 19/150\n",
      "581/581 [==============================] - 15s 26ms/step - loss: 0.2275 - duration_loss: 0.0462 - pitch_loss: 3.2533 - step_loss: 0.0186 - duration_accuracy: 2.6893e-05 - pitch_accuracy: 0.1257 - step_accuracy: 0.0238\n",
      "Epoch 20/150\n",
      "581/581 [==============================] - 15s 26ms/step - loss: 0.2181 - duration_loss: 0.0404 - pitch_loss: 3.2407 - step_loss: 0.0157 - duration_accuracy: 2.6893e-05 - pitch_accuracy: 0.1278 - step_accuracy: 0.0238\n",
      "Epoch 21/150\n",
      "581/581 [==============================] - 14s 25ms/step - loss: 0.2130 - duration_loss: 0.0380 - pitch_loss: 3.2133 - step_loss: 0.0143 - duration_accuracy: 2.6893e-05 - pitch_accuracy: 0.1334 - step_accuracy: 0.0238\n",
      "Epoch 22/150\n",
      "581/581 [==============================] - 14s 24ms/step - loss: 0.2155 - duration_loss: 0.0379 - pitch_loss: 3.2221 - step_loss: 0.0165 - duration_accuracy: 2.6893e-05 - pitch_accuracy: 0.1316 - step_accuracy: 0.0238\n",
      "Epoch 23/150\n",
      "581/581 [==============================] - 14s 24ms/step - loss: 0.2194 - duration_loss: 0.0415 - pitch_loss: 3.2628 - step_loss: 0.0147 - duration_accuracy: 2.6893e-05 - pitch_accuracy: 0.1240 - step_accuracy: 0.0238\n",
      "Epoch 24/150\n",
      "581/581 [==============================] - ETA: 0s - loss: 0.2165 - duration_loss: 0.0407 - pitch_loss: 3.2389 - step_loss: 0.0138 - duration_accuracy: 2.6893e-05 - pitch_accuracy: 0.1266 - step_accuracy: 0.0238Restoring model weights from the end of the best epoch: 21.\n",
      "581/581 [==============================] - 14s 24ms/step - loss: 0.2165 - duration_loss: 0.0407 - pitch_loss: 3.2389 - step_loss: 0.0138 - duration_accuracy: 2.6893e-05 - pitch_accuracy: 0.1266 - step_accuracy: 0.0238\n",
      "Epoch 24: early stopping\n",
      "CPU times: total: 22min 39s\n",
      "Wall time: 5min 47s\n"
     ]
    }
   ],
   "source": [
    "%%time\n",
    "epochs = 150\n",
    "\n",
    "history = model.fit(\n",
    "    train_ds,\n",
    "    epochs=epochs,\n",
    "    callbacks=callbacks,\n",
    ")"
   ]
  },
  {
   "cell_type": "code",
   "execution_count": 38,
   "metadata": {
    "colab": {
     "base_uri": "https://localhost:8080/",
     "height": 430
    },
    "id": "vGNkR5eFHLPE",
    "outputId": "95db9439-daee-4ff9-9385-4b306a6950d3"
   },
   "outputs": [
    {
     "data": {
      "image/png": "[encoded data removed]",
      "text/plain": [
       "<Figure size 640x480 with 1 Axes>"
      ]
     },
     "metadata": {},
     "output_type": "display_data"
    }
   ],
   "source": [
    "plt.plot(history.epoch, history.history['loss'], label='total loss')\n",
    "plt.show()"
   ]
  },
  {
   "cell_type": "code",
   "execution_count": 39,
   "metadata": {
    "id": "9byQn9yTHM2M"
   },
   "outputs": [],
   "source": [
    "def predict_next_note(\n",
    "    notes: np.ndarray, \n",
    "    keras_model: tf.keras.Model, \n",
    "    temperature: float = 1.0) -> int:\n",
    "  \"\"\"Generates a note IDs using a trained sequence model.\"\"\"\n",
    "\n",
    "  assert temperature > 0\n",
    "\n",
    "  # Add batch dimension\n",
    "  inputs = tf.expand_dims(notes, 0)\n",
    "\n",
    "  predictions = model.predict(inputs)\n",
    "  pitch_logits = predictions['pitch']\n",
    "  step = predictions['step']\n",
    "  duration = predictions['duration']\n",
    "\n",
    "  pitch_logits /= temperature\n",
    "  pitch = tf.random.categorical(pitch_logits, num_samples=1)\n",
    "  pitch = tf.squeeze(pitch, axis=-1)\n",
    "  duration = tf.squeeze(duration, axis=-1)\n",
    "  step = tf.squeeze(step, axis=-1)\n",
    "\n",
    "  # `step` and `duration` values should be non-negative\n",
    "  step = tf.maximum(0, step)\n",
    "  duration = tf.maximum(0, duration)\n",
    "\n",
    "  return int(pitch), float(step), float(duration)"
   ]
  },
  {
   "cell_type": "code",
   "execution_count": 40,
   "metadata": {
    "colab": {
     "base_uri": "https://localhost:8080/"
    },
    "id": "cUAbT-9PHSID",
    "outputId": "a2a0de98-d6cf-40a8-e15c-548c86eeaf1a"
   },
   "outputs": [
    {
     "name": "stdout",
     "output_type": "stream",
     "text": [
      "1/1 [==============================] - 0s 337ms/step\n",
      "26\n",
      "56\n",
      "1/1 [==============================] - 0s 292ms/step\n",
      "27\n",
      "76\n",
      "1/1 [==============================] - 0s 17ms/step\n",
      "28\n",
      "72\n",
      "1/1 [==============================] - 0s 18ms/step\n",
      "29\n",
      "54\n",
      "1/1 [==============================] - 0s 17ms/step\n",
      "30\n",
      "59\n",
      "1/1 [==============================] - 0s 16ms/step\n",
      "31\n",
      "55\n",
      "1/1 [==============================] - 0s 17ms/step\n",
      "32\n",
      "48\n",
      "1/1 [==============================] - 0s 15ms/step\n",
      "33\n",
      "58\n",
      "1/1 [==============================] - 0s 28ms/step\n",
      "34\n",
      "40\n",
      "1/1 [==============================] - 0s 16ms/step\n",
      "35\n",
      "57\n",
      "1/1 [==============================] - 0s 15ms/step\n",
      "36\n",
      "52\n",
      "1/1 [==============================] - 0s 15ms/step\n",
      "37\n",
      "48\n",
      "1/1 [==============================] - 0s 18ms/step\n",
      "38\n",
      "62\n",
      "1/1 [==============================] - 0s 17ms/step\n",
      "1/1 [==============================] - 0s 16ms/step\n",
      "39\n",
      "64\n",
      "1/1 [==============================] - 0s 15ms/step\n",
      "40\n",
      "59\n"
     ]
    }
   ],
   "source": [
    "temperature = 2\n",
    "num_predictions = 15\n",
    "\n",
    "sample_notes = np.stack([raw_notes[key] for key in key_order], axis=1)\n",
    "\n",
    "# The initial sequence of notes; pitch is normalized similar to training\n",
    "# sequences\n",
    "\n",
    "#Duration and step is set to 0.5 as the model fails to create non-zero values for these.\n",
    "dur = 0.25\n",
    "stp = 0.25\n",
    "\n",
    "#input_notes = (sample_notes[:seq_length] / np.array([vocab_size, 1, 1]))\n",
    "\n",
    "#Create your own input!\n",
    "input_notes = ([(66, 0, dur), (66, stp, dur), (66, stp, dur), (67, stp, dur), (68, stp, dur), \n",
    "                (64, 0, dur), (66, stp, dur), (64, stp, dur), (63, stp, dur), (65, stp, dur),\n",
    "                (64, 0, dur), (66, stp, dur), (64, stp, dur), (63, stp, dur), (65, stp, dur), \n",
    "                (64, 0, dur), (66, stp, dur), (64, stp, dur), (63, stp, dur), (65, stp, dur),\n",
    "                (64, 0, dur), (66, stp, dur), (64, stp, dur), (63, stp, dur), (65, stp, dur)])\n",
    "\n",
    "generated_notes = []\n",
    "new_notes = []\n",
    "prev_start = 0\n",
    "\n",
    "#Adding the input to generated notes\n",
    "for i in input_notes:\n",
    "  \n",
    "  duration = dur # TODO! CHANGE\n",
    "  step = stp     # TODO! CHANGE\n",
    "  start = prev_start + step\n",
    "  end = start + duration\n",
    "  generated_notes.append((i[0], step, duration, start, end))\n",
    "  prev_start = start\n",
    "\n",
    "for _ in range(num_predictions):\n",
    "  pitch = -1\n",
    "  while (pitch < 40 or pitch > 80): #Filters out \"Impossible\" notes\n",
    "    pitch, step, duration = predict_next_note(input_notes, model, temperature)\n",
    "  #Duration and step is set to 0.5 as the model fails to create non-zero values for these.\n",
    "  #duration = dur # TODO! CHANGE\n",
    "  step = duration     # TODO! CHANGE\n",
    "  start = prev_start + step\n",
    "  end = start + duration\n",
    "  input_note = (pitch, step, duration)\n",
    "  generated_notes.append((*input_note, start, end))\n",
    "  new_notes.append((*input_note, start, end))\n",
    "  input_notes = np.delete(input_notes, 0, axis=0)\n",
    "  input_notes = np.append(input_notes, np.expand_dims(input_note, 0), axis=0)\n",
    "  print(len(generated_notes))\n",
    "  print(pitch)\n",
    "  prev_start = start\n",
    "\n",
    "generated_notes = pd.DataFrame(\n",
    "    generated_notes, columns=(*key_order, 'start', 'end'))\n",
    "new_notes = pd.DataFrame(\n",
    "    new_notes, columns=(*key_order, 'start', 'end'))"
   ]
  },
  {
   "cell_type": "code",
   "execution_count": 41,
   "metadata": {
    "colab": {
     "base_uri": "https://localhost:8080/",
     "height": 520
    },
    "id": "Abs0k7sDHVFY",
    "outputId": "d43c3362-ba52-4e1b-c81a-d6f63845b118"
   },
   "outputs": [
    {
     "data": {
      "text/html": [
       "<div>\n",
       "<style scoped>\n",
       "    .dataframe tbody tr th:only-of-type {\n",
       "        vertical-align: middle;\n",
       "    }\n",
       "\n",
       "    .dataframe tbody tr th {\n",
       "        vertical-align: top;\n",
       "    }\n",
       "\n",
       "    .dataframe thead th {\n",
       "        text-align: right;\n",
       "    }\n",
       "</style>\n",
       "<table border=\"1\" class=\"dataframe\">\n",
       "  <thead>\n",
       "    <tr style=\"text-align: right;\">\n",
       "      <th></th>\n",
       "      <th>pitch</th>\n",
       "      <th>step</th>\n",
       "      <th>duration</th>\n",
       "      <th>start</th>\n",
       "      <th>end</th>\n",
       "    </tr>\n",
       "  </thead>\n",
       "  <tbody>\n",
       "    <tr>\n",
       "      <th>0</th>\n",
       "      <td>56</td>\n",
       "      <td>0.067822</td>\n",
       "      <td>0.067822</td>\n",
       "      <td>6.317822</td>\n",
       "      <td>6.385644</td>\n",
       "    </tr>\n",
       "    <tr>\n",
       "      <th>1</th>\n",
       "      <td>76</td>\n",
       "      <td>0.071846</td>\n",
       "      <td>0.071846</td>\n",
       "      <td>6.389668</td>\n",
       "      <td>6.461514</td>\n",
       "    </tr>\n",
       "    <tr>\n",
       "      <th>2</th>\n",
       "      <td>72</td>\n",
       "      <td>0.064022</td>\n",
       "      <td>0.064022</td>\n",
       "      <td>6.453690</td>\n",
       "      <td>6.517712</td>\n",
       "    </tr>\n",
       "    <tr>\n",
       "      <th>3</th>\n",
       "      <td>54</td>\n",
       "      <td>0.065419</td>\n",
       "      <td>0.065419</td>\n",
       "      <td>6.519109</td>\n",
       "      <td>6.584529</td>\n",
       "    </tr>\n",
       "    <tr>\n",
       "      <th>4</th>\n",
       "      <td>59</td>\n",
       "      <td>0.073042</td>\n",
       "      <td>0.073042</td>\n",
       "      <td>6.592151</td>\n",
       "      <td>6.665193</td>\n",
       "    </tr>\n",
       "    <tr>\n",
       "      <th>5</th>\n",
       "      <td>55</td>\n",
       "      <td>0.069761</td>\n",
       "      <td>0.069761</td>\n",
       "      <td>6.661913</td>\n",
       "      <td>6.731674</td>\n",
       "    </tr>\n",
       "    <tr>\n",
       "      <th>6</th>\n",
       "      <td>48</td>\n",
       "      <td>0.072112</td>\n",
       "      <td>0.072112</td>\n",
       "      <td>6.734025</td>\n",
       "      <td>6.806137</td>\n",
       "    </tr>\n",
       "    <tr>\n",
       "      <th>7</th>\n",
       "      <td>58</td>\n",
       "      <td>0.076034</td>\n",
       "      <td>0.076034</td>\n",
       "      <td>6.810059</td>\n",
       "      <td>6.886093</td>\n",
       "    </tr>\n",
       "    <tr>\n",
       "      <th>8</th>\n",
       "      <td>40</td>\n",
       "      <td>0.070122</td>\n",
       "      <td>0.070122</td>\n",
       "      <td>6.880181</td>\n",
       "      <td>6.950302</td>\n",
       "    </tr>\n",
       "    <tr>\n",
       "      <th>9</th>\n",
       "      <td>57</td>\n",
       "      <td>0.081637</td>\n",
       "      <td>0.081637</td>\n",
       "      <td>6.961817</td>\n",
       "      <td>7.043454</td>\n",
       "    </tr>\n",
       "    <tr>\n",
       "      <th>10</th>\n",
       "      <td>52</td>\n",
       "      <td>0.070297</td>\n",
       "      <td>0.070297</td>\n",
       "      <td>7.032114</td>\n",
       "      <td>7.102411</td>\n",
       "    </tr>\n",
       "    <tr>\n",
       "      <th>11</th>\n",
       "      <td>48</td>\n",
       "      <td>0.073860</td>\n",
       "      <td>0.073860</td>\n",
       "      <td>7.105974</td>\n",
       "      <td>7.179834</td>\n",
       "    </tr>\n",
       "    <tr>\n",
       "      <th>12</th>\n",
       "      <td>62</td>\n",
       "      <td>0.075922</td>\n",
       "      <td>0.075922</td>\n",
       "      <td>7.181896</td>\n",
       "      <td>7.257819</td>\n",
       "    </tr>\n",
       "    <tr>\n",
       "      <th>13</th>\n",
       "      <td>64</td>\n",
       "      <td>0.068315</td>\n",
       "      <td>0.068315</td>\n",
       "      <td>7.250211</td>\n",
       "      <td>7.318526</td>\n",
       "    </tr>\n",
       "    <tr>\n",
       "      <th>14</th>\n",
       "      <td>59</td>\n",
       "      <td>0.067934</td>\n",
       "      <td>0.067934</td>\n",
       "      <td>7.318145</td>\n",
       "      <td>7.386080</td>\n",
       "    </tr>\n",
       "  </tbody>\n",
       "</table>\n",
       "</div>"
      ],
      "text/plain": [
       "    pitch      step  duration     start       end\n",
       "0      56  0.067822  0.067822  6.317822  6.385644\n",
       "1      76  0.071846  0.071846  6.389668  6.461514\n",
       "2      72  0.064022  0.064022  6.453690  6.517712\n",
       "3      54  0.065419  0.065419  6.519109  6.584529\n",
       "4      59  0.073042  0.073042  6.592151  6.665193\n",
       "5      55  0.069761  0.069761  6.661913  6.731674\n",
       "6      48  0.072112  0.072112  6.734025  6.806137\n",
       "7      58  0.076034  0.076034  6.810059  6.886093\n",
       "8      40  0.070122  0.070122  6.880181  6.950302\n",
       "9      57  0.081637  0.081637  6.961817  7.043454\n",
       "10     52  0.070297  0.070297  7.032114  7.102411\n",
       "11     48  0.073860  0.073860  7.105974  7.179834\n",
       "12     62  0.075922  0.075922  7.181896  7.257819\n",
       "13     64  0.068315  0.068315  7.250211  7.318526\n",
       "14     59  0.067934  0.067934  7.318145  7.386080"
      ]
     },
     "execution_count": 41,
     "metadata": {},
     "output_type": "execute_result"
    }
   ],
   "source": [
    "new_notes.head(15)"
   ]
  },
  {
   "cell_type": "code",
   "execution_count": 42,
   "metadata": {
    "id": "0fZHP1h-HYdE"
   },
   "outputs": [],
   "source": [
    "def notes_to_midi(\n",
    "  notes: pd.DataFrame,\n",
    "  out_file: str, \n",
    "  instrument_name: str,\n",
    "  velocity: int = 100,  # note loudness\n",
    ") -> pretty_midi.PrettyMIDI:\n",
    "\n",
    "  pm = pretty_midi.PrettyMIDI()\n",
    "  instrument = pretty_midi.Instrument(\n",
    "      program=pretty_midi.instrument_name_to_program(\n",
    "          instrument_name))\n",
    "\n",
    "  prev_start = 0\n",
    "  for i, note in notes.iterrows():\n",
    "    start = float(prev_start + note['step'])\n",
    "    end = float(start + note['duration'])\n",
    "    note = pretty_midi.Note(\n",
    "        velocity=velocity,\n",
    "        pitch=int(note['pitch']),\n",
    "        start=start,\n",
    "        end=end,\n",
    "    )\n",
    "    instrument.notes.append(note)\n",
    "    prev_start = start\n",
    "\n",
    "  pm.instruments.append(instrument)\n",
    "  pm.write(out_file)\n",
    "  return pm"
   ]
  },
  {
   "cell_type": "code",
   "execution_count": 43,
   "metadata": {
    "colab": {
     "base_uri": "https://localhost:8080/",
     "height": 17
    },
    "id": "_n8OR87IHWzD",
    "outputId": "ba9be2da-548b-431f-c81d-3fc04a8fd2b0"
   },
   "outputs": [
    {
     "ename": "ModuleNotFoundError",
     "evalue": "No module named 'google.colab'",
     "output_type": "error",
     "traceback": [
      "\u001b[1;31m---------------------------------------------------------------------------\u001b[0m",
      "\u001b[1;31mModuleNotFoundError\u001b[0m                       Traceback (most recent call last)",
      "Cell \u001b[1;32mIn[43], line 1\u001b[0m\n\u001b[1;32m----> 1\u001b[0m \u001b[38;5;28;01mfrom\u001b[39;00m \u001b[38;5;21;01mgoogle\u001b[39;00m\u001b[38;5;21;01m.\u001b[39;00m\u001b[38;5;21;01mcolab\u001b[39;00m \u001b[38;5;28;01mimport\u001b[39;00m files\n\u001b[0;32m      3\u001b[0m out_file \u001b[38;5;241m=\u001b[39m \u001b[38;5;124m'\u001b[39m\u001b[38;5;124moutput_En_Kr_A.mid\u001b[39m\u001b[38;5;124m'\u001b[39m\n\u001b[0;32m      4\u001b[0m out_pm \u001b[38;5;241m=\u001b[39m notes_to_midi(\n\u001b[0;32m      5\u001b[0m     generated_notes, out_file\u001b[38;5;241m=\u001b[39mout_file, instrument_name \u001b[38;5;241m=\u001b[39m \u001b[38;5;124m\"\u001b[39m\u001b[38;5;124mAcoustic Grand Piano\u001b[39m\u001b[38;5;124m\"\u001b[39m)\n",
      "\u001b[1;31mModuleNotFoundError\u001b[0m: No module named 'google.colab'"
     ]
    }
   ],
   "source": [
    "from google.colab import files\n",
    "\n",
    "out_file = 'output_En_Kr_A.mid'\n",
    "out_pm = notes_to_midi(\n",
    "    generated_notes, out_file=out_file, instrument_name = \"Acoustic Grand Piano\")\n",
    "files.download(out_file)"
   ]
  },
  {
   "cell_type": "code",
   "execution_count": null,
   "metadata": {
    "colab": {
     "base_uri": "https://localhost:8080/"
    },
    "id": "Vf_SiDAiHf4R",
    "outputId": "f61c4475-dddc-4d90-ebaf-5238db5b197a"
   },
   "outputs": [
    {
     "name": "stdout",
     "output_type": "stream",
     "text": [
      "[2 3 4 5 6]\n"
     ]
    }
   ],
   "source": [
    "import numpy as np\n",
    "\n",
    "input_notes = [1,2,3,4,5]\n",
    "input_note = 6\n",
    "\n",
    "input_notes = np.delete(input_notes, 0, axis=0)\n",
    "input_notes = np.append(input_notes, np.expand_dims(input_note, 0), axis=0)\n",
    "\n",
    "print(input_notes)"
   ]
  },
  {
   "cell_type": "code",
   "execution_count": null,
   "metadata": {
    "colab": {
     "base_uri": "https://localhost:8080/",
     "height": 1000
    },
    "id": "4RY4GoK0RZV3",
    "outputId": "31bd1e27-8f6e-40fe-bcf2-c830413f57ca"
   },
   "outputs": [
    {
     "name": "stdout",
     "output_type": "stream",
     "text": [
      "1/1 [==============================] - 0s 24ms/step\n",
      "1/1 [==============================] - 0s 22ms/step\n",
      "1/1 [==============================] - 0s 23ms/step\n",
      "1/1 [==============================] - 0s 22ms/step\n",
      "1/1 [==============================] - 0s 22ms/step\n",
      "1/1 [==============================] - 0s 23ms/step\n",
      "1/1 [==============================] - 0s 25ms/step\n",
      "1/1 [==============================] - 0s 26ms/step\n",
      "1/1 [==============================] - 0s 25ms/step\n",
      "1/1 [==============================] - 0s 26ms/step\n",
      "1/1 [==============================] - 0s 23ms/step\n",
      "1/1 [==============================] - 0s 26ms/step\n",
      "1/1 [==============================] - 0s 25ms/step\n",
      "1/1 [==============================] - 0s 25ms/step\n",
      "1/1 [==============================] - 0s 23ms/step\n",
      "1/1 [==============================] - 0s 26ms/step\n",
      "1/1 [==============================] - 0s 23ms/step\n",
      "1/1 [==============================] - 0s 27ms/step\n",
      "1/1 [==============================] - 0s 23ms/step\n",
      "1/1 [==============================] - 0s 26ms/step\n",
      "1/1 [==============================] - 0s 25ms/step\n",
      "1/1 [==============================] - 0s 23ms/step\n",
      "1/1 [==============================] - 0s 30ms/step\n",
      "1/1 [==============================] - 0s 39ms/step\n",
      "1/1 [==============================] - 0s 37ms/step\n",
      "1/1 [==============================] - 0s 38ms/step\n",
      "1/1 [==============================] - 0s 34ms/step\n",
      "1/1 [==============================] - 0s 32ms/step\n",
      "1/1 [==============================] - 0s 33ms/step\n",
      "1/1 [==============================] - 0s 33ms/step\n",
      "1/1 [==============================] - 0s 33ms/step\n",
      "1/1 [==============================] - 0s 37ms/step\n",
      "1/1 [==============================] - 0s 33ms/step\n",
      "1/1 [==============================] - 0s 32ms/step\n",
      "1/1 [==============================] - 0s 34ms/step\n",
      "1/1 [==============================] - 0s 33ms/step\n",
      "1/1 [==============================] - 0s 33ms/step\n",
      "1/1 [==============================] - 0s 40ms/step\n",
      "1/1 [==============================] - 0s 34ms/step\n",
      "1/1 [==============================] - 0s 37ms/step\n",
      "1/1 [==============================] - 0s 36ms/step\n",
      "1/1 [==============================] - 0s 37ms/step\n",
      "1/1 [==============================] - 0s 35ms/step\n",
      "1/1 [==============================] - 0s 36ms/step\n",
      "1/1 [==============================] - 0s 38ms/step\n",
      "1/1 [==============================] - 0s 37ms/step\n",
      "1/1 [==============================] - 0s 36ms/step\n",
      "1/1 [==============================] - 0s 36ms/step\n",
      "1/1 [==============================] - 0s 36ms/step\n",
      "1/1 [==============================] - 0s 34ms/step\n",
      "1/1 [==============================] - 0s 32ms/step\n",
      "1/1 [==============================] - 0s 35ms/step\n",
      "1/1 [==============================] - 0s 36ms/step\n",
      "1/1 [==============================] - 0s 34ms/step\n",
      "1/1 [==============================] - 0s 33ms/step\n",
      "1/1 [==============================] - 0s 39ms/step\n",
      "1/1 [==============================] - 0s 37ms/step\n",
      "1/1 [==============================] - 0s 37ms/step\n",
      "1/1 [==============================] - 0s 35ms/step\n",
      "1/1 [==============================] - 0s 35ms/step\n",
      "1/1 [==============================] - 0s 35ms/step\n",
      "1/1 [==============================] - 0s 41ms/step\n",
      "1/1 [==============================] - 0s 25ms/step\n",
      "1/1 [==============================] - 0s 22ms/step\n",
      "1/1 [==============================] - 0s 22ms/step\n",
      "1/1 [==============================] - 0s 23ms/step\n",
      "1/1 [==============================] - 0s 23ms/step\n",
      "1/1 [==============================] - 0s 28ms/step\n",
      "1/1 [==============================] - 0s 33ms/step\n",
      "1/1 [==============================] - 0s 22ms/step\n",
      "1/1 [==============================] - 0s 24ms/step\n",
      "1/1 [==============================] - 0s 25ms/step\n",
      "1/1 [==============================] - 0s 23ms/step\n",
      "1/1 [==============================] - 0s 25ms/step\n",
      "1/1 [==============================] - 0s 25ms/step\n",
      "1/1 [==============================] - 0s 25ms/step\n",
      "1/1 [==============================] - 0s 23ms/step\n",
      "1/1 [==============================] - 0s 22ms/step\n",
      "1/1 [==============================] - 0s 26ms/step\n",
      "1/1 [==============================] - 0s 28ms/step\n",
      "1/1 [==============================] - 0s 24ms/step\n",
      "1/1 [==============================] - 0s 23ms/step\n",
      "1/1 [==============================] - 0s 22ms/step\n",
      "1/1 [==============================] - 0s 25ms/step\n",
      "1/1 [==============================] - 0s 28ms/step\n",
      "1/1 [==============================] - 0s 24ms/step\n",
      "1/1 [==============================] - 0s 23ms/step\n",
      "1/1 [==============================] - 0s 29ms/step\n",
      "1/1 [==============================] - 0s 24ms/step\n",
      "1/1 [==============================] - 0s 27ms/step\n",
      "1/1 [==============================] - 0s 24ms/step\n",
      "1/1 [==============================] - 0s 23ms/step\n",
      "1/1 [==============================] - 0s 22ms/step\n",
      "1/1 [==============================] - 0s 25ms/step\n",
      "1/1 [==============================] - 0s 23ms/step\n",
      "1/1 [==============================] - 0s 26ms/step\n",
      "1/1 [==============================] - 0s 32ms/step\n",
      "1/1 [==============================] - 0s 22ms/step\n",
      "1/1 [==============================] - 0s 26ms/step\n",
      "1/1 [==============================] - 0s 28ms/step\n",
      "1/1 [==============================] - 0s 24ms/step\n",
      "1/1 [==============================] - 0s 23ms/step\n",
      "1/1 [==============================] - 0s 22ms/step\n",
      "1/1 [==============================] - 0s 22ms/step\n",
      "1/1 [==============================] - 0s 23ms/step\n",
      "1/1 [==============================] - 0s 24ms/step\n",
      "1/1 [==============================] - 0s 24ms/step\n",
      "1/1 [==============================] - 0s 26ms/step\n",
      "1/1 [==============================] - 0s 22ms/step\n",
      "1/1 [==============================] - 0s 27ms/step\n",
      "1/1 [==============================] - 0s 23ms/step\n",
      "1/1 [==============================] - 0s 25ms/step\n",
      "1/1 [==============================] - 0s 25ms/step\n",
      "1/1 [==============================] - 0s 22ms/step\n",
      "1/1 [==============================] - 0s 25ms/step\n",
      "1/1 [==============================] - 0s 26ms/step\n",
      "1/1 [==============================] - 0s 25ms/step\n",
      "1/1 [==============================] - 0s 24ms/step\n",
      "1/1 [==============================] - 0s 24ms/step\n",
      "1/1 [==============================] - 0s 26ms/step\n",
      "0\n"
     ]
    },
    {
     "data": {
      "image/png": "[encoded data removed]",
      "text/plain": [
       "<Figure size 1500x500 with 3 Axes>"
      ]
     },
     "metadata": {},
     "output_type": "display_data"
    }
   ],
   "source": [
    "sample_notes = np.stack([raw_notes[key] for key in key_order], axis=1)\n",
    "input_notes = (\n",
    "    sample_notes[:seq_length] / np.array([vocab_size, 1, 1]))\n",
    "temperature = 2\n",
    "generated_notes = []\n",
    "c = 0\n",
    "for _ in range(120):\n",
    "\n",
    "  pitch = -1\n",
    "  #while (pitch < 50 or pitch > 80): #Filters out \"Impossible\" notes\n",
    "  pitch, step, duration = predict_next_note(input_notes, model, temperature)\n",
    "  #c += 1\n",
    "  #Duration and step is set to 0.5 as the model fails to create non-zero values for these.\n",
    "  #duration = dur # TODO! CHANGE\n",
    " # step = duration     # TODO! CHANGE\n",
    "  start = prev_start + step\n",
    "  end = start + duration\n",
    "  input_note = (pitch, step, duration)\n",
    "  generated_notes.append((*input_note, start, end))\n",
    "  input_notes = np.delete(input_notes, 0, axis=0)\n",
    "  input_notes = np.append(input_notes, np.expand_dims(input_note, 0), axis=0)\n",
    "  prev_start = start\n",
    "\n",
    "generated_notes = pd.DataFrame(\n",
    "    generated_notes, columns=(*key_order, 'start', 'end'))\n",
    "plot_distributions(generated_notes)\n",
    "\n",
    "print(c)\n"
   ]
  },
  {
   "cell_type": "code",
   "execution_count": null,
   "metadata": {
    "colab": {
     "base_uri": "https://localhost:8080/",
     "height": 470
    },
    "id": "WHwG9uJzQPZe",
    "outputId": "a43b6a99-f0c1-4396-898e-e65afb2ee6df"
   },
   "outputs": [
    {
     "data": {
      "image/png": "[encoded data removed]",
      "text/plain": [
       "<Figure size 1500x500 with 3 Axes>"
      ]
     },
     "metadata": {},
     "output_type": "display_data"
    }
   ],
   "source": [
    "plot_distributions(all_notes)"
   ]
  },
  {
   "cell_type": "code",
   "execution_count": null,
   "metadata": {
    "id": "J8CZn-bW-xsl"
   },
   "outputs": [],
   "source": [
    "model.save('/content/saved_model/model_En_Kr_A', save_format='h5')"
   ]
  }
 ],
 "metadata": {
  "colab": {
   "include_colab_link": true,
   "provenance": []
  },
  "kernelspec": {
   "display_name": "Python 3 (ipykernel)",
   "language": "python",
   "name": "python3"
  },
  "language_info": {
   "codemirror_mode": {
    "name": "ipython",
    "version": 3
   },
   "file_extension": ".py",
   "mimetype": "text/x-python",
   "name": "python",
   "nbconvert_exporter": "python",
   "pygments_lexer": "ipython3",
   "version": "3.10.9"
  }
 },
 "nbformat": 4,
 "nbformat_minor": 1
}
